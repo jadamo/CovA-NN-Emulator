{
 "cells": [
  {
   "cell_type": "markdown",
   "metadata": {},
   "source": [
    "This notebook uses the covariance matrix emulator presented by Tom McClintock ([https://github.com/tmcclintock/covariance_emulator](https://github.com/tmcclintock/covariance_emulator))"
   ]
  },
  {
   "cell_type": "code",
   "execution_count": 31,
   "metadata": {},
   "outputs": [],
   "source": [
    "import numpy as np\n",
    "import torch\n",
    "import matplotlib.pyplot as plt\n",
    "import george\n",
    "import covariance_emulator as ce\n",
    "import time, sys\n",
    "\n",
    "sys.path.insert(1, '/home/jadamo/CovA-NN-Emulator')\n",
    "from CovNet import MatrixDataset, symmetric_log, symmetric_exp, try_gpu\n",
    "%matplotlib inline\n",
    "plt.rcParams['figure.facecolor'] = 'white'"
   ]
  },
  {
   "cell_type": "code",
   "execution_count": 18,
   "metadata": {},
   "outputs": [],
   "source": [
    "PCA_dir = \"/home/jadamo/CovA-NN-Emulator/Data/PCA-Set/\"\n",
    "training_dir = \"/home/jadamo/CovA-NN-Emulator/Data/Training-Set/\"\n",
    "BOSS_dir = \"/home/jadamo/CovA-NN-Emulator/Data/BOSS-DR12/\"\n",
    "CovaPT_dir = \"/home/jadamo/CovaPT/Example-Data/\"\n",
    "N_PCA = 100\n",
    "N_test = int(52500*0.1)"
   ]
  },
  {
   "cell_type": "code",
   "execution_count": 19,
   "metadata": {},
   "outputs": [],
   "source": [
    "# data and model vectors for chi squared calculations\n",
    "P_BOSS = np.loadtxt(BOSS_dir+\"Cl-BOSS-DR12.dat\")\n",
    "P0_mean = np.loadtxt(CovaPT_dir+'P0_fit_Patchy.dat')\n",
    "P2_mean = np.loadtxt(CovaPT_dir+'P2_fit_Patchy.dat')\n",
    "\n",
    "xi_hat = np.concatenate((P_BOSS[1], P_BOSS[2]))\n",
    "xi_pi = np.concatenate((P0_mean, P2_mean))\n",
    "x = xi_hat - xi_pi\n",
    "\n",
    "def chi_squared(C, x):\n",
    "    P = np.linalg.inv(C)\n",
    "    return np.matmul(x.T, np.matmul(P, x))"
   ]
  },
  {
   "cell_type": "markdown",
   "metadata": {},
   "source": [
    "First, load in the covariance matrices and parameters to use for the emulator"
   ]
  },
  {
   "cell_type": "code",
   "execution_count": 20,
   "metadata": {},
   "outputs": [
    {
     "name": "stdout",
     "output_type": "stream",
     "text": [
      "matrix 14 has too high assymetry!\n",
      "matrix 20 has too high assymetry!\n",
      "matrix 52 has too high assymetry!\n",
      "matrix 73 has too high assymetry!\n",
      "matrix 74 has too high assymetry!\n",
      "matrix 83 has too high assymetry!\n",
      "matrix 91 has too high assymetry!\n"
     ]
    }
   ],
   "source": [
    "C_PCA = np.zeros((N_PCA, 100, 100))\n",
    "params_PCA = np.zeros((N_PCA, 6))\n",
    "for i in range(N_PCA):\n",
    "    temp = np.load(PCA_dir+\"CovA-\"+f'{i:04d}'+\".npz\")\n",
    "    params_PCA[i] = np.delete(temp[\"params\"], 4)\n",
    "    C_PCA[i] = torch.from_numpy(temp[\"C\"])\n",
    "    \n",
    "    # if the matrix doesn't match the transpose close enough, manually flip over the diagonal\n",
    "    try:\n",
    "        np.testing.assert_allclose(C_PCA[i], C_PCA[i].T, err_msg=\"covariance must match transpose\")\n",
    "    except AssertionError:\n",
    "        print(\"matrix\", i, \"has too high assymetry!\")\n",
    "        L = np.tril(C_PCA[i])\n",
    "        U = np.tril(C_PCA[i], k=-1).T\n",
    "        C_PCA[i] = L + U"
   ]
  },
  {
   "cell_type": "markdown",
   "metadata": {},
   "source": [
    "We'll use the same test set as the neural network emulator to allow consistent comparisons"
   ]
  },
  {
   "cell_type": "code",
   "execution_count": 21,
   "metadata": {},
   "outputs": [
    {
     "name": "stdout",
     "output_type": "stream",
     "text": [
      "Done loading in data, took 63.28 s\n"
     ]
    }
   ],
   "source": [
    "t1 = time.time()\n",
    "train_log = False; train_inverse = False\n",
    "test_data = MatrixDataset(training_dir, N_test, int(52500*0.9), train_log, train_inverse)\n",
    "t2 = time.time()\n",
    "print(\"Done loading in data, took {:0.2f} s\".format(t2 - t1))"
   ]
  },
  {
   "cell_type": "markdown",
   "metadata": {},
   "source": [
    "Now let's try an initial emulation of some of the parameter-sets in the test set"
   ]
  },
  {
   "cell_type": "code",
   "execution_count": 22,
   "metadata": {},
   "outputs": [
    {
     "name": "stdout",
     "output_type": "stream",
     "text": [
      "(100, 6)\n",
      "(100, 100, 100)\n"
     ]
    }
   ],
   "source": [
    "# Create an emulator\n",
    "print(params_PCA.shape)\n",
    "print(C_PCA.shape)\n",
    "Emu = ce.CovEmu(params_PCA, C_PCA, NPC_D=20, NPC_L=20)"
   ]
  },
  {
   "cell_type": "code",
   "execution_count": 24,
   "metadata": {},
   "outputs": [],
   "source": [
    "# Loop thru the test set to calculate chi squared shifts\n",
    "chisq_err = np.zeros(N_test)\n",
    "for idx in range(N_test):\n",
    "    C_test = test_data[idx][1].cpu().detach().numpy()\n",
    "    params_test = test_data[idx][0].cpu()\n",
    "    C_predict = Emu.predict(params_test)\n",
    "    chisq_test = chi_squared(C_test, x)\n",
    "    chisq_predict = chi_squared(C_predict, x)\n",
    "    chisq_err[idx] = abs(chisq_predict - chisq_test)"
   ]
  },
  {
   "cell_type": "code",
   "execution_count": 25,
   "metadata": {},
   "outputs": [
    {
     "data": {
      "image/png": "[encoded data removed]",
      "text/plain": [
       "<Figure size 432x288 with 1 Axes>"
      ]
     },
     "metadata": {},
     "output_type": "display_data"
    }
   ],
   "source": [
    "plt.hist(chisq_err, bins=np.logspace(np.log10(np.amin(chisq_err)), np.log10(np.amax(chisq_err)), 50))\n",
    "#plt.hist(chisq_err, bins=50)\n",
    "plt.xlabel(r\"$|\\chi_{predict}^2 - \\chi_{actual}^2|$\")\n",
    "plt.ylabel(\"N\")\n",
    "plt.xscale(\"log\")"
   ]
  },
  {
   "cell_type": "code",
   "execution_count": 34,
   "metadata": {},
   "outputs": [
    {
     "ename": "TypeError",
     "evalue": "from_numpy() takes no keyword arguments",
     "output_type": "error",
     "traceback": [
      "\u001b[0;31m---------------------------------------------------------------------------\u001b[0m",
      "\u001b[0;31mTypeError\u001b[0m                                 Traceback (most recent call last)",
      "Input \u001b[0;32mIn [34]\u001b[0m, in \u001b[0;36m<cell line: 7>\u001b[0;34m()\u001b[0m\n\u001b[1;32m      5\u001b[0m C_predict \u001b[38;5;241m=\u001b[39m Emu\u001b[38;5;241m.\u001b[39mpredict(params_test)\n\u001b[1;32m      6\u001b[0m C_1 \u001b[38;5;241m=\u001b[39m symmetric_log(C_test)\u001b[38;5;241m.\u001b[39mcpu()\u001b[38;5;241m.\u001b[39mdetach()\u001b[38;5;241m.\u001b[39mnumpy()\n\u001b[0;32m----> 7\u001b[0m C_2 \u001b[38;5;241m=\u001b[39m symmetric_log(\u001b[43mtorch\u001b[49m\u001b[38;5;241;43m.\u001b[39;49m\u001b[43mfrom_numpy\u001b[49m\u001b[43m(\u001b[49m\u001b[43mC_predict\u001b[49m\u001b[43m,\u001b[49m\u001b[43m \u001b[49m\u001b[43mdevice\u001b[49m\u001b[38;5;241;43m=\u001b[39;49m\u001b[43mtry_gpu\u001b[49m\u001b[43m(\u001b[49m\u001b[43m)\u001b[49m\u001b[43m)\u001b[49m\u001b[38;5;241m.\u001b[39mfloat())\u001b[38;5;241m.\u001b[39mcpu()\u001b[38;5;241m.\u001b[39mdetach()\u001b[38;5;241m.\u001b[39mnumpy()\n\u001b[1;32m      9\u001b[0m chisq_test \u001b[38;5;241m=\u001b[39m chi_squared(C_test, x)\n\u001b[1;32m     10\u001b[0m chisq_predict \u001b[38;5;241m=\u001b[39m chi_squared(C_predict, x)\n",
      "\u001b[0;31mTypeError\u001b[0m: from_numpy() takes no keyword arguments"
     ]
    }
   ],
   "source": [
    "idx = np.random.randint(0, N_test)\n",
    "C_test = test_data[idx][1]\n",
    "params_test = test_data[idx][0].cpu()\n",
    "\n",
    "C_predict = Emu.predict(params_test)\n",
    "C_1 = symmetric_log(C_test).cpu().detach().numpy()\n",
    "C_2 = symmetric_log(torch.from_numpy(C_predict, device=try_gpu()).float()).cpu().detach().numpy()\n",
    "\n",
    "chisq_test = chi_squared(C_test, x)\n",
    "chisq_predict = chi_squared(C_predict, x)\n",
    "print(chisq_test, chisq_predict)\n",
    "plt.figure()\n",
    "plt.title(\"From CovaPT\")\n",
    "plt.imshow(C_1, cmap=\"RdBu\")\n",
    "cbar = plt.colorbar()\n",
    "\n",
    "plt.figure()\n",
    "plt.title(\"From PCA Emulator\")\n",
    "plt.imshow(C_2, cmap=\"RdBu\")\n",
    "cbar = plt.colorbar()"
   ]
  },
  {
   "cell_type": "code",
   "execution_count": null,
   "metadata": {},
   "outputs": [],
   "source": []
  }
 ],
 "metadata": {
  "kernelspec": {
   "display_name": "Python 3 (ipykernel)",
   "language": "python",
   "name": "python3"
  },
  "language_info": {
   "codemirror_mode": {
    "name": "ipython",
    "version": 3
   },
   "file_extension": ".py",
   "mimetype": "text/x-python",
   "name": "python",
   "nbconvert_exporter": "python",
   "pygments_lexer": "ipython3",
   "version": "3.8.10"
  }
 },
 "nbformat": 4,
 "nbformat_minor": 4
}
