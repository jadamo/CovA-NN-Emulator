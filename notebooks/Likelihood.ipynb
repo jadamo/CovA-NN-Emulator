{
 "cells": [
  {
   "cell_type": "code",
   "execution_count": 4,
   "id": "f4d5e303-23a1-4c1f-9f37-99395c15727d",
   "metadata": {},
   "outputs": [
    {
     "ename": "SyntaxError",
     "evalue": "invalid syntax (3524451259.py, line 8)",
     "output_type": "error",
     "traceback": [
      "\u001b[0;36m  Input \u001b[0;32mIn [4]\u001b[0;36m\u001b[0m\n\u001b[0;31m    from CovA-NN-Emulator import covnet\u001b[0m\n\u001b[0m             ^\u001b[0m\n\u001b[0;31mSyntaxError\u001b[0m\u001b[0;31m:\u001b[0m invalid syntax\n"
     ]
    }
   ],
   "source": [
    "import emcee\n",
    "import numpy as np\n",
    "import matplotlib.pyplot as plt\n",
    "import os, sys\n",
    "\n",
    "sys.path.append('/home/joeadamo/Research') #<- parent directory of dark emulator code\n",
    "from DarkEmuPowerRSD import pkmu_nn, pkmu_hod\n",
    "from CovA-NN-Emulator import CovNet"
   ]
  },
  {
   "cell_type": "code",
   "execution_count": null,
   "id": "f01b6f22-6537-4efa-857f-1c05c0d8f65e",
   "metadata": {},
   "outputs": [],
   "source": []
  }
 ],
 "metadata": {
  "kernelspec": {
   "display_name": "Python 3 (ipykernel)",
   "language": "python",
   "name": "python3"
  },
  "language_info": {
   "codemirror_mode": {
    "name": "ipython",
    "version": 3
   },
   "file_extension": ".py",
   "mimetype": "text/x-python",
   "name": "python",
   "nbconvert_exporter": "python",
   "pygments_lexer": "ipython3",
   "version": "3.8.10"
  }
 },
 "nbformat": 4,
 "nbformat_minor": 5
}
