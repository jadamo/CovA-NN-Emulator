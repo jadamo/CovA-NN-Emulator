{
 "cells": [
  {
   "cell_type": "code",
   "execution_count": 46,
   "id": "f4d5e303-23a1-4c1f-9f37-99395c15727d",
   "metadata": {},
   "outputs": [],
   "source": [
    "import emcee\n",
    "import numpy as np\n",
    "import matplotlib.pyplot as plt\n",
    "%matplotlib inline\n",
    "import os, sys, time, math\n",
    "import torch\n",
    "from tqdm import tqdm\n",
    "from torch.multiprocessing import Pool#, set_start_method\n",
    "from getdist import plots, MCSamples\n",
    "import getdist\n",
    "\n",
    "sys.path.append('/home/joeadamo/Research') #<- parent directory of dark emulator code\n",
    "from DarkEmuPowerRSD import pkmu_nn, pkmu_hod\n",
    "from CovNet import CovNet"
   ]
  },
  {
   "cell_type": "code",
   "execution_count": 47,
   "id": "f7b68da4-a15f-4b8d-84c4-741119f2605c",
   "metadata": {},
   "outputs": [],
   "source": [
    "plt.rcParams['figure.facecolor'] = 'white'\n",
    "#try:\n",
    "#    set_start_method('spawn')\n",
    "#except:\n",
    "#    pass"
   ]
  },
  {
   "cell_type": "code",
   "execution_count": 48,
   "id": "4ffa81b2-6444-44c3-9917-d666652497c9",
   "metadata": {},
   "outputs": [],
   "source": [
    "training_dir = \"/home/joeadamo/Research/CovNet/Data/Training-Set/\"\n",
    "data_dir =  \"/home/joeadamo/Research/CovNet/Data/\"\n",
    "PCA_dir = \"/home/joeadamo/Research/CovNet/Data/PCA-Set/\"\n",
    "BOSS_dir = \"/home/joeadamo/Research/Data/BOSS-DR12/\"\n",
    "CovaPT_dir = \"/home/joeadamo/Research/CovaPT/Example-Data/\""
   ]
  },
  {
   "cell_type": "code",
   "execution_count": 49,
   "id": "ca6c6be4-cf2a-4a68-8bc8-0713faf1f645",
   "metadata": {},
   "outputs": [],
   "source": [
    "cosmo_prior = np.array([[66.5, 75.5],\n",
    "                        [0.10782, 0.13178],\n",
    "                        [0.0211375, 0.0233625],\n",
    "                        [1.1885e-9, 2.031e-9],#[2.4752, 3.7128],\n",
    "                        [1.806, 2.04],\n",
    "                        [-2.962, 0.458]])\n",
    "\n",
    "cosmo_fid = np.array([70,0.1198,0.02225,2e-9,2.0,0.])\n",
    "\n",
    "gparams = {'logMmin': 13.9383, 'sigma_sq': 0.7918725**2, 'logM1': 14.4857, 'alpha': 1.19196,  'kappa': 0.600692, \n",
    "          'poff': 0.0, 'Roff': 2.0, 'alpha_inc': 0., 'logM_inc': 0., 'cM_fac': 1., 'sigv_fac': 1., 'P_shot': 0.}\n",
    "redshift = 0.5"
   ]
  },
  {
   "cell_type": "code",
   "execution_count": 50,
   "id": "d7db3dc0-3196-4bb6-aeb5-acc125aa103f",
   "metadata": {},
   "outputs": [
    {
     "name": "stdout",
     "output_type": "stream",
     "text": [
      "initialize cosmo_class\n",
      "Initialize pklin emulator\n",
      "initialize propagator emulator\n",
      "Initialize sigma_d emulator\n",
      "initialize cross-correlation emulator\n",
      "initialize auto-correlation emulator\n",
      "Initialize sigmaM emulator\n",
      "initialize xinl emulator\n"
     ]
    }
   ],
   "source": [
    "P_BOSS = np.loadtxt(BOSS_dir+\"Cl-BOSS-DR12.dat\")\n",
    "pgg = pkmu_hod()\n",
    "\n",
    "data_vector = np.concatenate((P_BOSS[1], P_BOSS[2]))\n",
    "\n",
    "def model_vector(params, gparams):\n",
    "    \"\"\"\n",
    "    Calculates the model vector using Yosuke's galaxy power spectrum emulator\n",
    "    \"\"\"\n",
    "    #print(params)\n",
    "    h = params[0] / 100\n",
    "    omch2 = params[1]\n",
    "    ombh2 = params[2]\n",
    "    #assert omch2 <= 0.131780\n",
    "    As = np.log(1e10 * params[3])\n",
    "    #assert As >= 2.47520\n",
    "    ns = 0.965\n",
    "    Om0 = (omch2 + ombh2 + 0.00064) / (h**2)\n",
    "    \n",
    "    # rebuild parameters into correct format (ombh2, omch2, 1-Om0, ln As, ns, w)\n",
    "    cparams = np.array([ombh2, omch2, 1-Om0, As, ns, -1])\n",
    "    redshift = 0.5\n",
    "    k = np.linspace(0.005, 0.25, 50)\n",
    "    mu = np.linspace(0.1,0.9,4)\n",
    "    alpha_perp = 1.1\n",
    "    alpha_para = 1\n",
    "\n",
    "    pgg.set_cosmology(cparams, redshift)\n",
    "    pgg.set_galaxy(gparams)\n",
    "    P0_emu = pgg.get_pl_gg_ref(0, k, alpha_perp, alpha_para, name='total')\n",
    "    P2_emu = pgg.get_pl_gg_ref(2, k, alpha_perp, alpha_para, name='total')\n",
    "    return np.concatenate((P0_emu, P2_emu))"
   ]
  },
  {
   "cell_type": "code",
   "execution_count": 51,
   "id": "1b5ca509-67e8-47b0-9df7-3bb5c8a36a06",
   "metadata": {},
   "outputs": [],
   "source": [
    "def ln_prior(theta):\n",
    "    for i in range(len(theta)):\n",
    "        if (theta[i] < cosmo_prior[i,0]) or (theta[i] > cosmo_prior[i,1]):\n",
    "            return -np.inf\n",
    "    return 0.\n",
    "\n",
    "def ln_lkl(theta, C):\n",
    "    P = np.linalg.inv(C)\n",
    "    x = model_vector(theta, gparams) - data_vector\n",
    "    lkl = -0.5 * np.matmul(x.T, np.matmul(P, x))\n",
    "    return lkl\n",
    "\n",
    "def ln_prob(theta, C):\n",
    "    p = ln_prior(theta)\n",
    "    if p != -np.inf:\n",
    "        return p * ln_lkl(theta, C)\n",
    "    else: return p"
   ]
  },
  {
   "cell_type": "code",
   "execution_count": 52,
   "id": "6c58bc80-71f3-4d6f-966a-914ecedeb1b1",
   "metadata": {},
   "outputs": [],
   "source": [
    "#os.environ[\"OMP_NUM_THREADS\"] = \"8\"\n",
    "\n",
    "N_MCMC        = 4000\n",
    "N_WALKERS     = 40\n",
    "NDIM_SAMPLING = 6\n",
    "\n",
    "theta0    = cosmo_fid\n",
    "theta_std = np.array([1., 0.001, 0.0001, 0.01 * 2e-9, 0.01, 0.01])\n",
    "\n",
    "# Starting position of the emcee chain\n",
    "pos0 = theta0[np.newaxis] + theta_std[np.newaxis] * np.random.normal(size=(N_WALKERS, NDIM_SAMPLING))\n",
    "\n",
    "C = np.loadtxt(\"/home/joeadamo/Research/Data/CovA-survey.txt\")"
   ]
  },
  {
   "cell_type": "code",
   "execution_count": 53,
   "id": "c8ae5449-009d-40ab-8251-a221eba90964",
   "metadata": {},
   "outputs": [
    {
     "name": "stderr",
     "output_type": "stream",
     "text": [
      "  1%|▎                                      | 27/4000 [05:16<10:53:14,  9.87s/it]Traceback (most recent call last):\n",
      "  File \"/home/joeadamo/virtual-enviornments/cov-env/lib/python3.8/site-packages/emcee/ensemble.py\", line 624, in __call__\n",
      "    return self.f(x, *self.args, **self.kwargs)\n",
      "  File \"/tmp/ipykernel_1925945/442118246.py\", line 16, in ln_prob\n",
      "    return p * ln_lkl(theta, C)\n",
      "  File \"/tmp/ipykernel_1925945/442118246.py\", line 9, in ln_lkl\n",
      "    x = model_vector(theta, gparams) - data_vector\n",
      "  File \"/tmp/ipykernel_1925945/1368483783.py\", line 28, in model_vector\n",
      "    pgg.set_cosmology(cparams, redshift)\n",
      "  File \"/home/joeadamo/Research/DarkEmuPowerRSD/src/pkmu_hod.py\", line 33, in set_cosmology\n",
      "    self.emu.set_cosmology(cparam)\n",
      "  File \"/home/joeadamo/virtual-enviornments/cov-env/lib/python3.8/site-packages/dark_emulator/darkemu/de_interface.py\", line 73, in set_cosmology\n",
      "    self.g1.set_cosmology(self.cosmo)\n",
      "  File \"/home/joeadamo/virtual-enviornments/cov-env/lib/python3.8/site-packages/dark_emulator/darkemu/gamma1.py\", line 65, in set_cosmology\n",
      "    self.coeff2_spline_dm = ius(-self.redshift_list,\n",
      "  File \"/home/joeadamo/virtual-enviornments/cov-env/lib/python3.8/site-packages/scipy/interpolate/_fitpack2.py\", line 661, in __init__\n",
      "    x, y, w, bbox, self.ext = self.validate_input(x, y, w, bbox, k, None,\n",
      "  File \"/home/joeadamo/virtual-enviornments/cov-env/lib/python3.8/site-packages/scipy/interpolate/_fitpack2.py\", line 223, in validate_input\n",
      "    if not np.all(diff(x) >= 0.0):\n",
      "  File \"<__array_function__ internals>\", line 180, in all\n",
      "KeyboardInterrupt\n",
      "  1%|▎                                      | 27/4000 [05:22<13:11:08, 11.95s/it]"
     ]
    },
    {
     "name": "stdout",
     "output_type": "stream",
     "text": [
      "emcee: Exception while calling your likelihood function:\n",
      "  params: [7.04548109e+01 1.20430743e-01 2.14452673e-02 1.54343067e-09\n",
      " 1.88081521e+00 3.82858377e-02]\n",
      "  args: (array([[5.58098732e+08, 1.10266573e+08, 1.22716985e+07, ...,\n",
      "        1.20949806e+03, 1.02803048e+03, 8.51760220e+02],\n",
      "       [1.10266573e+08, 1.32667689e+08, 3.50894851e+07, ...,\n",
      "        3.24963659e+03, 2.72538712e+03, 2.21185569e+03],\n",
      "       [1.22716985e+07, 3.50894851e+07, 6.04526154e+07, ...,\n",
      "        4.64662343e+03, 3.89224164e+03, 3.15124621e+03],\n",
      "       ...,\n",
      "       [1.20949806e+03, 3.24963659e+03, 4.64662343e+03, ...,\n",
      "        1.46303973e+04, 5.95207307e+03, 8.77478896e+02],\n",
      "       [1.02803048e+03, 2.72538712e+03, 3.89224164e+03, ...,\n",
      "        5.95207307e+03, 1.35403130e+04, 5.44534375e+03],\n",
      "       [8.51760220e+02, 2.21185569e+03, 3.15124621e+03, ...,\n",
      "        8.77478896e+02, 5.44534375e+03, 1.25672536e+04]]),)\n",
      "  kwargs: {}\n",
      "  exception:\n"
     ]
    },
    {
     "name": "stderr",
     "output_type": "stream",
     "text": [
      "\n"
     ]
    },
    {
     "ename": "KeyboardInterrupt",
     "evalue": "",
     "output_type": "error",
     "traceback": [
      "\u001b[0;31m---------------------------------------------------------------------------\u001b[0m",
      "\u001b[0;31mKeyboardInterrupt\u001b[0m                         Traceback (most recent call last)",
      "Input \u001b[0;32mIn [53]\u001b[0m, in \u001b[0;36m<cell line: 4>\u001b[0;34m()\u001b[0m\n\u001b[1;32m      2\u001b[0m \u001b[38;5;66;03m#with Pool() as pool:\u001b[39;00m\n\u001b[1;32m      3\u001b[0m emu_sampler \u001b[38;5;241m=\u001b[39m emcee\u001b[38;5;241m.\u001b[39mEnsembleSampler(N_WALKERS, NDIM_SAMPLING, ln_prob, args\u001b[38;5;241m=\u001b[39m(C,))\u001b[38;5;66;03m#, pool=pool)\u001b[39;00m\n\u001b[0;32m----> 4\u001b[0m \u001b[43memu_sampler\u001b[49m\u001b[38;5;241;43m.\u001b[39;49m\u001b[43mrun_mcmc\u001b[49m\u001b[43m(\u001b[49m\u001b[43mpos0\u001b[49m\u001b[43m,\u001b[49m\u001b[43m \u001b[49m\u001b[43mN_MCMC\u001b[49m\u001b[43m,\u001b[49m\u001b[43m \u001b[49m\u001b[43mprogress\u001b[49m\u001b[38;5;241;43m=\u001b[39;49m\u001b[38;5;28;43;01mTrue\u001b[39;49;00m\u001b[43m)\u001b[49m\n\u001b[1;32m      5\u001b[0m t2 \u001b[38;5;241m=\u001b[39m time\u001b[38;5;241m.\u001b[39mtime()\n\u001b[1;32m      6\u001b[0m \u001b[38;5;28mprint\u001b[39m(\u001b[38;5;124m\"\u001b[39m\u001b[38;5;124mDone!, took \u001b[39m\u001b[38;5;132;01m{:0.0f}\u001b[39;00m\u001b[38;5;124m minutes \u001b[39m\u001b[38;5;132;01m{:0.2f}\u001b[39;00m\u001b[38;5;124m seconds\u001b[39m\u001b[38;5;124m\"\u001b[39m\u001b[38;5;241m.\u001b[39mformat(math\u001b[38;5;241m.\u001b[39mfloor((t2 \u001b[38;5;241m-\u001b[39m t1)\u001b[38;5;241m/\u001b[39m\u001b[38;5;241m60\u001b[39m), (t2 \u001b[38;5;241m-\u001b[39m t1)\u001b[38;5;241m%\u001b[39m\u001b[38;5;241m60\u001b[39m))\n",
      "File \u001b[0;32m~/virtual-enviornments/cov-env/lib/python3.8/site-packages/emcee/ensemble.py:443\u001b[0m, in \u001b[0;36mEnsembleSampler.run_mcmc\u001b[0;34m(self, initial_state, nsteps, **kwargs)\u001b[0m\n\u001b[1;32m    440\u001b[0m     initial_state \u001b[38;5;241m=\u001b[39m \u001b[38;5;28mself\u001b[39m\u001b[38;5;241m.\u001b[39m_previous_state\n\u001b[1;32m    442\u001b[0m results \u001b[38;5;241m=\u001b[39m \u001b[38;5;28;01mNone\u001b[39;00m\n\u001b[0;32m--> 443\u001b[0m \u001b[38;5;28;01mfor\u001b[39;00m results \u001b[38;5;129;01min\u001b[39;00m \u001b[38;5;28mself\u001b[39m\u001b[38;5;241m.\u001b[39msample(initial_state, iterations\u001b[38;5;241m=\u001b[39mnsteps, \u001b[38;5;241m*\u001b[39m\u001b[38;5;241m*\u001b[39mkwargs):\n\u001b[1;32m    444\u001b[0m     \u001b[38;5;28;01mpass\u001b[39;00m\n\u001b[1;32m    446\u001b[0m \u001b[38;5;66;03m# Store so that the ``initial_state=None`` case will work\u001b[39;00m\n",
      "File \u001b[0;32m~/virtual-enviornments/cov-env/lib/python3.8/site-packages/emcee/ensemble.py:402\u001b[0m, in \u001b[0;36mEnsembleSampler.sample\u001b[0;34m(self, initial_state, log_prob0, rstate0, blobs0, iterations, tune, skip_initial_state_check, thin_by, thin, store, progress, progress_kwargs)\u001b[0m\n\u001b[1;32m    399\u001b[0m move \u001b[38;5;241m=\u001b[39m \u001b[38;5;28mself\u001b[39m\u001b[38;5;241m.\u001b[39m_random\u001b[38;5;241m.\u001b[39mchoice(\u001b[38;5;28mself\u001b[39m\u001b[38;5;241m.\u001b[39m_moves, p\u001b[38;5;241m=\u001b[39m\u001b[38;5;28mself\u001b[39m\u001b[38;5;241m.\u001b[39m_weights)\n\u001b[1;32m    401\u001b[0m \u001b[38;5;66;03m# Propose\u001b[39;00m\n\u001b[0;32m--> 402\u001b[0m state, accepted \u001b[38;5;241m=\u001b[39m \u001b[43mmove\u001b[49m\u001b[38;5;241;43m.\u001b[39;49m\u001b[43mpropose\u001b[49m\u001b[43m(\u001b[49m\u001b[43mmodel\u001b[49m\u001b[43m,\u001b[49m\u001b[43m \u001b[49m\u001b[43mstate\u001b[49m\u001b[43m)\u001b[49m\n\u001b[1;32m    403\u001b[0m state\u001b[38;5;241m.\u001b[39mrandom_state \u001b[38;5;241m=\u001b[39m \u001b[38;5;28mself\u001b[39m\u001b[38;5;241m.\u001b[39mrandom_state\n\u001b[1;32m    405\u001b[0m \u001b[38;5;28;01mif\u001b[39;00m tune:\n",
      "File \u001b[0;32m~/virtual-enviornments/cov-env/lib/python3.8/site-packages/emcee/moves/red_blue.py:93\u001b[0m, in \u001b[0;36mRedBlueMove.propose\u001b[0;34m(self, model, state)\u001b[0m\n\u001b[1;32m     90\u001b[0m q, factors \u001b[38;5;241m=\u001b[39m \u001b[38;5;28mself\u001b[39m\u001b[38;5;241m.\u001b[39mget_proposal(s, c, model\u001b[38;5;241m.\u001b[39mrandom)\n\u001b[1;32m     92\u001b[0m \u001b[38;5;66;03m# Compute the lnprobs of the proposed position.\u001b[39;00m\n\u001b[0;32m---> 93\u001b[0m new_log_probs, new_blobs \u001b[38;5;241m=\u001b[39m \u001b[43mmodel\u001b[49m\u001b[38;5;241;43m.\u001b[39;49m\u001b[43mcompute_log_prob_fn\u001b[49m\u001b[43m(\u001b[49m\u001b[43mq\u001b[49m\u001b[43m)\u001b[49m\n\u001b[1;32m     95\u001b[0m \u001b[38;5;66;03m# Loop over the walkers and update them accordingly.\u001b[39;00m\n\u001b[1;32m     96\u001b[0m \u001b[38;5;28;01mfor\u001b[39;00m i, (j, f, nlp) \u001b[38;5;129;01min\u001b[39;00m \u001b[38;5;28menumerate\u001b[39m(\n\u001b[1;32m     97\u001b[0m     \u001b[38;5;28mzip\u001b[39m(all_inds[S1], factors, new_log_probs)\n\u001b[1;32m     98\u001b[0m ):\n",
      "File \u001b[0;32m~/virtual-enviornments/cov-env/lib/python3.8/site-packages/emcee/ensemble.py:489\u001b[0m, in \u001b[0;36mEnsembleSampler.compute_log_prob\u001b[0;34m(self, coords)\u001b[0m\n\u001b[1;32m    487\u001b[0m     \u001b[38;5;28;01melse\u001b[39;00m:\n\u001b[1;32m    488\u001b[0m         map_func \u001b[38;5;241m=\u001b[39m \u001b[38;5;28mmap\u001b[39m\n\u001b[0;32m--> 489\u001b[0m     results \u001b[38;5;241m=\u001b[39m \u001b[38;5;28;43mlist\u001b[39;49m\u001b[43m(\u001b[49m\u001b[43mmap_func\u001b[49m\u001b[43m(\u001b[49m\u001b[38;5;28;43mself\u001b[39;49m\u001b[38;5;241;43m.\u001b[39;49m\u001b[43mlog_prob_fn\u001b[49m\u001b[43m,\u001b[49m\u001b[43m \u001b[49m\u001b[43mp\u001b[49m\u001b[43m)\u001b[49m\u001b[43m)\u001b[49m\n\u001b[1;32m    491\u001b[0m \u001b[38;5;28;01mtry\u001b[39;00m:\n\u001b[1;32m    492\u001b[0m     log_prob \u001b[38;5;241m=\u001b[39m np\u001b[38;5;241m.\u001b[39marray([\u001b[38;5;28mfloat\u001b[39m(l[\u001b[38;5;241m0\u001b[39m]) \u001b[38;5;28;01mfor\u001b[39;00m l \u001b[38;5;129;01min\u001b[39;00m results])\n",
      "File \u001b[0;32m~/virtual-enviornments/cov-env/lib/python3.8/site-packages/emcee/ensemble.py:624\u001b[0m, in \u001b[0;36m_FunctionWrapper.__call__\u001b[0;34m(self, x)\u001b[0m\n\u001b[1;32m    622\u001b[0m \u001b[38;5;28;01mdef\u001b[39;00m \u001b[38;5;21m__call__\u001b[39m(\u001b[38;5;28mself\u001b[39m, x):\n\u001b[1;32m    623\u001b[0m     \u001b[38;5;28;01mtry\u001b[39;00m:\n\u001b[0;32m--> 624\u001b[0m         \u001b[38;5;28;01mreturn\u001b[39;00m \u001b[38;5;28;43mself\u001b[39;49m\u001b[38;5;241;43m.\u001b[39;49m\u001b[43mf\u001b[49m\u001b[43m(\u001b[49m\u001b[43mx\u001b[49m\u001b[43m,\u001b[49m\u001b[43m \u001b[49m\u001b[38;5;241;43m*\u001b[39;49m\u001b[38;5;28;43mself\u001b[39;49m\u001b[38;5;241;43m.\u001b[39;49m\u001b[43margs\u001b[49m\u001b[43m,\u001b[49m\u001b[43m \u001b[49m\u001b[38;5;241;43m*\u001b[39;49m\u001b[38;5;241;43m*\u001b[39;49m\u001b[38;5;28;43mself\u001b[39;49m\u001b[38;5;241;43m.\u001b[39;49m\u001b[43mkwargs\u001b[49m\u001b[43m)\u001b[49m\n\u001b[1;32m    625\u001b[0m     \u001b[38;5;28;01mexcept\u001b[39;00m:  \u001b[38;5;66;03m# pragma: no cover\u001b[39;00m\n\u001b[1;32m    626\u001b[0m         \u001b[38;5;28;01mimport\u001b[39;00m \u001b[38;5;21;01mtraceback\u001b[39;00m\n",
      "Input \u001b[0;32mIn [51]\u001b[0m, in \u001b[0;36mln_prob\u001b[0;34m(theta, C)\u001b[0m\n\u001b[1;32m     14\u001b[0m p \u001b[38;5;241m=\u001b[39m ln_prior(theta)\n\u001b[1;32m     15\u001b[0m \u001b[38;5;28;01mif\u001b[39;00m p \u001b[38;5;241m!=\u001b[39m \u001b[38;5;241m-\u001b[39mnp\u001b[38;5;241m.\u001b[39minf:\n\u001b[0;32m---> 16\u001b[0m     \u001b[38;5;28;01mreturn\u001b[39;00m p \u001b[38;5;241m*\u001b[39m \u001b[43mln_lkl\u001b[49m\u001b[43m(\u001b[49m\u001b[43mtheta\u001b[49m\u001b[43m,\u001b[49m\u001b[43m \u001b[49m\u001b[43mC\u001b[49m\u001b[43m)\u001b[49m\n\u001b[1;32m     17\u001b[0m \u001b[38;5;28;01melse\u001b[39;00m: \u001b[38;5;28;01mreturn\u001b[39;00m p\n",
      "Input \u001b[0;32mIn [51]\u001b[0m, in \u001b[0;36mln_lkl\u001b[0;34m(theta, C)\u001b[0m\n\u001b[1;32m      7\u001b[0m \u001b[38;5;28;01mdef\u001b[39;00m \u001b[38;5;21mln_lkl\u001b[39m(theta, C):\n\u001b[1;32m      8\u001b[0m     P \u001b[38;5;241m=\u001b[39m np\u001b[38;5;241m.\u001b[39mlinalg\u001b[38;5;241m.\u001b[39minv(C)\n\u001b[0;32m----> 9\u001b[0m     x \u001b[38;5;241m=\u001b[39m \u001b[43mmodel_vector\u001b[49m\u001b[43m(\u001b[49m\u001b[43mtheta\u001b[49m\u001b[43m,\u001b[49m\u001b[43m \u001b[49m\u001b[43mgparams\u001b[49m\u001b[43m)\u001b[49m \u001b[38;5;241m-\u001b[39m data_vector\n\u001b[1;32m     10\u001b[0m     lkl \u001b[38;5;241m=\u001b[39m \u001b[38;5;241m-\u001b[39m\u001b[38;5;241m0.5\u001b[39m \u001b[38;5;241m*\u001b[39m np\u001b[38;5;241m.\u001b[39mmatmul(x\u001b[38;5;241m.\u001b[39mT, np\u001b[38;5;241m.\u001b[39mmatmul(P, x))\n\u001b[1;32m     11\u001b[0m     \u001b[38;5;28;01mreturn\u001b[39;00m lkl\n",
      "Input \u001b[0;32mIn [50]\u001b[0m, in \u001b[0;36mmodel_vector\u001b[0;34m(params, gparams)\u001b[0m\n\u001b[1;32m     25\u001b[0m alpha_perp \u001b[38;5;241m=\u001b[39m \u001b[38;5;241m1.1\u001b[39m\n\u001b[1;32m     26\u001b[0m alpha_para \u001b[38;5;241m=\u001b[39m \u001b[38;5;241m1\u001b[39m\n\u001b[0;32m---> 28\u001b[0m \u001b[43mpgg\u001b[49m\u001b[38;5;241;43m.\u001b[39;49m\u001b[43mset_cosmology\u001b[49m\u001b[43m(\u001b[49m\u001b[43mcparams\u001b[49m\u001b[43m,\u001b[49m\u001b[43m \u001b[49m\u001b[43mredshift\u001b[49m\u001b[43m)\u001b[49m\n\u001b[1;32m     29\u001b[0m pgg\u001b[38;5;241m.\u001b[39mset_galaxy(gparams)\n\u001b[1;32m     30\u001b[0m P0_emu \u001b[38;5;241m=\u001b[39m pgg\u001b[38;5;241m.\u001b[39mget_pl_gg_ref(\u001b[38;5;241m0\u001b[39m, k, alpha_perp, alpha_para, name\u001b[38;5;241m=\u001b[39m\u001b[38;5;124m'\u001b[39m\u001b[38;5;124mtotal\u001b[39m\u001b[38;5;124m'\u001b[39m)\n",
      "File \u001b[0;32m~/Research/DarkEmuPowerRSD/src/pkmu_hod.py:33\u001b[0m, in \u001b[0;36mpkmu_hod.set_cosmology\u001b[0;34m(self, cparam, redshift)\u001b[0m\n\u001b[1;32m     31\u001b[0m \u001b[38;5;28mself\u001b[39m\u001b[38;5;241m.\u001b[39mcparam \u001b[38;5;241m=\u001b[39m cparam\n\u001b[1;32m     32\u001b[0m \u001b[38;5;28mself\u001b[39m\u001b[38;5;241m.\u001b[39mredshift \u001b[38;5;241m=\u001b[39m redshift\n\u001b[0;32m---> 33\u001b[0m \u001b[38;5;28;43mself\u001b[39;49m\u001b[38;5;241;43m.\u001b[39;49m\u001b[43memu\u001b[49m\u001b[38;5;241;43m.\u001b[39;49m\u001b[43mset_cosmology\u001b[49m\u001b[43m(\u001b[49m\u001b[43mcparam\u001b[49m\u001b[43m)\u001b[49m\n\u001b[1;32m     35\u001b[0m Om0 \u001b[38;5;241m=\u001b[39m \u001b[38;5;241m1.\u001b[39m\u001b[38;5;241m-\u001b[39m\u001b[38;5;28mself\u001b[39m\u001b[38;5;241m.\u001b[39mcparam[\u001b[38;5;241m2\u001b[39m]\n\u001b[1;32m     36\u001b[0m h \u001b[38;5;241m=\u001b[39m np\u001b[38;5;241m.\u001b[39msqrt((\u001b[38;5;28mself\u001b[39m\u001b[38;5;241m.\u001b[39mcparam[\u001b[38;5;241m0\u001b[39m] \u001b[38;5;241m+\u001b[39m \u001b[38;5;28mself\u001b[39m\u001b[38;5;241m.\u001b[39mcparam[\u001b[38;5;241m1\u001b[39m] \u001b[38;5;241m+\u001b[39m \u001b[38;5;241m0.00064\u001b[39m)\u001b[38;5;241m/\u001b[39mOm0)\n",
      "File \u001b[0;32m~/virtual-enviornments/cov-env/lib/python3.8/site-packages/dark_emulator/darkemu/de_interface.py:73\u001b[0m, in \u001b[0;36mbase_class.set_cosmology\u001b[0;34m(self, cparam)\u001b[0m\n\u001b[1;32m     71\u001b[0m \u001b[38;5;28mself\u001b[39m\u001b[38;5;241m.\u001b[39mxi_cross\u001b[38;5;241m.\u001b[39mset_cosmology(\u001b[38;5;28mself\u001b[39m\u001b[38;5;241m.\u001b[39mcosmo)\n\u001b[1;32m     72\u001b[0m \u001b[38;5;28mself\u001b[39m\u001b[38;5;241m.\u001b[39mmassfunc\u001b[38;5;241m.\u001b[39mset_cosmology(\u001b[38;5;28mself\u001b[39m\u001b[38;5;241m.\u001b[39mcosmo)\n\u001b[0;32m---> 73\u001b[0m \u001b[38;5;28;43mself\u001b[39;49m\u001b[38;5;241;43m.\u001b[39;49m\u001b[43mg1\u001b[49m\u001b[38;5;241;43m.\u001b[39;49m\u001b[43mset_cosmology\u001b[49m\u001b[43m(\u001b[49m\u001b[38;5;28;43mself\u001b[39;49m\u001b[38;5;241;43m.\u001b[39;49m\u001b[43mcosmo\u001b[49m\u001b[43m)\u001b[49m\n",
      "File \u001b[0;32m~/virtual-enviornments/cov-env/lib/python3.8/site-packages/dark_emulator/darkemu/gamma1.py:65\u001b[0m, in \u001b[0;36mgamma1_gp.set_cosmology\u001b[0;34m(self, cosmo)\u001b[0m\n\u001b[1;32m     61\u001b[0m \u001b[38;5;28mself\u001b[39m\u001b[38;5;241m.\u001b[39mcoeff2_spline \u001b[38;5;241m=\u001b[39m rbs(\u001b[38;5;241m-\u001b[39m\u001b[38;5;28mself\u001b[39m\u001b[38;5;241m.\u001b[39mredshift_list, \u001b[38;5;241m-\u001b[39m\n\u001b[1;32m     62\u001b[0m                          \u001b[38;5;28mself\u001b[39m\u001b[38;5;241m.\u001b[39mlogdens_list, \u001b[38;5;28mself\u001b[39m\u001b[38;5;241m.\u001b[39mcoeff_rec[:, :, \u001b[38;5;241m1\u001b[39m])\n\u001b[1;32m     63\u001b[0m \u001b[38;5;28mself\u001b[39m\u001b[38;5;241m.\u001b[39mcoeff3_spline \u001b[38;5;241m=\u001b[39m rbs(\u001b[38;5;241m-\u001b[39m\u001b[38;5;28mself\u001b[39m\u001b[38;5;241m.\u001b[39mredshift_list, \u001b[38;5;241m-\u001b[39m\n\u001b[1;32m     64\u001b[0m                          \u001b[38;5;28mself\u001b[39m\u001b[38;5;241m.\u001b[39mlogdens_list, \u001b[38;5;28mself\u001b[39m\u001b[38;5;241m.\u001b[39mcoeff_rec[:, :, \u001b[38;5;241m2\u001b[39m])\n\u001b[0;32m---> 65\u001b[0m \u001b[38;5;28mself\u001b[39m\u001b[38;5;241m.\u001b[39mcoeff2_spline_dm \u001b[38;5;241m=\u001b[39m \u001b[43mius\u001b[49m\u001b[43m(\u001b[49m\u001b[38;5;241;43m-\u001b[39;49m\u001b[38;5;28;43mself\u001b[39;49m\u001b[38;5;241;43m.\u001b[39;49m\u001b[43mredshift_list\u001b[49m\u001b[43m,\u001b[49m\n\u001b[1;32m     66\u001b[0m \u001b[43m                            \u001b[49m\u001b[38;5;28;43mself\u001b[39;49m\u001b[38;5;241;43m.\u001b[39;49m\u001b[43mcoeff_rec_dm\u001b[49m\u001b[43m[\u001b[49m\u001b[43m:\u001b[49m\u001b[43m,\u001b[49m\u001b[43m \u001b[49m\u001b[38;5;241;43m0\u001b[39;49m\u001b[43m]\u001b[49m\u001b[43m)\u001b[49m\n\u001b[1;32m     67\u001b[0m \u001b[38;5;28mself\u001b[39m\u001b[38;5;241m.\u001b[39mcoeff3_spline_dm \u001b[38;5;241m=\u001b[39m ius(\u001b[38;5;241m-\u001b[39m\u001b[38;5;28mself\u001b[39m\u001b[38;5;241m.\u001b[39mredshift_list,\n\u001b[1;32m     68\u001b[0m                             \u001b[38;5;28mself\u001b[39m\u001b[38;5;241m.\u001b[39mcoeff_rec_dm[:, \u001b[38;5;241m1\u001b[39m])\n",
      "File \u001b[0;32m~/virtual-enviornments/cov-env/lib/python3.8/site-packages/scipy/interpolate/_fitpack2.py:661\u001b[0m, in \u001b[0;36mInterpolatedUnivariateSpline.__init__\u001b[0;34m(self, x, y, w, bbox, k, ext, check_finite)\u001b[0m\n\u001b[1;32m    658\u001b[0m \u001b[38;5;28;01mdef\u001b[39;00m \u001b[38;5;21m__init__\u001b[39m(\u001b[38;5;28mself\u001b[39m, x, y, w\u001b[38;5;241m=\u001b[39m\u001b[38;5;28;01mNone\u001b[39;00m, bbox\u001b[38;5;241m=\u001b[39m[\u001b[38;5;28;01mNone\u001b[39;00m]\u001b[38;5;241m*\u001b[39m\u001b[38;5;241m2\u001b[39m, k\u001b[38;5;241m=\u001b[39m\u001b[38;5;241m3\u001b[39m,\n\u001b[1;32m    659\u001b[0m              ext\u001b[38;5;241m=\u001b[39m\u001b[38;5;241m0\u001b[39m, check_finite\u001b[38;5;241m=\u001b[39m\u001b[38;5;28;01mFalse\u001b[39;00m):\n\u001b[0;32m--> 661\u001b[0m     x, y, w, bbox, \u001b[38;5;28mself\u001b[39m\u001b[38;5;241m.\u001b[39mext \u001b[38;5;241m=\u001b[39m \u001b[38;5;28;43mself\u001b[39;49m\u001b[38;5;241;43m.\u001b[39;49m\u001b[43mvalidate_input\u001b[49m\u001b[43m(\u001b[49m\u001b[43mx\u001b[49m\u001b[43m,\u001b[49m\u001b[43m \u001b[49m\u001b[43my\u001b[49m\u001b[43m,\u001b[49m\u001b[43m \u001b[49m\u001b[43mw\u001b[49m\u001b[43m,\u001b[49m\u001b[43m \u001b[49m\u001b[43mbbox\u001b[49m\u001b[43m,\u001b[49m\u001b[43m \u001b[49m\u001b[43mk\u001b[49m\u001b[43m,\u001b[49m\u001b[43m \u001b[49m\u001b[38;5;28;43;01mNone\u001b[39;49;00m\u001b[43m,\u001b[49m\n\u001b[1;32m    662\u001b[0m \u001b[43m                                        \u001b[49m\u001b[43mext\u001b[49m\u001b[43m,\u001b[49m\u001b[43m \u001b[49m\u001b[43mcheck_finite\u001b[49m\u001b[43m)\u001b[49m\n\u001b[1;32m    663\u001b[0m     \u001b[38;5;28;01mif\u001b[39;00m \u001b[38;5;129;01mnot\u001b[39;00m np\u001b[38;5;241m.\u001b[39mall(diff(x) \u001b[38;5;241m>\u001b[39m \u001b[38;5;241m0.0\u001b[39m):\n\u001b[1;32m    664\u001b[0m         \u001b[38;5;28;01mraise\u001b[39;00m \u001b[38;5;167;01mValueError\u001b[39;00m(\u001b[38;5;124m'\u001b[39m\u001b[38;5;124mx must be strictly increasing\u001b[39m\u001b[38;5;124m'\u001b[39m)\n",
      "File \u001b[0;32m~/virtual-enviornments/cov-env/lib/python3.8/site-packages/scipy/interpolate/_fitpack2.py:223\u001b[0m, in \u001b[0;36mUnivariateSpline.validate_input\u001b[0;34m(x, y, w, bbox, k, s, ext, check_finite)\u001b[0m\n\u001b[1;32m    220\u001b[0m         \u001b[38;5;28;01mraise\u001b[39;00m \u001b[38;5;167;01mValueError\u001b[39;00m(\u001b[38;5;124m\"\u001b[39m\u001b[38;5;124mx and y array must not contain \u001b[39m\u001b[38;5;124m\"\u001b[39m\n\u001b[1;32m    221\u001b[0m                          \u001b[38;5;124m\"\u001b[39m\u001b[38;5;124mNaNs or infs.\u001b[39m\u001b[38;5;124m\"\u001b[39m)\n\u001b[1;32m    222\u001b[0m \u001b[38;5;28;01mif\u001b[39;00m s \u001b[38;5;129;01mis\u001b[39;00m \u001b[38;5;28;01mNone\u001b[39;00m \u001b[38;5;129;01mor\u001b[39;00m s \u001b[38;5;241m>\u001b[39m \u001b[38;5;241m0\u001b[39m:\n\u001b[0;32m--> 223\u001b[0m     \u001b[38;5;28;01mif\u001b[39;00m \u001b[38;5;129;01mnot\u001b[39;00m \u001b[43mnp\u001b[49m\u001b[38;5;241;43m.\u001b[39;49m\u001b[43mall\u001b[49m\u001b[43m(\u001b[49m\u001b[43mdiff\u001b[49m\u001b[43m(\u001b[49m\u001b[43mx\u001b[49m\u001b[43m)\u001b[49m\u001b[43m \u001b[49m\u001b[38;5;241;43m>\u001b[39;49m\u001b[38;5;241;43m=\u001b[39;49m\u001b[43m \u001b[49m\u001b[38;5;241;43m0.0\u001b[39;49m\u001b[43m)\u001b[49m:\n\u001b[1;32m    224\u001b[0m         \u001b[38;5;28;01mraise\u001b[39;00m \u001b[38;5;167;01mValueError\u001b[39;00m(\u001b[38;5;124m\"\u001b[39m\u001b[38;5;124mx must be increasing if s > 0\u001b[39m\u001b[38;5;124m\"\u001b[39m)\n\u001b[1;32m    225\u001b[0m \u001b[38;5;28;01melse\u001b[39;00m:\n",
      "File \u001b[0;32m<__array_function__ internals>:180\u001b[0m, in \u001b[0;36mall\u001b[0;34m(*args, **kwargs)\u001b[0m\n",
      "\u001b[0;31mKeyboardInterrupt\u001b[0m: "
     ]
    }
   ],
   "source": [
    "t1 = time.time()\n",
    "#with Pool() as pool:\n",
    "emu_sampler = emcee.EnsembleSampler(N_WALKERS, NDIM_SAMPLING, ln_prob, args=(C,))#, pool=pool)\n",
    "emu_sampler.run_mcmc(pos0, N_MCMC, progress=True)\n",
    "t2 = time.time()\n",
    "print(\"Done!, took {:0.0f} minutes {:0.2f} seconds\".format(math.floor((t2 - t1)/60), (t2 - t1)%60))"
   ]
  },
  {
   "cell_type": "code",
   "execution_count": null,
   "id": "70a4eef6-3a0d-4659-ace3-ca511a2c2bc7",
   "metadata": {},
   "outputs": [],
   "source": [
    "#def plot_emcee_chain(sampler, N):\n",
    "fig, ax = plt.subplots(NDIM_SAMPLING,1,figsize=(10, 2.5 * NDIM_SAMPLING))\n",
    "for i in range(NDIM_SAMPLING):\n",
    "    ax[i].plot(emu_sampler.chain[:,:,i].T, 'k-', lw=0.3)\n",
    "plt.show()  "
   ]
  },
  {
   "cell_type": "code",
   "execution_count": null,
   "id": "97aa565c-6c37-4a75-a253-ca2d48c6ebbd",
   "metadata": {},
   "outputs": [],
   "source": [
    "#plot_emcee_chain(emu_sampler, NDIM_SAMPLING)"
   ]
  },
  {
   "cell_type": "code",
   "execution_count": null,
   "id": "2887d9a9-fec2-44a3-b72d-e11e4761c1af",
   "metadata": {},
   "outputs": [],
   "source": [
    "N_BURN_IN = 500\n",
    "N_THIN    = 15\n",
    "\n",
    "samples = emu_sampler.chain[:,N_BURN_IN::N_THIN].reshape((-1,NDIM_SAMPLING))"
   ]
  },
  {
   "cell_type": "code",
   "execution_count": null,
   "id": "dc86ab16-d5a3-4e33-ba96-885943e606ae",
   "metadata": {},
   "outputs": [],
   "source": [
    "def plot_cosmo_contours(sample_list, legend_labels):\n",
    "    names = ['H0', 'omegac', 'omegab', 'As', 'b1', 'b2']\n",
    "    labels =  [\"H_0\", '\\omega_c', '\\omega_b', 'A_s', 'b1', 'b2']\n",
    "    \n",
    "    cosmo_truth = [69., 0.1199772, 0.0228528, 2e-9, 1.4, 0.]\n",
    "    truth_dict = {}\n",
    "    for name, truth in zip(names, cosmo_truth):\n",
    "        truth_dict[name] = truth\n",
    "        \n",
    "    getdist_samples = []\n",
    "    for samples, legend_label in zip(sample_list, legend_labels):\n",
    "        cosmo_samples = samples[:,:6]\n",
    "        getdist_samples.append(MCSamples(samples=cosmo_samples,names = names, labels=labels, label=legend_label))\n",
    "    \n",
    "    g = plots.get_subplot_plotter()\n",
    "    g.triangle_plot(getdist_samples, filled=True, markers=truth_dict)\n",
    "    \n",
    "    plt.show()"
   ]
  },
  {
   "cell_type": "code",
   "execution_count": null,
   "id": "d7e16b3a-1b1e-4688-b110-22293e4c391b",
   "metadata": {},
   "outputs": [],
   "source": [
    "plot_cosmo_contours([samples], ['Tempered posterior'])"
   ]
  },
  {
   "cell_type": "code",
   "execution_count": null,
   "id": "a9f26f9a-52a4-49c0-8cae-7099c037d037",
   "metadata": {},
   "outputs": [],
   "source": []
  }
 ],
 "metadata": {
  "kernelspec": {
   "display_name": "Python 3 (ipykernel)",
   "language": "python",
   "name": "python3"
  },
  "language_info": {
   "codemirror_mode": {
    "name": "ipython",
    "version": 3
   },
   "file_extension": ".py",
   "mimetype": "text/x-python",
   "name": "python",
   "nbconvert_exporter": "python",
   "pygments_lexer": "ipython3",
   "version": "3.8.10"
  }
 },
 "nbformat": 4,
 "nbformat_minor": 5
}
