{
 "cells": [
  {
   "cell_type": "markdown",
   "metadata": {},
   "source": [
    "This jupyter notebook is here to test properties of the training set (positive-defineteness, symmetry, etc)"
   ]
  },
  {
   "cell_type": "code",
   "execution_count": 1,
   "metadata": {},
   "outputs": [],
   "source": [
    "%matplotlib inline\n",
    "import torch\n",
    "import torch.nn as nn\n",
    "from torch.nn import functional as F\n",
    "from tqdm import tqdm\n",
    "from os.path import exists\n",
    "import scipy.linalg as linalg\n",
    "import numpy as np\n",
    "import george # <- I love this name\n",
    "from IPython.utils import io\n",
    "import time, math, sys, os\n",
    "import matplotlib.pyplot as plt\n",
    "import matplotlib.colors as colors\n",
    "plt.rcParams['figure.facecolor'] = 'white'\n",
    "\n",
    "sys.path.insert(1, '/home/jadamo/UArizona/Research')\n",
    "from CovNet import CovNet, CovaPT"
   ]
  },
  {
   "cell_type": "code",
   "execution_count": 2,
   "metadata": {},
   "outputs": [],
   "source": [
    "train_log = False\n",
    "train_cholesky = True\n",
    "train_correlation = False\n",
    "N = 116984\n",
    "#N = 52500\n",
    "training_dir = \"/home/joeadamo/Research/CovNet/Data/Training-Set-HighZ-NGC/\"\n",
    "save_dir = \"/home/joeadamo/Research/CovNet/Plots/\"\n",
    "BOSS_dir = \"/home/joeadamo/Research/Data/BOSS-DR12/\"\n",
    "CovaPT_dir = \"/home/jadamo/UArizona/Research/CovaPT/Example-Data/\""
   ]
  },
  {
   "cell_type": "code",
   "execution_count": 4,
   "metadata": {},
   "outputs": [],
   "source": [
    "def chi_squared(C, x):\n",
    "    P = np.linalg.inv(C)\n",
    "    return np.matmul(x.T, np.matmul(P, x))"
   ]
  },
  {
   "cell_type": "code",
   "execution_count": 4,
   "metadata": {},
   "outputs": [],
   "source": [
    "def gaussian_covariance(params, i, offset):\n",
    "    \"\"\"\n",
    "    Loads the model vector and gaussian covariance from file if it exists, otherwise calculates it\n",
    "    \"\"\"\n",
    "    idx = i + offset\n",
    "    data = np.load(training_dir+\"CovG-\"+f'{idx:05d}'+\".npz\")\n",
    "    np.testing.assert_equal(params, data[\"params\"], err_msg=\"parameters from file mismatch!\")\n",
    "    try:\n",
    "        return data[\"model\"], data[\"C\"]\n",
    "    except:\n",
    "        Pk_galaxy = CovaPT.Pk_gg(params, pgg)\n",
    "        model_vector = np.concatenate([Pk_galaxy[0], Pk_galaxy[2]])\n",
    "        C_G = CovaPT.get_gaussian_covariance(params, pgg, Pk_galaxy)\n",
    "        np.savez(training_dir+\"CovA-\"+f'{idx:05d}'+\".npz\", params=params, model=model_vector, C_G=C_G, C_NG=data[\"C_NG\"])\n",
    "        return model_vector, C_G"
   ]
  },
  {
   "cell_type": "code",
   "execution_count": 5,
   "metadata": {},
   "outputs": [
    {
     "name": "stdout",
     "output_type": "stream",
     "text": [
      "Done loading in data, took 93.04 s\n"
     ]
    }
   ],
   "source": [
    "t1 = time.time()\n",
    "test_data = CovNet.MatrixDataset(training_dir, N, 0, train_log, train_correlation, train_cholesky)\n",
    "t2 = time.time()\n",
    "print(\"Done loading in data, took {:0.2f} s\".format(t2 - t1))"
   ]
  },
  {
   "cell_type": "code",
   "execution_count": 10,
   "metadata": {},
   "outputs": [
    {
     "name": "stderr",
     "output_type": "stream",
     "text": [
      "100%|█████████████████████████████████| 116984/116984 [00:55<00:00, 2102.44it/s]"
     ]
    },
    {
     "name": "stdout",
     "output_type": "stream",
     "text": [
      "0 Matrices had NaN or inf values!\n",
      "0 (0.00%) Matrices are assymetric\n",
      "0 Matrices don't have all positive eigenvalues, avg number of bad eigenvalues: nan\n",
      "0 Matrices that aren't positive definite aren't symmetric\n",
      "0 Matrices fail to do cholesky decomposition\n"
     ]
    },
    {
     "name": "stderr",
     "output_type": "stream",
     "text": [
      "\n",
      "/home/joeadamo/virtual-enviornments/cov-env/lib/python3.10/site-packages/numpy/core/fromnumeric.py:3474: RuntimeWarning: Mean of empty slice.\n",
      "  return _methods._mean(a, axis=axis, dtype=dtype,\n",
      "/home/joeadamo/virtual-enviornments/cov-env/lib/python3.10/site-packages/numpy/core/_methods.py:189: RuntimeWarning: invalid value encountered in double_scalars\n",
      "  ret = ret.dtype.type(ret / rcount)\n"
     ]
    }
   ],
   "source": [
    "nans = []\n",
    "non_symmetric = []\n",
    "non_symmetric_bad = []\n",
    "non_definete = []; avg_bad = []\n",
    "cholesky_fail = 0\n",
    "cholesky_fail_gaussian = 0\n",
    "\n",
    "min_asym = 10000; max_asym = 0; avg_asym = 0.\n",
    "# first test the base matrix\n",
    "for i in tqdm(range(N)):\n",
    "    L = test_data[i][1].cpu().detach().numpy()\n",
    "    params = test_data[i][0].cpu().detach().numpy()\n",
    "    \n",
    "    C = np.matmul(L, L.T)\n",
    "    if True in np.isnan(C) or True in np.isinf(C):\n",
    "        nans.append(i)\n",
    "        continue\n",
    "    \n",
    "    # test assymetry\n",
    "    C_sym = 0.5*(C + C.T)\n",
    "    C_asym = 0.5*(C - C.T)\n",
    "    #symmetric_val = np.linalg.norm(C_asym, 2) / np.linalg.norm(C_sym, 2)\n",
    "    try:\n",
    "        np.testing.assert_allclose(C, C.T, err_msg=\"covariance must match transpose\")\n",
    "    except AssertionError:\n",
    "        non_symmetric.append(i)\n",
    "        #min_asym = min(symmetric_val, min_asym); max_asym = max(symmetric_val, max_asym)\n",
    "        #avg_asym += symmetric_val\n",
    "    \n",
    "    # test eigenvalues are all positive\n",
    "    eigen, v = np.linalg.eig(C)\n",
    "    if np.all(eigen >= 0.) == False:\n",
    "        non_definete.append(i)\n",
    "        avg_bad.append(len(eigen[(eigen < 0)]))\n",
    "        \n",
    "    # test that cholesky decomposition works\n",
    "    try:\n",
    "        L = np.linalg.cholesky(C)\n",
    "    except np.linalg.LinAlgError as err:\n",
    "        cholesky_fail+=1\n",
    "        \n",
    "print(len(nans), \"Matrices had NaN or inf values!\")\n",
    "print(len(non_symmetric), \"({:0.2f}%) Matrices are assymetric\".format(100.*len(non_symmetric)/N))\n",
    "#print(\"min / max symmetric val: [{:0.3e}, {:0.3e}] (avg = {:0.3e}\".format(min_asym, max_asym, avg_asym / len(non_symmetric)))\n",
    "print(len(non_definete), \"Matrices don't have all positive eigenvalues, avg number of bad eigenvalues:\", np.mean(avg_bad))\n",
    "print(len(non_symmetric_bad), \"Matrices that aren't positive definite aren't symmetric\")\n",
    "print(cholesky_fail, \"Matrices fail to do cholesky decomposition\")"
   ]
  },
  {
   "cell_type": "code",
   "execution_count": 7,
   "metadata": {},
   "outputs": [],
   "source": [
    "# # now test the inverse matrix\n",
    "\n",
    "# non_positive_diag_inv = []\n",
    "# non_symmetric_inv = []\n",
    "# non_definete_inv = []\n",
    "# min_asym = 10000; max_asym = 0; avg_asym = 0.\n",
    "# t1 = time.time()\n",
    "# for i in range(int(N*0.8)):\n",
    "#     C = test_data[i][1].detach().numpy()\n",
    "#     P = np.linalg.inv(C)\n",
    "    \n",
    "#     # test diagonal is all positives\n",
    "#     for i in range(C.shape[0]):\n",
    "#         if P[i,i] <= 0:\n",
    "#             non_positive_diag_inv.append(i)\n",
    "#             break\n",
    "    \n",
    "#     # test assymetry\n",
    "#     P_sym = 0.5*(P + P.T)\n",
    "#     P_asym = 0.5*(P - P.T)\n",
    "#     symmetric_val = np.linalg.norm(P_asym, 2) / np.linalg.norm(P_sym, 2)\n",
    "#     if abs(symmetric_val) > 1e-14: # this number should be 0 if the matrix is symmetric\n",
    "#         non_symmetric_inv.append(i)\n",
    "#         min_asym = min(symmetric_val, min_asym); max_asym = max(symmetric_val, max_asym)\n",
    "#         avg_asym += symmetric_val\n",
    "    \n",
    "#     # test eigenvalues are all positive\n",
    "#     eigen, v = np.linalg.eig(P)\n",
    "#     if np.all(eigen > 0.) == False:\n",
    "#         non_definete_inv.append(i)\n",
    "        \n",
    "# t2 = time.time()\n",
    "# print(\"Done! took {:0.0f} minutes {:0.2f} seconds\".format(math.floor((t2 - t1)/60), (t2 - t1)%60))\n",
    "# print(len(non_positive_diag_inv), \"Matrices have non-positive diagonals\")\n",
    "# print(len(non_symmetric_inv), \"({:0.2f}%) Matrices are assymetric\".format(100.*len(non_symmetric_inv)/N))\n",
    "# print(\"min / max symmetric val: [{:0.3e}, {:0.3e}] (avg = {:0.3e}\".format(min_asym, max_asym, avg_asym / len(non_symmetric)))\n",
    "# print(len(non_definete_inv), \"Matrices don't have all positive eigenvalues\")"
   ]
  },
  {
   "cell_type": "code",
   "execution_count": 8,
   "metadata": {
    "tags": []
   },
   "outputs": [],
   "source": [
    "# idx = non_definete[1]\n",
    "# #idx = 1\n",
    "# C_NG = test_data[idx][1].detach().numpy()\n",
    "# params = test_data[idx][0].detach().numpy()\n",
    "# model_vector, C_G = gaussian_covariance(params, idx, 0)\n",
    "# C = C_G + C_NG\n",
    "\n",
    "# try:\n",
    "#     L = np.linalg.cholesky(C)\n",
    "# except np.linalg.LinAlgError as err:\n",
    "#     print(\"Failed to do cholesky decomposition\")\n",
    "\n",
    "# params = test_data[idx][0].detach().numpy()\n",
    "# print(params)\n",
    "# eigen, v = np.linalg.eig(C)\n",
    "# #eigen[(eigen < 0)] *= -1\n",
    "# eigen_scipy, v_scipy = linalg.eig(C)\n",
    "# print(eigen_scipy[(eigen_scipy < 0)], eigen[(eigen < 0)])\n",
    "\n",
    "# plt.figure()\n",
    "# plt.plot(range(len(eigen)), eigen)\n",
    "# plt.plot(range(len(eigen)), eigen_scipy)\n",
    "# #plt.plot(range(len(eigen)), -eigen)\n",
    "# #plt.plot(range(len(eigen)), s)\n",
    "# #print(abs(s - -np.sort(-eigen)))\n",
    "# #plt.plot(range(len(eigen)), abs(s - -np.sort(-eigen)))\n",
    "# plt.yscale(\"log\")\n",
    "# print(len(eigen[(eigen < 0)]))\n",
    "# print(non_definete[:10])"
   ]
  },
  {
   "cell_type": "code",
   "execution_count": 9,
   "metadata": {},
   "outputs": [],
   "source": [
    "# C_00, C_22 = C[:50, :50], C[50:, 50:]\n",
    "# eigen_00, v = np.linalg.eig(C_00)\n",
    "# eigen_22, v = np.linalg.eig(C_22)\n",
    "\n",
    "# print(len(eigen_00[(eigen_00 < 0)]), len(eigen_22[(eigen_22 < 0)]))\n",
    "\n",
    "# plt.plot(range(50), eigen_00, label=r\"$C_{0,0}$\")\n",
    "# plt.plot(range(50), eigen_22, label=r\"$C_{2,2}$\")\n",
    "# plt.legend()"
   ]
  },
  {
   "cell_type": "code",
   "execution_count": 10,
   "metadata": {},
   "outputs": [],
   "source": [
    "# try to visualize where in the parameter space the non-definite matrices are\n",
    "# params_list = test_data[non_definete][0].detach().numpy()\n",
    "# names = ['H0', 'omch2', 'ombh2', \"As\", \"b1\", \"b2\"]\n",
    "# from getdist import plots, MCSamples\n",
    "# import getdist\n",
    "# # 3D (scatter) triangle plot\n",
    "# plt.scatter(test_data[:][0].detach().numpy()[:,1], test_data[:][0].detach().numpy()[:,2], s=1)\n",
    "# #plt.scatter(params_list[:,1], params_list[:,2], s=1)\n",
    "# plt.xlabel(r\"$\\Omega_{cdm} h^2$\")\n",
    "# plt.ylabel(r\"$\\Omega_{b} h^2$\")\n",
    "# plt.figure()\n",
    "# samples = MCSamples(samples=params_list,names = names, labels = names)\n",
    "# g = plots.get_subplot_plotter(width_inch=6)\n",
    "# # you can adjust the scaling factor if font sizes are too small when\n",
    "# # making many subplots in a fixed size (default=2 would give smaller fonts)\n",
    "# g.settings.scaling_factor = 1\n",
    "# g.triangle_plot(samples, ['H0', 'omch2', 'ombh2', \"As\", \"b1\", \"b2\"], plot_3d_with_param='As')\n",
    "\n",
    "# omch2 = params_list[:,1]; ombh2 = params_list[:,2]; h = params_list[:,0] / 100\n",
    "# print((omch2 + ombh2))"
   ]
  },
  {
   "cell_type": "code",
   "execution_count": 11,
   "metadata": {},
   "outputs": [
    {
     "data": {
      "image/png": "[encoded data removed]",
      "text/plain": [
       "<Figure size 288x648 with 7 Axes>"
      ]
     },
     "metadata": {},
     "output_type": "display_data"
    }
   ],
   "source": [
    "# check that the validation set samples from the entire data range\n",
    "params = test_data[:][0]\n",
    "H0 = params[:,0].cpu().detach().numpy()\n",
    "Omega_m = params[:,1].cpu().detach().numpy()\n",
    "omch2 = params[:,2].cpu().detach().numpy()\n",
    "As = params[:,3].cpu().detach().numpy()\n",
    "ns = params[:,4].cpu().detach().numpy()\n",
    "b1 = params[:,5].cpu().detach().numpy()\n",
    "b2 = params[:,6].cpu().detach().numpy()\n",
    "\n",
    "fig, ax = plt.subplots(7, figsize=(4, 9))\n",
    "ax[0].hist(H0, bins=50);      ax[0].set_xlabel(r\"$H_0$\")\n",
    "ax[1].hist(Omega_m, bins=50); ax[1].set_xlabel(r\"$\\Omega_m$\")\n",
    "ax[2].hist(omch2, bins=50);   ax[2].set_xlabel(r\"$\\Omega_{cdm} h^2$\")\n",
    "ax[3].hist(As, bins=50);      ax[3].set_xlabel(r\"$A_s$\")\n",
    "ax[4].hist(ns, bins=50);      ax[4].set_xlabel(\"ns\")\n",
    "ax[5].hist(b1, bins=50);      ax[5].set_xlabel(\"b1\")\n",
    "ax[6].hist(b2, bins=50);      ax[5].set_xlabel(\"b2\")\n",
    "plt.tight_layout()"
   ]
  },
  {
   "cell_type": "markdown",
   "metadata": {},
   "source": [
    "The following cell computes the ocvariance matrix at the fiducial cosmology"
   ]
  },
  {
   "cell_type": "code",
   "execution_count": 5,
   "metadata": {},
   "outputs": [
    {
     "name": "stdout",
     "output_type": "stream",
     "text": [
      "(50, 50)\n",
      "Covariance matrix is positive-definite :)\n"
     ]
    }
   ],
   "source": [
    "# This cell computes the covariance matrix at the fiducial cosmology (TODO: move this to a better spot!)\n",
    "params_fid = np.array([67.77,0.11827,1.016, 1.9485,-0.5387, 0.1, 5., 15., 100, 5e3])\n",
    "C_G = CovaPT.get_gaussian_covariance(params_fid)\n",
    "C_SSC, C_T0 = CovaPT.get_non_gaussian_covariance(params_fid)\n",
    "C_fid = C_G + C_SSC + C_T0\n",
    "\n",
    "print(C_fid.shape)\n",
    "\n",
    "try:\n",
    "    L = np.linalg.cholesky(C_fid)\n",
    "    print(\"Covariance matrix is positive-definite :)\")\n",
    "except np.linalg.LinAlgError as err:\n",
    "    print(\"Covariance matrix is NOT positive-definite!\")\n",
    "    \n",
    "np.savez(\"../Data/Cov_Fid.npz\", C_G=C_G, C_SSC=C_SSC, C_T0=C_T0)"
   ]
  },
  {
   "cell_type": "code",
   "execution_count": 12,
   "metadata": {},
   "outputs": [
    {
     "name": "stdout",
     "output_type": "stream",
     "text": [
      "(96, 96)\n"
     ]
    },
    {
     "data": {
      "text/plain": [
       "<matplotlib.image.AxesImage at 0x7f1bdb7e41f0>"
      ]
     },
     "execution_count": 12,
     "metadata": {},
     "output_type": "execute_result"
    },
    {
     "data": {
      "image/png": "[encoded data removed]",
      "text/plain": [
       "<Figure size 432x288 with 1 Axes>"
      ]
     },
     "metadata": {},
     "output_type": "display_data"
    },
    {
     "data": {
      "image/png": "[encoded data removed]",
      "text/plain": [
       "<Figure size 432x288 with 1 Axes>"
      ]
     },
     "metadata": {},
     "output_type": "display_data"
    }
   ],
   "source": [
    "C_montepython = np.loadtxt(\"/home/jadamo/UArizona/Research/lss_montepython/data/ngc_z3/analytic_covmat.dat\")\n",
    "print(C_montepython.shape)\n",
    "\n",
    "plt.imshow(C_fid, norm=colors.LogNorm(vmin=1e0, vmax=np.amax(C_fid)))\n",
    "\n",
    "plt.figure()\n",
    "plt.imshow(C_montepython, norm=colors.LogNorm(vmin=1e0, vmax=np.amax(C_fid)))"
   ]
  },
  {
   "cell_type": "markdown",
   "metadata": {},
   "source": [
    "### Data pre-processing code  \n",
    "The following cells exist to test several different pre-processing methods for the covariance matrix"
   ]
  },
  {
   "cell_type": "code",
   "execution_count": 13,
   "metadata": {},
   "outputs": [
    {
     "name": "stdout",
     "output_type": "stream",
     "text": [
      "tensor([5.3498e+01, 1.4479e-01, 1.9123e-02, 2.6533e+00, 1.0893e+00, 1.3363e+00,\n",
      "        2.7070e+00])\n",
      "966\n"
     ]
    },
    {
     "data": {
      "text/plain": [
       "<Figure size 432x288 with 0 Axes>"
      ]
     },
     "metadata": {},
     "output_type": "display_data"
    },
    {
     "data": {
      "image/png": "[encoded data removed]",
      "text/plain": [
       "<Figure size 432x288 with 2 Axes>"
      ]
     },
     "metadata": {},
     "output_type": "display_data"
    },
    {
     "data": {
      "image/png": "[encoded data removed]",
      "text/plain": [
       "<Figure size 432x288 with 2 Axes>"
      ]
     },
     "metadata": {},
     "output_type": "display_data"
    },
    {
     "data": {
      "image/png": "[encoded data removed]",
      "text/plain": [
       "<Figure size 432x288 with 2 Axes>"
      ]
     },
     "metadata": {},
     "output_type": "display_data"
    },
    {
     "data": {
      "image/png": "[encoded data removed]",
      "text/plain": [
       "<Figure size 432x288 with 2 Axes>"
      ]
     },
     "metadata": {},
     "output_type": "display_data"
    },
    {
     "data": {
      "image/png": "[encoded data removed]",
      "text/plain": [
       "<Figure size 432x288 with 2 Axes>"
      ]
     },
     "metadata": {},
     "output_type": "display_data"
    }
   ],
   "source": [
    "# test the logarithm function and make sure exp(log(C)) = C\n",
    "idx = np.random.randint(0, N)\n",
    "C = test_data[idx][1]\n",
    "params = test_data[idx][0]\n",
    "print(params)\n",
    "C_log = CovNet.symmetric_log(C); C_1 = CovNet.symmetric_exp(C_log)\n",
    "# C and C_1 should be equal, so C - C_1 should just be a matrix of all zeros\n",
    "idx_bad = np.where(abs((C - C_1) / C) > 1e-14)\n",
    "print(len(idx_bad[0]))\n",
    "# plt.imshow(C - C_1, cmap=\"RdBu\")\n",
    "# cbar = plt.colorbar()\n",
    "\n",
    "plt.figure()\n",
    "C_sinh = np.arcsinh(C)\n",
    "C_2 = np.sinh(C_sinh)\n",
    "plt.figure()\n",
    "plt.imshow(C_sinh, cmap=\"RdBu\")\n",
    "cbar = plt.colorbar()\n",
    "\n",
    "plt.figure()\n",
    "plt.imshow(C_log, cmap=\"RdBu\")\n",
    "cbar = plt.colorbar()\n",
    "\n",
    "plt.figure()\n",
    "m = plt.imshow(C_1, cmap=\"RdBu\", norm=colors.SymLogNorm(linthresh=1.))\n",
    "cbar = plt.colorbar()\n",
    "\n",
    "plt.figure()\n",
    "plt.imshow(abs(C_1 - C))\n",
    "cbar = plt.colorbar()\n",
    "\n",
    "plt.figure()\n",
    "plt.imshow((C_1 - C) / C, cmap=\"RdBu\")\n",
    "cbar = plt.colorbar()"
   ]
  },
  {
   "cell_type": "code",
   "execution_count": 14,
   "metadata": {},
   "outputs": [
    {
     "name": "stdout",
     "output_type": "stream",
     "text": [
      "tensor([-1.0000e+02, -9.1667e+01, -8.3333e+01, -7.5000e+01, -6.6667e+01,\n",
      "        -5.8333e+01, -5.0000e+01, -4.1667e+01, -3.3333e+01, -2.5000e+01,\n",
      "        -1.6667e+01, -8.3333e+00, -3.8147e-06,  8.3333e+00,  1.6667e+01,\n",
      "         2.5000e+01,  3.3333e+01,  4.1667e+01,  5.0000e+01,  5.8333e+01,\n",
      "         6.6667e+01,  7.5000e+01,  8.3333e+01,  9.1667e+01,  1.0000e+02])\n",
      "tensor([-2.0043e+00, -1.9669e+00, -1.9260e+00, -1.8808e+00, -1.8304e+00,\n",
      "        -1.7733e+00, -1.7076e+00, -1.6301e+00, -1.5357e+00, -1.4150e+00,\n",
      "        -1.2472e+00, -9.7004e-01, -1.6567e-06,  9.7004e-01,  1.2472e+00,\n",
      "         1.4150e+00,  1.5357e+00,  1.6301e+00,  1.7076e+00,  1.7733e+00,\n",
      "         1.8304e+00,  1.8808e+00,  1.9260e+00,  1.9669e+00,  2.0043e+00])\n",
      "tensor([-1.0000e+02, -9.1667e+01, -8.3333e+01, -7.5000e+01, -6.6667e+01,\n",
      "        -5.8333e+01, -5.0000e+01, -4.1667e+01, -3.3333e+01, -2.5000e+01,\n",
      "        -1.6667e+01, -8.3333e+00, -3.8147e-06,  8.3333e+00,  1.6667e+01,\n",
      "         2.5000e+01,  3.3333e+01,  4.1667e+01,  5.0000e+01,  5.8333e+01,\n",
      "         6.6667e+01,  7.5000e+01,  8.3333e+01,  9.1667e+01,  1.0000e+02])\n",
      "tensor([ 7.6294e-06,  1.5259e-05,  0.0000e+00,  0.0000e+00,  0.0000e+00,\n",
      "         3.8147e-06, -3.8147e-06,  3.8147e-06, -3.8147e-06,  1.9073e-06,\n",
      "         0.0000e+00, -9.5367e-07,  0.0000e+00,  9.5367e-07,  1.9073e-06,\n",
      "        -1.9073e-06,  3.8147e-06, -3.8147e-06,  3.8147e-06, -3.8147e-06,\n",
      "         0.0000e+00,  0.0000e+00,  0.0000e+00, -1.5259e-05, -7.6294e-06])\n"
     ]
    }
   ],
   "source": [
    "x = torch.linspace(-100, 100, 25, device=CovNet.try_gpu())\n",
    "x_log = CovNet.symmetric_log(x)\n",
    "x_1 = CovNet.symmetric_exp(x_log)\n",
    "print(x)\n",
    "print(x_log)\n",
    "print(x_1)\n",
    "print(x_1 - x)"
   ]
  },
  {
   "cell_type": "code",
   "execution_count": 15,
   "metadata": {},
   "outputs": [],
   "source": [
    "# Convert data in .txt format to .npz format\n",
    "# training_dir = \"/home/joeadamo/Research/Data/Training-Set/\"\n",
    "# new_dir = \"/home/joeadamo/Research/Data/Training-Set-New/\"\n",
    "# for idx in range(52500):\n",
    "    \n",
    "#     file = training_dir+\"CovA-\"+f'{idx:05d}'+\".txt\"\n",
    "#     f = open(file)\n",
    "#     header = f.readline()\n",
    "#     header = f.readline()\n",
    "#     f.close()\n",
    "#     header = torch.from_numpy(np.fromstring(header[2:-1], sep=\",\"))\n",
    "#     params = torch.cat([header[0:4], header[5:]]).detach().numpy()\n",
    "#     # load in matrix\n",
    "#     C = np.loadtxt(file, skiprows=2)\n",
    "#     np.savez(new_dir+\"CovA-\"+f'{idx:05d}'+\".npz\", params=params, C=C)\n",
    "    \n",
    "#     test = np.load(new_dir+\"CovA-\"+f'{idx:05d}'+\".npz\")\n",
    "#     params_l = test[\"params\"]; C_l = test[\"C\"]\n",
    "#     assert np.array_equal(params_l, params) and np.array_equal(C, C_l)\n",
    "# print(\"Done!\")"
   ]
  },
  {
   "cell_type": "code",
   "execution_count": 16,
   "metadata": {},
   "outputs": [
    {
     "ename": "RuntimeError",
     "evalue": "shape '[1, 100, 100]' is invalid for input of size 2500",
     "output_type": "error",
     "traceback": [
      "\u001b[0;31m---------------------------------------------------------------------------\u001b[0m",
      "\u001b[0;31mRuntimeError\u001b[0m                              Traceback (most recent call last)",
      "Input \u001b[0;32mIn [16]\u001b[0m, in \u001b[0;36m<cell line: 4>\u001b[0;34m()\u001b[0m\n\u001b[1;32m      2\u001b[0m train_cholesky \u001b[38;5;241m=\u001b[39m \u001b[38;5;28;01mTrue\u001b[39;00m\n\u001b[1;32m      3\u001b[0m idx \u001b[38;5;241m=\u001b[39m np\u001b[38;5;241m.\u001b[39mrandom\u001b[38;5;241m.\u001b[39mrandint(\u001b[38;5;241m0\u001b[39m, N)\n\u001b[0;32m----> 4\u001b[0m C \u001b[38;5;241m=\u001b[39m \u001b[43mtest_data\u001b[49m\u001b[43m[\u001b[49m\u001b[43midx\u001b[49m\u001b[43m]\u001b[49m\u001b[43m[\u001b[49m\u001b[38;5;241;43m1\u001b[39;49m\u001b[43m]\u001b[49m\u001b[38;5;241;43m.\u001b[39;49m\u001b[43mview\u001b[49m\u001b[43m(\u001b[49m\u001b[38;5;241;43m1\u001b[39;49m\u001b[43m,\u001b[49m\u001b[38;5;241;43m100\u001b[39;49m\u001b[43m,\u001b[49m\u001b[38;5;241;43m100\u001b[39;49m\u001b[43m)\u001b[49m\n\u001b[1;32m      5\u001b[0m \u001b[38;5;66;03m#C = symmetric_log(C)\u001b[39;00m\n\u001b[1;32m      7\u001b[0m \u001b[38;5;28;01mif\u001b[39;00m train_cholesky:\n",
      "\u001b[0;31mRuntimeError\u001b[0m: shape '[1, 100, 100]' is invalid for input of size 2500"
     ]
    }
   ],
   "source": [
    "# Test Cholesky decomposition\n",
    "train_cholesky = True\n",
    "idx = np.random.randint(0, N)\n",
    "C = test_data[idx][1].view(1,100,100)\n",
    "#C = symmetric_log(C)\n",
    "\n",
    "if train_cholesky:\n",
    "    C = torch.linalg.cholesky(C)\n",
    "B = C.shape[0]\n",
    "L1 = torch.tril(C)[:,:,:50]; L2 = torch.tril(C)[:,:,50:]\n",
    "L1 = torch.cat((torch.zeros((B,1, 50), device=CovNet.try_gpu()), L1), 1)\n",
    "L2 = torch.cat((torch.flip(L2, [1,2]), torch.zeros((B,1, 50), device=try_gpu())),1)\n",
    "C_half = L1 + L2\n",
    "\n",
    "C_full = torch.zeros((B, 100,100), device=CovNet.try_gpu())\n",
    "C_full[:,:,:50] = C_full[:,:,:50] + C_half[:,1:,:]\n",
    "C_full[:,:,50:] = C_full[:,:,50:] + torch.flip(C_half[:,:-1,:], [1,2])\n",
    "L = torch.tril(C_full); U = torch.transpose(torch.tril(C_full, diagonal=-1),1,2)\n",
    "if train_cholesky: # <- undo the cholesky decomposition\n",
    "    C_full = torch.matmul(L, torch.transpose(L, 1, 2))\n",
    "else:\n",
    "    C_full = L + U\n",
    "    \n",
    "L = L.view(100,100); C = C.view(100,100); C_half = C_half.view(101,50); C_full = C_full.view(100,100)\n",
    "chisq_true = chi_squared(C.cpu().detach().numpy(), x)\n",
    "chisq_pred = chi_squared(C_full.cpu().detach().numpy(), x)\n",
    "print(chisq_true, chisq_pred)\n",
    "\n",
    "plt.imshow((symmetric_log(C).cpu()), cmap=\"RdBu\")\n",
    "cbar = plt.colorbar()\n",
    "\n",
    "plt.figure()\n",
    "plt.imshow((symmetric_log(C_half).cpu()), cmap=\"RdBu\")\n",
    "cbar = plt.colorbar()\n",
    "\n",
    "plt.figure()\n",
    "plt.imshow((symmetric_log(C_full).cpu()), cmap=\"RdBu\")\n",
    "cbar = plt.colorbar()\n",
    "# try training the quadrants independently\n",
    "\n",
    "plt.figure()\n",
    "plt.imshow(abs(torch.matmul(C, torch.t(C)) - C_full).cpu())\n",
    "cbar = plt.colorbar()"
   ]
  },
  {
   "cell_type": "code",
   "execution_count": null,
   "metadata": {},
   "outputs": [],
   "source": [
    "# test code to convert to / from correlation matrix\n",
    "idx = np.random.randint(0, N)\n",
    "print(\"idx = \", idx)\n",
    "C = test_data[idx][1].view(1, 100, 100)\n",
    "D = torch.sqrt(torch.diagonal(C,0,1,2))\n",
    "D = torch.diag_embed(D)\n",
    "Corr = torch.matmul(torch.linalg.inv(D), torch.matmul(C, torch.linalg.inv(D)))\n",
    "Corr = Corr + (CovNet.symmetric_log(D) - torch.eye(100))\n",
    "\n",
    "plt.figure()\n",
    "plt.imshow(CovNet.symmetric_log(C).view(100,100), cmap=\"RdBu\")\n",
    "plt.colorbar()\n",
    "\n",
    "plt.figure()\n",
    "plt.imshow(Corr.view(100,100).cpu())\n",
    "cbar = plt.colorbar()\n",
    "\n",
    "D_1 = torch.diag_embed(torch.diagonal(Corr,0,1,2))\n",
    "Corr = Corr - (D_1) + torch.eye(100)\n",
    "D_1 = CovNet.symmetric_exp(D_1)\n",
    "C_1 = torch.matmul(D_1, torch.matmul(Corr, D_1))\n",
    "\n",
    "plt.figure()\n",
    "plt.imshow(CovNet.symmetric_log(C_1).view(100,100).cpu(), cmap=\"RdBu\")\n",
    "cbar = plt.colorbar()\n",
    "\n",
    "plt.figure()\n",
    "plt.imshow(abs(C_1 - C).view(100,100).cpu())\n",
    "cbar = plt.colorbar()"
   ]
  },
  {
   "cell_type": "code",
   "execution_count": null,
   "metadata": {},
   "outputs": [],
   "source": [
    "# test code for splitting up matrix into quadrands\n",
    "idx = np.random.randint(0, int(N*0.1))\n",
    "print(\"idx = \", idx)\n",
    "C = test_data[idx][1].view(1, 100, 100)\n",
    "quad1 = C[:,:50,:50]\n",
    "quad2 = C[:,50:,50:]\n",
    "quad3 = C[:,:50,50:]\n",
    "\n",
    "C = C.view(100,100); quad1 = quad1.view(50,50); quad2 = quad2.view(50,50); quad3 = quad3.view(50,50)\n",
    "plt.imshow(C.cpu().detach().numpy(), cmap=\"RdBu\")\n",
    "plt.colorbar()\n",
    "\n",
    "print(quad1.shape, quad2.shape, quad3.shape)\n",
    "plt.figure()\n",
    "plt.imshow(quad1.cpu().detach().numpy(), cmap=\"RdBu\")\n",
    "cbar = plt.colorbar()\n",
    "\n",
    "plt.figure()\n",
    "plt.imshow(quad2.cpu().detach().numpy(), cmap=\"RdBu\")\n",
    "\n",
    "plt.figure()\n",
    "plt.imshow(quad3.cpu().detach().numpy(), cmap=\"RdBu\")\n",
    "\n",
    "plt.figure()\n",
    "plt.imshow(abs(quad3 - torch.t(quad3)).cpu().detach().numpy())\n",
    "cbar = plt.colorbar()"
   ]
  },
  {
   "cell_type": "code",
   "execution_count": null,
   "metadata": {},
   "outputs": [],
   "source": [
    "# If there are any matrices with NaN's or inf's, check them out\n",
    "print(nans)\n",
    "if len(nans) != 0:\n",
    "    params = test_data[nans][0]\n",
    "    C = test_data[nans][1].view(100,100).detach().numpy()\n",
    "    print(np.where(np.isnan(C)==True))\n",
    "\n",
    "    data_bad = np.load(training_dir+\"CovNG-30528.npz\")\n",
    "    print(data_bad[\"C\"][98,98])\n",
    "\n",
    "    print(params)\n",
    "    plt.imshow(C, cmap=\"RdBu\")\n",
    "    plt.colorbar()"
   ]
  },
  {
   "cell_type": "code",
   "execution_count": null,
   "metadata": {},
   "outputs": [],
   "source": [
    "# Test Principle component analysis comparison code\n",
    "from sklearn.decomposition import PCA\n",
    "from sklearn.preprocessing import StandardScaler\n",
    "\n",
    "idx = 100\n",
    "idx_2 = 101\n",
    "print(\"idx = \", idx)\n",
    "C = test_data[idx][1].view(100, 100).detach().numpy()\n",
    "C_2 = test_data[idx_2][1].view(100, 100).detach().numpy()\n",
    "\n",
    "C_normal = C.flatten()\n",
    "#C_normal = StandardScaler().fit_transform(C)\n",
    "#C_normal = (C - np.mean(C)) / np.std(C)\n",
    "\n",
    "pca = PCA(n_components = 2)\n",
    "#pca.fit(C_normal)\n",
    "#components = pca.transform(C_normal)\n",
    "\n",
    "# the eigenvalue way\n",
    "Cov = np.cov(np.vstack((C_normal, C_normal)), rowvar=False)\n",
    "print(Cov.shape, Cov)\n",
    "l, principal_axes = np.linalg.eig(Cov)\n",
    "# sort\n",
    "idx = l.argsort()[::-1]\n",
    "l, principal_axes = l[idx], principal_axes[:, idx]\n",
    "components_eigen = np.matmul(C_normal, principal_axes)\n",
    "\n",
    "# the SVD way\n",
    "U, s, Vt = np.linalg.svd(C_normal)\n",
    "V = Vt.T\n",
    "S = np.diag(s)\n",
    "components_svd = np.matmul(U, S)\n",
    "\n",
    "print(\"eigen:\", l[0] / np.sum(l), l[1] / np.sum(l))\n",
    "print(\"svd:\", s[0] / np.sum(s), s[1] / np.sum(s))\n",
    "#print(\"sklearn:\", pca.explained_variance_ratio_)\n",
    "\n",
    "#plt.scatter(components[:,0], components[:,1], s=35)\n",
    "plt.scatter(components_eigen[:,0], components_eigen[:,1], s=25)\n",
    "plt.scatter(components_svd[:,0], components_svd[:,1], s=15)\n",
    "#plt.scatter(components_2[:,0], components_2[:,1])\n",
    "plt.xlabel(\"PC 1\")\n",
    "plt.ylabel(\"PC 2\")"
   ]
  },
  {
   "cell_type": "code",
   "execution_count": null,
   "metadata": {},
   "outputs": [],
   "source": [
    "#C_2_normal = (C_2 - np.mean(C_2)) / np.std(C_2)\n",
    "C_2_normal = StandardScaler().fit_transform(C_2)\n",
    "\n",
    "components_2 = pca.transform(C_2_normal)\n",
    "components_2_eigen = np.matmul(C_2_normal, principal_axes)\n",
    "components_2_svd = np.matmul(C_2_normal, V)\n",
    "\n",
    "sum_1 = np.sum(abs(components_2 - components), axis=0)\n",
    "sum_2 = np.sum(abs(components_eigen - components_2_eigen), axis=0)\n",
    "print(sum_1, sum_2)\n",
    "\n",
    "plt.scatter(components_2[:,0], components_2[:,1], s=35)\n",
    "plt.scatter(components_2_eigen[:,0], components_2_eigen[:,1], s=25)\n",
    "plt.scatter(components_2_svd[:,0], components_2_svd[:,1], s=15)"
   ]
  },
  {
   "cell_type": "code",
   "execution_count": null,
   "metadata": {},
   "outputs": [],
   "source": [
    "# import os\n",
    "# for i in tqdm(range(49500, 50000)):\n",
    "#     if os.path.exists(training_dir + \"CovNG-\"+f'{i:05d}'+\".npz\"):\n",
    "#         file1 = np.load(training_dir + \"CovNG-\"+f'{i:05d}'+\".npz\")\n",
    "#         #file2 = np.load(training_dir + \"CovG-\"+f'{i:05d}'+\".npz\")\n",
    "#         params = file1[\"params\"]\n",
    "#         C_NG = file1[\"C\"]\n",
    "#         C_G = CovaPT.get_gaussian_covariance(params, pgg)\n",
    "#         np.savez(training_dir + \"CovA-\"+f'{i:05d}'+\".npz\", params=params, C_G=C_G, C_NG=C_NG)\n",
    "#         os.remove(training_dir + \"CovNG-\"+f'{i:05d}'+\".npz\")\n",
    "#         #os.remove(training_dir + \"CovG-\"+f'{i:05d}'+\".npz\")"
   ]
  },
  {
   "cell_type": "code",
   "execution_count": null,
   "metadata": {},
   "outputs": [],
   "source": [
    "test_dir = \"/home/joeadamo/Research/CovNet/Data/Training-Set-HighZ-NGC/\"\n",
    "params = np.zeros((9228, 7))\n",
    "idx = 0\n",
    "for i in range(75000):\n",
    "    filename = test_dir+\"CovA-\"+f'{i:05d}'+\".npz\"\n",
    "    if os.path.exists(filename):\n",
    "        data = np.load(filename)\n",
    "        params[idx] = data[\"params\"]\n",
    "        idx+=1\n",
    "\n",
    "print(params[0])\n",
    "        \n",
    "names = ['H0', 'omch2', 'ombh2', \"As\", \"ns\", \"b1\", \"b2\"]\n",
    "from getdist import plots, MCSamples\n",
    "import getdist\n",
    "# 3D (scatter) triangle plot\n",
    "plt.scatter(params[:,0], params[:,1], s=1)\n",
    "#plt.scatter(params_list[:,1], params_list[:,2], s=1)\n",
    "plt.xlabel(r\"$H_0$\")\n",
    "plt.ylabel(r\"$\\Omega_{cdm} h^2$\")\n",
    "plt.figure()\n",
    "samples = MCSamples(samples=params ,names = names, labels = names)\n",
    "g = plots.get_subplot_plotter(width_inch=6)\n",
    "# you can adjust the scaling factor if font sizes are too small when\n",
    "# making many subplots in a fixed size (default=2 would give smaller fonts)\n",
    "g.settings.scaling_factor = 1\n",
    "g.triangle_plot(samples, ['H0', 'omch2', 'ombh2', \"As\", \"ns\", \"b1\", \"b2\"], plot_3d_with_param='omch2')"
   ]
  },
  {
   "cell_type": "code",
   "execution_count": null,
   "metadata": {},
   "outputs": [],
   "source": []
  }
 ],
 "metadata": {
  "kernelspec": {
   "display_name": "Python 3 (ipykernel)",
   "language": "python",
   "name": "python3"
  },
  "language_info": {
   "codemirror_mode": {
    "name": "ipython",
    "version": 3
   },
   "file_extension": ".py",
   "mimetype": "text/x-python",
   "name": "python",
   "nbconvert_exporter": "python",
   "pygments_lexer": "ipython3",
   "version": "3.8.10"
  }
 },
 "nbformat": 4,
 "nbformat_minor": 4
}
