{
 "cells": [
  {
   "cell_type": "markdown",
   "id": "810be3bb-389e-42f7-aea5-eaa972f48868",
   "metadata": {},
   "source": [
    "# Covariance Emulator Demo notebook  \n",
    "\n",
    "The purpose of this notebook is to give you an introduction on how to design, train, and test a neural network emulator that you can use in a cosmological data analysis.  \n",
    "One of the ingredients to modern cosmological inference is the **covariance matrix**  This object is notoriously expensive to calculate, so let's try using machine learning to speed up the process!\n",
    "\n",
    "This notebook is designed to be run on a typical laptop. At the end of this demo, you should be able to:\n",
    "- Gain some familiarity with how neural networks are designed and trained\n",
    "- TODO: fill out this list\n",
    "\n",
    "## Step 1 - Install  \n",
    "\n",
    "This demo uses the `CovNet` package designed by Joe Adamo to emulate covariance matrices. You'll need to download the associated github repository here: https://github.com/jadamo/CovNet. The next few cells will let you install this repo and make sure it works"
   ]
  },
  {
   "cell_type": "code",
   "execution_count": 1,
   "id": "010bdf4b-11b2-4914-919a-735ebcfbbf3b",
   "metadata": {},
   "outputs": [
    {
     "name": "stdout",
     "output_type": "stream",
     "text": [
      "/home/joeadamo/Research/CovNet\n"
     ]
    }
   ],
   "source": [
    "# Change this line to wherever you downloaded the repository\n",
    "%cd /home/joeadamo/Research/CovNet\n",
    "\n",
    "# install CovNet so you can use it anywhere on your computer\n",
    "# This should also install all necesary dependencies\n",
    "#!python -m pip install ."
   ]
  },
  {
   "cell_type": "code",
   "execution_count": 2,
   "id": "e7ae7324-9a0f-4fee-99a9-3789ba6c5b3d",
   "metadata": {},
   "outputs": [
    {
     "name": "stdout",
     "output_type": "stream",
     "text": [
      "/home/joeadamo/Research/CovNet/data/\n",
      ".\n",
      "----------------------------------------------------------------------\n",
      "Ran 1 test in 0.000s\n",
      "\n",
      "OK\n",
      "...\n",
      "----------------------------------------------------------------------\n",
      "Ran 3 tests in 0.258s\n",
      "\n",
      "OK\n"
     ]
    }
   ],
   "source": [
    "# run CovNet unit tests (if all of these pass, everything \"should\" work\n",
    "!python -m unittest tests/test_enviornment.py\n",
    "!python -m unittest tests/test_network.py\n",
    "#!python -m unittest tests/test_CovaPT.py"
   ]
  },
  {
   "cell_type": "code",
   "execution_count": 3,
   "id": "bcd1b29b-0081-4a2e-8338-b93c05609eb7",
   "metadata": {},
   "outputs": [],
   "source": [
    "from CovNet import Emulator\n",
    "from CovNet import Dataset\n",
    "import torch\n",
    "from torch.nn import functional as F\n",
    "import time\n",
    "import numpy as np\n",
    "import matplotlib.pyplot as plt\n",
    "import matplotlib.colors as colors\n",
    "plt.rcParams['figure.facecolor'] = 'white'"
   ]
  },
  {
   "cell_type": "markdown",
   "id": "15a52bf1-e400-4311-a6c1-eac095059cf0",
   "metadata": {},
   "source": [
    "## Step 2 - Loading in the training set  \n",
    "\n",
    "We need a training set to base our emulator on! Normally, building this set would depend on what you want your emulator to do, and is arguably more important than the network itself. Since we're building a network to generate covariance matrices at different cosmologies, we want to make sure the training set properly spans the range of input parameters we care about. \n",
    "\n",
    "For this demo, we'll use a small mock training set that I pre-computed such that you should be able to do everything on a laptop. There are $~8000$ matrices in total, each of which are 20x20. This data is accessed using the custom `MatrixDataset` class, which takes:\n",
    "* the directory your training data is stored\n",
    "* string specifying if this is the \"training\", \"validation\", or \"testing\" set\n",
    "* whether to only store part of the covariance matrix (the \"Gaussian\" term)\n",
    "* normalization value for positive values of matrices in the training set\n",
    "* normalization value for negative values of matrices in the training set"
   ]
  },
  {
   "cell_type": "code",
   "execution_count": 4,
   "id": "4ba00880-9f0d-44bc-87ac-f2af79216895",
   "metadata": {},
   "outputs": [],
   "source": [
    "# TODO: Update this directory with the location you saved the training set at!\n",
    "training_dir = \"/home/joeadamo/Research/Data/CovNet-Data/TIMESTEP-Training-Set/\"\n",
    "\n",
    "# load and pre-process the training set as a MatrixDataset class\n",
    "# Setting norm_pos and norm_neg to 0 tells CovNet to compute them from the input data\n",
    "train_data = Dataset.MatrixDataset(training_dir, \"training\", 1., False, 0., 0)\n",
    "norm_pos, norm_neg = train_data.norm_pos.item(), train_data.norm_neg.item()\n",
    "\n",
    "# load and pre-process the validation and test sets\n",
    "valid_data = Dataset.MatrixDataset(training_dir, \"validation\", 1., False, norm_pos, norm_neg)\n",
    "test_data = Dataset.MatrixDataset(training_dir, \"testing\", 1., False, norm_pos, norm_neg)"
   ]
  },
  {
   "cell_type": "markdown",
   "id": "4b4383ee-a917-407b-bdbc-b6779cbde0a8",
   "metadata": {},
   "source": [
    "## Step 3 - Building the network\n",
    "\n",
    "Next, we need to define our network architecture. CovNet uses configuration files to do this such that it is easy to tweak the design either in the file directly, or in code before training. Let's first open an example config file to see what we're dealing with"
   ]
  },
  {
   "cell_type": "code",
   "execution_count": 5,
   "id": "0148f6c9-be23-4c75-b834-986d7fd4ad85",
   "metadata": {
    "scrolled": true,
    "tags": []
   },
   "outputs": [
    {
     "name": "stdout",
     "output_type": "stream",
     "text": [
      "# -----------------------------------------------\n",
      "# parameters defining the network architecture\n",
      "\n",
      "# Can be either \"MLP\" or \"MLP-T\"\n",
      "architecture:  MLP-T\n",
      "\n",
      "# Input dimension of the network. Should be equal to the number of cosmology parameters you're sampling\n",
      "input_dim  : 6\n",
      "# Output dimension of the network. Should be equal to your matrix dimensionality\n",
      "# Note the actual output dimension will be (N + 1) * N / 2 \n",
      "output_dim : 20\n",
      "\n",
      "# These parameters define how many ResNet sub-blocks are in the network, as well as their input / output sizes\n",
      "num_mlp_blocks: 2\n",
      "mlp_dims: [50, 100, 200]\n",
      "\n",
      "# These parameters define various aspects of the transformer block\n",
      "# If you aren't using the transformer block, you can disregard these arguments\n",
      "patch_size             : [17, 5]\n",
      "num_transformer_blocks : 5\n",
      "num_heads              : 5\n",
      "embedding              : True        # <- whether to apply possitional embedding\n",
      "dropout_prob           : 0.25         \n",
      "freeze_mlp             : True        # <- whether to keeep mlp weights frozen during training\n",
      "train_mlp_first        : True\n",
      "\n",
      "# Training parameters\n",
      "num_epochs: 300\n",
      "learning_rate: [1.438e-3, 1.e-4, 1.e-5]\n",
      "batch_size: 600\n",
      "early_stopping_epochs: -1\n",
      "weight_initialization: He\n",
      "\n",
      "train_gaussian_only   : False\n",
      "start_from_checkpoint : False\n",
      "\n",
      "# numbers with which to normalize the training set\n",
      "# Should be updated after generating your specific training set\n",
      "norm_pos : 1.\n",
      "norm_neg : 1.\n",
      "\n",
      "# cosmology parameter bounds. This should line up with what you used to generate your\n",
      "# training set\n",
      "parameter_bounds:\n",
      " - [50, 100]\n",
      " - [0.05, 0.3]\n",
      " - [0.75, 4.75]\n",
      " - [1, 4]\n",
      " - [-4, 4]\n",
      " - [-3, 3]\n",
      "\n",
      "# Where to save the network\n",
      "save_dir: /Users/JoeyA/Research/CovNet/emulators/ngc_z3/MLP-T/\n",
      "# Where your training set lives\n",
      "training_dir: /Users/JoeyA/Research/CovNet/Training-Set-HighZ-NGC/"
     ]
    }
   ],
   "source": [
    "%cat config-files/example_file.yaml"
   ]
  },
  {
   "cell_type": "markdown",
   "id": "32d344d7-9b2b-45ea-bbc9-c7fe4753d509",
   "metadata": {},
   "source": [
    "Clearly, there are quite a few knobs we can tweak! For this demo we'll be usng the \"MLP\" architectur, so the main structural things we can change are the number of sub-blocks, and the dimensionality of each sub-block  \n",
    "Let's load in the config file into code such that we can manipulate its contents"
   ]
  },
  {
   "cell_type": "code",
   "execution_count": 6,
   "id": "ea4c54c8-9df0-48b1-aa81-62dcdafa9345",
   "metadata": {},
   "outputs": [
    {
     "name": "stdout",
     "output_type": "stream",
     "text": [
      "{'architecture': 'MLP-T', 'input_dim': 6, 'output_dim': 20, 'num_mlp_blocks': 2, 'mlp_dims': [50, 100, 200], 'patch_size': [17, 5], 'num_transformer_blocks': 5, 'num_heads': 5, 'embedding': True, 'dropout_prob': 0.25, 'freeze_mlp': True, 'train_mlp_first': True, 'num_epochs': 300, 'learning_rate': [0.001438, 0.0001, 1e-05], 'batch_size': 600, 'early_stopping_epochs': -1, 'weight_initialization': 'He', 'train_gaussian_only': False, 'start_from_checkpoint': False, 'norm_pos': 1.0, 'norm_neg': 1.0, 'parameter_bounds': [[50, 100], [0.05, 0.3], [0.75, 4.75], [1, 4], [-4, 4], [-3, 3]], 'save_dir': '/Users/JoeyA/Research/CovNet/emulators/ngc_z3/MLP-T/', 'training_dir': '/Users/JoeyA/Research/CovNet/Training-Set-HighZ-NGC/'}\n"
     ]
    }
   ],
   "source": [
    "config_dict = Dataset.load_config_file(\"./config-files/example_file.yaml\")\n",
    "print(config_dict)"
   ]
  },
  {
   "cell_type": "markdown",
   "id": "1f1ddca4-9329-42d9-bd15-5b093402a95f",
   "metadata": {},
   "source": [
    "Let's play around with this dictionary to design your own network! The following cell will have you define custom network parameters as you see fit. There are, of course, many more network design choices that aren't included in this dictionary (ex: the specific structure of each sub-block). Even so, the parameters you can change should give you an idea of how to design a network for your specific case. If you want to see the specific structure in more detail, check out `Blocks.py` and `Emulator.py`"
   ]
  },
  {
   "cell_type": "code",
   "execution_count": 7,
   "id": "9ca8bbd5-71ef-4417-8c5a-c2fa018ee92e",
   "metadata": {},
   "outputs": [],
   "source": [
    "# network parameters to be set by YOU!\n",
    "config_dict.save_dir = \"./emulators/example_net/\"\n",
    "config_dict.architecture = \"MLP\"\n",
    "config_dict.num_mlp_blocks = 2\n",
    "config_dict.mlp_dims = [50, 100, 200]\n",
    "\n",
    "# If you change these you also have to re-define the training / validation / test sets\n",
    "config_dict.norm_pos = norm_pos\n",
    "config_dict.norm_neg = norm_neg"
   ]
  },
  {
   "cell_type": "markdown",
   "id": "c67cac4a-162e-40ca-9536-1e32623b84c5",
   "metadata": {},
   "source": [
    "Now we've designed the actual network, but there are still more choices we need to make on how to train it! These choices are commonly called **hyperparameters**, and in our case include:\n",
    "* The batch size to use during training\n",
    "* the number of epochs to train for (how long to train)\n",
    "* the initial learning rate\n",
    "* How many rounds of training to do\n",
    "* Whether to stop early during training if performance stops improving\n",
    "\n",
    "We also need to define the **loss function**, which is the quantity we will try to minimize during training. We'll use the \"1-norm\" loss function, which is given by:\n",
    "$$L = \\sum_{i,j} \\left| C_{i,j}^\\text{true} - C_{i,j}^\\text{network} \\right|$$\n",
    "You can see from the formula that we go through each element of a matrix we emulate and calculate the absolute difference from the \"true\" value in the training set. We then sum all of these differences to get one loss value for each matrix. As we'll see later, this value will be the main metric for determining how well our network can emulate covariance matrices\n",
    "\n",
    "Use the next cell to define a training scheme yourself."
   ]
  },
  {
   "cell_type": "code",
   "execution_count": 8,
   "id": "6ebd5d25-31de-4fdc-85a4-148c29335a1d",
   "metadata": {},
   "outputs": [],
   "source": [
    "# Training parameters to be set by YOU!\n",
    "config_dict.weight_initialization = \"He\"\n",
    "config_dict.num_epochs = 300\n",
    "config_dict.learning_rate = [1e-3]\n",
    "config_dict.batch_size = 100\n",
    "config_dict.early_stopping_epochs = -1"
   ]
  },
  {
   "cell_type": "markdown",
   "id": "775b5cd1-ec1e-40bf-b238-361c7336ba1d",
   "metadata": {},
   "source": [
    "Now that we've defined all our training and network parameters, it's time to actually build the network itself! `CovNet` does this using the `Network_Emulator` class that takes a dictionary of parameters as input\n",
    "\n",
    "**NOTE** at this point PyTorch lets you make the optional decision of defining things on a GPU if one is available on you rmachine. Training on GPU is almost always preferable to CPU in terms of performance, but for this demo you shoulnd't have to worry about that. I've left the code that handles GPU compatability here for completeness "
   ]
  },
  {
   "cell_type": "code",
   "execution_count": 9,
   "id": "4814f411-f4c2-409f-84f1-813ef49f6d26",
   "metadata": {},
   "outputs": [],
   "source": [
    "net = Emulator.Network_Emulator(config_dict).to(Dataset.try_gpu())"
   ]
  },
  {
   "cell_type": "markdown",
   "id": "b5812219-8e2f-478a-898d-23649906a3e0",
   "metadata": {},
   "source": [
    "## Step 4 - Train the network"
   ]
  },
  {
   "cell_type": "code",
   "execution_count": 10,
   "id": "dc12ab8c-4785-4882-af61-3e5771868354",
   "metadata": {
    "scrolled": true,
    "tags": []
   },
   "outputs": [
    {
     "name": "stdout",
     "output_type": "stream",
     "text": [
      "Epoch : 0, avg train loss: 24.198\t avg validation loss: 24.475\t (0)\n",
      "Epoch : 1, avg train loss: 13.895\t avg validation loss: 14.199\t (0)\n",
      "Epoch : 2, avg train loss: 11.391\t avg validation loss: 11.667\t (0)\n",
      "Epoch : 3, avg train loss: 10.533\t avg validation loss: 10.774\t (0)\n",
      "Epoch : 4, avg train loss: 9.366\t avg validation loss: 9.589\t (0)\n",
      "Epoch : 5, avg train loss: 9.076\t avg validation loss: 9.349\t (0)\n",
      "Epoch : 6, avg train loss: 8.335\t avg validation loss: 8.607\t (0)\n",
      "Epoch : 7, avg train loss: 7.923\t avg validation loss: 8.130\t (0)\n",
      "Epoch : 8, avg train loss: 7.654\t avg validation loss: 7.913\t (0)\n",
      "Epoch : 9, avg train loss: 7.486\t avg validation loss: 7.720\t (0)\n",
      "Epoch : 10, avg train loss: 7.444\t avg validation loss: 7.670\t (0)\n",
      "Epoch : 11, avg train loss: 6.942\t avg validation loss: 7.164\t (0)\n",
      "Epoch : 12, avg train loss: 7.129\t avg validation loss: 7.425\t (1)\n",
      "Epoch : 13, avg train loss: 6.787\t avg validation loss: 7.077\t (0)\n",
      "Epoch : 14, avg train loss: 6.593\t avg validation loss: 6.906\t (0)\n",
      "Epoch : 15, avg train loss: 6.606\t avg validation loss: 6.918\t (1)\n",
      "Epoch : 16, avg train loss: 6.662\t avg validation loss: 6.956\t (2)\n",
      "Epoch : 17, avg train loss: 6.467\t avg validation loss: 6.775\t (0)\n",
      "Epoch : 18, avg train loss: 6.636\t avg validation loss: 6.942\t (1)\n",
      "Epoch : 19, avg train loss: 7.214\t avg validation loss: 7.526\t (2)\n",
      "Epoch : 20, avg train loss: 6.167\t avg validation loss: 6.511\t (0)\n",
      "Epoch : 21, avg train loss: 7.254\t avg validation loss: 7.538\t (1)\n",
      "Epoch : 22, avg train loss: 6.798\t avg validation loss: 7.082\t (2)\n",
      "Epoch : 23, avg train loss: 6.187\t avg validation loss: 6.486\t (0)\n",
      "Epoch : 24, avg train loss: 6.141\t avg validation loss: 6.415\t (0)\n",
      "Epoch : 25, avg train loss: 7.421\t avg validation loss: 7.696\t (1)\n",
      "Epoch : 26, avg train loss: 5.745\t avg validation loss: 6.078\t (0)\n",
      "Epoch : 27, avg train loss: 5.897\t avg validation loss: 6.187\t (1)\n",
      "Epoch : 28, avg train loss: 5.869\t avg validation loss: 6.182\t (2)\n",
      "Epoch : 29, avg train loss: 5.936\t avg validation loss: 6.243\t (3)\n",
      "Epoch : 30, avg train loss: 6.024\t avg validation loss: 6.338\t (4)\n",
      "Epoch : 31, avg train loss: 6.019\t avg validation loss: 6.328\t (5)\n",
      "Epoch : 32, avg train loss: 5.911\t avg validation loss: 6.224\t (6)\n",
      "Epoch : 33, avg train loss: 5.818\t avg validation loss: 6.111\t (7)\n",
      "Epoch : 34, avg train loss: 5.641\t avg validation loss: 5.942\t (0)\n",
      "Epoch : 35, avg train loss: 6.964\t avg validation loss: 7.267\t (1)\n",
      "Epoch : 36, avg train loss: 5.906\t avg validation loss: 6.224\t (2)\n",
      "Epoch : 37, avg train loss: 5.742\t avg validation loss: 6.054\t (3)\n",
      "Epoch : 38, avg train loss: 6.047\t avg validation loss: 6.351\t (4)\n",
      "Epoch : 39, avg train loss: 5.602\t avg validation loss: 5.949\t (5)\n",
      "Epoch : 40, avg train loss: 5.618\t avg validation loss: 5.910\t (0)\n",
      "Epoch : 41, avg train loss: 5.555\t avg validation loss: 5.888\t (0)\n",
      "Epoch : 42, avg train loss: 5.524\t avg validation loss: 5.860\t (0)\n",
      "Epoch : 43, avg train loss: 5.544\t avg validation loss: 5.904\t (1)\n",
      "Epoch : 44, avg train loss: 5.512\t avg validation loss: 5.826\t (0)\n",
      "Epoch : 45, avg train loss: 5.638\t avg validation loss: 5.947\t (1)\n",
      "Epoch : 46, avg train loss: 5.688\t avg validation loss: 6.010\t (2)\n",
      "Epoch : 47, avg train loss: 5.832\t avg validation loss: 6.135\t (3)\n",
      "Epoch : 48, avg train loss: 5.711\t avg validation loss: 6.062\t (4)\n",
      "Epoch : 49, avg train loss: 5.653\t avg validation loss: 5.966\t (5)\n",
      "Epoch : 50, avg train loss: 5.517\t avg validation loss: 5.827\t (6)\n",
      "Epoch : 51, avg train loss: 5.310\t avg validation loss: 5.638\t (0)\n",
      "Epoch : 52, avg train loss: 5.766\t avg validation loss: 6.077\t (1)\n",
      "Epoch : 53, avg train loss: 5.541\t avg validation loss: 5.830\t (2)\n",
      "Epoch : 54, avg train loss: 6.127\t avg validation loss: 6.441\t (3)\n",
      "Epoch : 55, avg train loss: 5.210\t avg validation loss: 5.561\t (0)\n",
      "Epoch : 56, avg train loss: 5.638\t avg validation loss: 5.990\t (1)\n",
      "Epoch : 57, avg train loss: 5.249\t avg validation loss: 5.584\t (2)\n",
      "Epoch : 58, avg train loss: 5.529\t avg validation loss: 5.860\t (3)\n",
      "Epoch : 59, avg train loss: 5.771\t avg validation loss: 6.049\t (4)\n",
      "Epoch : 60, avg train loss: 5.247\t avg validation loss: 5.578\t (5)\n",
      "Epoch : 61, avg train loss: 5.672\t avg validation loss: 6.034\t (6)\n",
      "Epoch : 62, avg train loss: 5.344\t avg validation loss: 5.664\t (7)\n",
      "Epoch : 63, avg train loss: 5.254\t avg validation loss: 5.589\t (8)\n",
      "Epoch : 64, avg train loss: 5.285\t avg validation loss: 5.647\t (9)\n",
      "Epoch : 65, avg train loss: 5.978\t avg validation loss: 6.307\t (10)\n",
      "Epoch : 66, avg train loss: 5.404\t avg validation loss: 5.736\t (11)\n",
      "Epoch : 67, avg train loss: 5.182\t avg validation loss: 5.525\t (0)\n",
      "Epoch : 68, avg train loss: 5.235\t avg validation loss: 5.545\t (1)\n",
      "Epoch : 69, avg train loss: 5.709\t avg validation loss: 6.055\t (2)\n",
      "Epoch : 70, avg train loss: 5.504\t avg validation loss: 5.872\t (3)\n",
      "Epoch : 71, avg train loss: 5.155\t avg validation loss: 5.494\t (0)\n",
      "Epoch : 72, avg train loss: 5.193\t avg validation loss: 5.546\t (1)\n",
      "Epoch : 73, avg train loss: 5.371\t avg validation loss: 5.662\t (2)\n",
      "Epoch : 74, avg train loss: 5.688\t avg validation loss: 6.042\t (3)\n",
      "Epoch : 75, avg train loss: 5.480\t avg validation loss: 5.829\t (4)\n",
      "Epoch : 76, avg train loss: 5.441\t avg validation loss: 5.832\t (5)\n",
      "Epoch : 77, avg train loss: 5.216\t avg validation loss: 5.574\t (6)\n",
      "Epoch : 78, avg train loss: 5.186\t avg validation loss: 5.515\t (7)\n",
      "Epoch : 79, avg train loss: 5.302\t avg validation loss: 5.646\t (8)\n",
      "Epoch : 80, avg train loss: 5.312\t avg validation loss: 5.648\t (9)\n",
      "Epoch : 81, avg train loss: 5.557\t avg validation loss: 5.888\t (10)\n",
      "Epoch : 82, avg train loss: 5.234\t avg validation loss: 5.613\t (11)\n",
      "Epoch : 83, avg train loss: 5.316\t avg validation loss: 5.696\t (12)\n",
      "Epoch : 84, avg train loss: 5.267\t avg validation loss: 5.620\t (13)\n",
      "Epoch : 85, avg train loss: 5.084\t avg validation loss: 5.432\t (0)\n",
      "Epoch : 86, avg train loss: 5.151\t avg validation loss: 5.504\t (1)\n",
      "Epoch : 87, avg train loss: 5.093\t avg validation loss: 5.489\t (2)\n",
      "Epoch : 88, avg train loss: 5.114\t avg validation loss: 5.470\t (3)\n",
      "Epoch : 89, avg train loss: 5.192\t avg validation loss: 5.602\t (4)\n",
      "Epoch : 90, avg train loss: 5.466\t avg validation loss: 5.829\t (5)\n",
      "Epoch : 91, avg train loss: 5.487\t avg validation loss: 5.871\t (6)\n",
      "Epoch : 92, avg train loss: 4.999\t avg validation loss: 5.359\t (0)\n",
      "Epoch : 93, avg train loss: 5.152\t avg validation loss: 5.504\t (1)\n",
      "Epoch : 94, avg train loss: 5.265\t avg validation loss: 5.680\t (2)\n",
      "Epoch : 95, avg train loss: 5.082\t avg validation loss: 5.462\t (3)\n",
      "Epoch : 96, avg train loss: 5.084\t avg validation loss: 5.459\t (4)\n",
      "Epoch : 97, avg train loss: 5.325\t avg validation loss: 5.692\t (5)\n",
      "Epoch : 98, avg train loss: 5.323\t avg validation loss: 5.736\t (6)\n",
      "Epoch : 99, avg train loss: 4.912\t avg validation loss: 5.304\t (0)\n",
      "Epoch : 100, avg train loss: 5.164\t avg validation loss: 5.542\t (1)\n",
      "Epoch : 101, avg train loss: 5.162\t avg validation loss: 5.492\t (2)\n",
      "Epoch : 102, avg train loss: 5.088\t avg validation loss: 5.438\t (3)\n",
      "Epoch : 103, avg train loss: 4.950\t avg validation loss: 5.332\t (4)\n",
      "Epoch : 104, avg train loss: 5.346\t avg validation loss: 5.686\t (5)\n",
      "Epoch : 105, avg train loss: 5.078\t avg validation loss: 5.464\t (6)\n",
      "Epoch : 106, avg train loss: 5.051\t avg validation loss: 5.375\t (7)\n",
      "Epoch : 107, avg train loss: 5.446\t avg validation loss: 5.794\t (8)\n",
      "Epoch : 108, avg train loss: 4.853\t avg validation loss: 5.267\t (0)\n",
      "Epoch : 109, avg train loss: 4.961\t avg validation loss: 5.414\t (1)\n",
      "Epoch : 110, avg train loss: 4.948\t avg validation loss: 5.346\t (2)\n",
      "Epoch : 111, avg train loss: 5.025\t avg validation loss: 5.430\t (3)\n",
      "Epoch : 112, avg train loss: 5.255\t avg validation loss: 5.670\t (4)\n",
      "Epoch : 113, avg train loss: 5.107\t avg validation loss: 5.477\t (5)\n",
      "Epoch : 114, avg train loss: 5.055\t avg validation loss: 5.453\t (6)\n",
      "Epoch : 115, avg train loss: 5.015\t avg validation loss: 5.396\t (7)\n",
      "Epoch : 116, avg train loss: 4.979\t avg validation loss: 5.365\t (8)\n",
      "Epoch : 117, avg train loss: 5.090\t avg validation loss: 5.453\t (9)\n",
      "Epoch : 118, avg train loss: 5.019\t avg validation loss: 5.388\t (10)\n",
      "Epoch : 119, avg train loss: 5.144\t avg validation loss: 5.519\t (11)\n",
      "Epoch : 120, avg train loss: 5.184\t avg validation loss: 5.555\t (12)\n",
      "Epoch : 121, avg train loss: 5.094\t avg validation loss: 5.471\t (13)\n",
      "Epoch : 122, avg train loss: 4.910\t avg validation loss: 5.338\t (14)\n",
      "Epoch : 123, avg train loss: 5.236\t avg validation loss: 5.670\t (15)\n",
      "Epoch : 124, avg train loss: 4.947\t avg validation loss: 5.342\t (16)\n",
      "Epoch : 125, avg train loss: 5.201\t avg validation loss: 5.579\t (17)\n",
      "Epoch : 126, avg train loss: 4.874\t avg validation loss: 5.266\t (0)\n",
      "Epoch : 127, avg train loss: 4.848\t avg validation loss: 5.235\t (0)\n",
      "Epoch : 128, avg train loss: 4.876\t avg validation loss: 5.234\t (0)\n",
      "Epoch : 129, avg train loss: 4.798\t avg validation loss: 5.196\t (0)\n",
      "Epoch : 130, avg train loss: 4.940\t avg validation loss: 5.310\t (1)\n",
      "Epoch : 131, avg train loss: 5.097\t avg validation loss: 5.494\t (2)\n",
      "Epoch : 132, avg train loss: 4.971\t avg validation loss: 5.364\t (3)\n",
      "Epoch : 133, avg train loss: 4.838\t avg validation loss: 5.234\t (4)\n",
      "Epoch : 134, avg train loss: 5.051\t avg validation loss: 5.465\t (5)\n",
      "Epoch : 135, avg train loss: 4.768\t avg validation loss: 5.171\t (0)\n",
      "Epoch : 136, avg train loss: 4.710\t avg validation loss: 5.135\t (0)\n",
      "Epoch : 137, avg train loss: 5.051\t avg validation loss: 5.426\t (1)\n",
      "Epoch : 138, avg train loss: 5.094\t avg validation loss: 5.495\t (2)\n",
      "Epoch : 139, avg train loss: 5.053\t avg validation loss: 5.457\t (3)\n",
      "Epoch : 140, avg train loss: 4.969\t avg validation loss: 5.391\t (4)\n",
      "Epoch : 141, avg train loss: 4.957\t avg validation loss: 5.369\t (5)\n",
      "Epoch : 142, avg train loss: 4.777\t avg validation loss: 5.209\t (6)\n",
      "Epoch : 143, avg train loss: 4.719\t avg validation loss: 5.117\t (0)\n",
      "Epoch : 144, avg train loss: 4.737\t avg validation loss: 5.136\t (1)\n",
      "Epoch : 145, avg train loss: 5.005\t avg validation loss: 5.419\t (2)\n",
      "Epoch : 146, avg train loss: 4.778\t avg validation loss: 5.204\t (3)\n",
      "Epoch : 147, avg train loss: 4.756\t avg validation loss: 5.220\t (4)\n",
      "Epoch : 148, avg train loss: 4.827\t avg validation loss: 5.250\t (5)\n",
      "Epoch : 149, avg train loss: 4.767\t avg validation loss: 5.154\t (6)\n",
      "Epoch : 150, avg train loss: 4.928\t avg validation loss: 5.357\t (7)\n",
      "Epoch : 151, avg train loss: 4.690\t avg validation loss: 5.123\t (8)\n",
      "Epoch : 152, avg train loss: 4.798\t avg validation loss: 5.195\t (9)\n",
      "Epoch : 153, avg train loss: 4.875\t avg validation loss: 5.264\t (10)\n",
      "Epoch : 154, avg train loss: 4.811\t avg validation loss: 5.209\t (11)\n",
      "Epoch : 155, avg train loss: 4.854\t avg validation loss: 5.262\t (12)\n",
      "Epoch : 156, avg train loss: 4.944\t avg validation loss: 5.357\t (13)\n",
      "Epoch : 157, avg train loss: 4.817\t avg validation loss: 5.277\t (14)\n",
      "Epoch : 158, avg train loss: 4.849\t avg validation loss: 5.244\t (15)\n",
      "Epoch : 159, avg train loss: 4.744\t avg validation loss: 5.191\t (16)\n",
      "Epoch : 160, avg train loss: 4.662\t avg validation loss: 5.134\t (17)\n",
      "Epoch : 161, avg train loss: 4.699\t avg validation loss: 5.128\t (18)\n",
      "Epoch : 162, avg train loss: 4.592\t avg validation loss: 5.023\t (0)\n",
      "Epoch : 163, avg train loss: 4.776\t avg validation loss: 5.211\t (1)\n",
      "Epoch : 164, avg train loss: 4.661\t avg validation loss: 5.116\t (2)\n",
      "Epoch : 165, avg train loss: 4.878\t avg validation loss: 5.319\t (3)\n",
      "Epoch : 166, avg train loss: 4.700\t avg validation loss: 5.092\t (4)\n",
      "Epoch : 167, avg train loss: 4.702\t avg validation loss: 5.143\t (5)\n",
      "Epoch : 168, avg train loss: 5.223\t avg validation loss: 5.619\t (6)\n",
      "Epoch : 169, avg train loss: 4.969\t avg validation loss: 5.403\t (7)\n",
      "Epoch : 170, avg train loss: 4.677\t avg validation loss: 5.086\t (8)\n",
      "Epoch : 171, avg train loss: 4.776\t avg validation loss: 5.239\t (9)\n",
      "Epoch : 172, avg train loss: 4.926\t avg validation loss: 5.399\t (10)\n",
      "Epoch : 173, avg train loss: 4.671\t avg validation loss: 5.138\t (11)\n",
      "Epoch : 174, avg train loss: 4.814\t avg validation loss: 5.265\t (12)\n",
      "Epoch : 175, avg train loss: 4.870\t avg validation loss: 5.328\t (13)\n",
      "Epoch : 176, avg train loss: 4.746\t avg validation loss: 5.161\t (14)\n",
      "Epoch : 177, avg train loss: 4.961\t avg validation loss: 5.427\t (15)\n",
      "Epoch : 178, avg train loss: 4.695\t avg validation loss: 5.128\t (16)\n",
      "Epoch : 179, avg train loss: 4.654\t avg validation loss: 5.095\t (17)\n",
      "Epoch : 180, avg train loss: 4.850\t avg validation loss: 5.315\t (18)\n",
      "Epoch : 181, avg train loss: 4.815\t avg validation loss: 5.276\t (19)\n",
      "Epoch : 182, avg train loss: 4.632\t avg validation loss: 5.077\t (20)\n",
      "Epoch : 183, avg train loss: 4.693\t avg validation loss: 5.125\t (21)\n",
      "Epoch : 184, avg train loss: 4.616\t avg validation loss: 5.062\t (22)\n",
      "Epoch : 185, avg train loss: 4.673\t avg validation loss: 5.130\t (23)\n",
      "Epoch : 186, avg train loss: 4.798\t avg validation loss: 5.295\t (24)\n",
      "Epoch : 187, avg train loss: 4.750\t avg validation loss: 5.197\t (25)\n",
      "Epoch : 188, avg train loss: 4.787\t avg validation loss: 5.225\t (26)\n",
      "Epoch : 189, avg train loss: 4.808\t avg validation loss: 5.283\t (27)\n",
      "Epoch : 190, avg train loss: 4.747\t avg validation loss: 5.207\t (28)\n",
      "Epoch : 191, avg train loss: 4.760\t avg validation loss: 5.189\t (29)\n",
      "Epoch : 192, avg train loss: 4.995\t avg validation loss: 5.456\t (30)\n",
      "Epoch : 193, avg train loss: 4.813\t avg validation loss: 5.277\t (31)\n",
      "Epoch : 194, avg train loss: 4.962\t avg validation loss: 5.405\t (32)\n",
      "Epoch : 195, avg train loss: 4.741\t avg validation loss: 5.164\t (33)\n",
      "Epoch : 196, avg train loss: 4.579\t avg validation loss: 5.031\t (34)\n",
      "Epoch : 197, avg train loss: 4.726\t avg validation loss: 5.181\t (35)\n",
      "Epoch : 198, avg train loss: 4.741\t avg validation loss: 5.226\t (36)\n",
      "Epoch : 199, avg train loss: 4.706\t avg validation loss: 5.167\t (37)\n",
      "Epoch : 200, avg train loss: 4.501\t avg validation loss: 4.986\t (0)\n",
      "Epoch : 201, avg train loss: 4.716\t avg validation loss: 5.216\t (1)\n",
      "Epoch : 202, avg train loss: 4.594\t avg validation loss: 5.053\t (2)\n",
      "Epoch : 203, avg train loss: 4.662\t avg validation loss: 5.165\t (3)\n",
      "Epoch : 204, avg train loss: 4.791\t avg validation loss: 5.236\t (4)\n",
      "Epoch : 205, avg train loss: 4.670\t avg validation loss: 5.187\t (5)\n",
      "Epoch : 206, avg train loss: 4.709\t avg validation loss: 5.175\t (6)\n",
      "Epoch : 207, avg train loss: 4.713\t avg validation loss: 5.213\t (7)\n",
      "Epoch : 208, avg train loss: 4.719\t avg validation loss: 5.212\t (8)\n",
      "Epoch : 209, avg train loss: 4.638\t avg validation loss: 5.075\t (9)\n",
      "Epoch : 210, avg train loss: 4.530\t avg validation loss: 5.024\t (10)\n",
      "Epoch : 211, avg train loss: 4.680\t avg validation loss: 5.182\t (11)\n",
      "Epoch : 212, avg train loss: 4.744\t avg validation loss: 5.259\t (12)\n",
      "Epoch : 213, avg train loss: 4.774\t avg validation loss: 5.249\t (13)\n",
      "Epoch : 214, avg train loss: 4.626\t avg validation loss: 5.073\t (14)\n",
      "Epoch : 215, avg train loss: 4.518\t avg validation loss: 4.991\t (15)\n",
      "Epoch : 216, avg train loss: 4.684\t avg validation loss: 5.161\t (16)\n",
      "Epoch : 217, avg train loss: 4.624\t avg validation loss: 5.096\t (17)\n",
      "Epoch : 218, avg train loss: 4.662\t avg validation loss: 5.106\t (18)\n",
      "Epoch : 219, avg train loss: 4.609\t avg validation loss: 5.075\t (19)\n",
      "Epoch : 220, avg train loss: 4.541\t avg validation loss: 5.035\t (20)\n",
      "Epoch : 221, avg train loss: 5.209\t avg validation loss: 5.690\t (21)\n",
      "Epoch : 222, avg train loss: 4.642\t avg validation loss: 5.128\t (22)\n",
      "Epoch : 223, avg train loss: 4.541\t avg validation loss: 5.025\t (23)\n",
      "Epoch : 224, avg train loss: 4.674\t avg validation loss: 5.194\t (24)\n",
      "Epoch : 225, avg train loss: 4.587\t avg validation loss: 5.092\t (25)\n",
      "Epoch : 226, avg train loss: 4.493\t avg validation loss: 5.001\t (26)\n",
      "Epoch : 227, avg train loss: 4.608\t avg validation loss: 5.086\t (27)\n",
      "Epoch : 228, avg train loss: 4.530\t avg validation loss: 5.040\t (28)\n",
      "Epoch : 229, avg train loss: 4.630\t avg validation loss: 5.082\t (29)\n",
      "Epoch : 230, avg train loss: 4.547\t avg validation loss: 5.034\t (30)\n",
      "Epoch : 231, avg train loss: 4.841\t avg validation loss: 5.309\t (31)\n",
      "Epoch : 232, avg train loss: 4.633\t avg validation loss: 5.109\t (32)\n",
      "Epoch : 233, avg train loss: 4.447\t avg validation loss: 4.941\t (0)\n",
      "Epoch : 234, avg train loss: 4.761\t avg validation loss: 5.244\t (1)\n",
      "Epoch : 235, avg train loss: 4.447\t avg validation loss: 4.920\t (0)\n",
      "Epoch : 236, avg train loss: 4.628\t avg validation loss: 5.162\t (1)\n",
      "Epoch : 237, avg train loss: 4.596\t avg validation loss: 5.076\t (2)\n",
      "Epoch : 238, avg train loss: 4.524\t avg validation loss: 5.049\t (3)\n",
      "Epoch : 239, avg train loss: 4.556\t avg validation loss: 5.023\t (4)\n",
      "Epoch : 240, avg train loss: 4.424\t avg validation loss: 4.901\t (0)\n",
      "Epoch : 241, avg train loss: 4.461\t avg validation loss: 4.941\t (1)\n",
      "Epoch : 242, avg train loss: 4.465\t avg validation loss: 4.999\t (2)\n",
      "Epoch : 243, avg train loss: 4.798\t avg validation loss: 5.293\t (3)\n",
      "Epoch : 244, avg train loss: 4.597\t avg validation loss: 5.079\t (4)\n",
      "Epoch : 245, avg train loss: 4.431\t avg validation loss: 4.918\t (5)\n",
      "Epoch : 246, avg train loss: 4.713\t avg validation loss: 5.220\t (6)\n",
      "Epoch : 247, avg train loss: 4.457\t avg validation loss: 4.961\t (7)\n",
      "Epoch : 248, avg train loss: 4.462\t avg validation loss: 4.994\t (8)\n",
      "Epoch : 249, avg train loss: 4.442\t avg validation loss: 4.958\t (9)\n",
      "Epoch : 250, avg train loss: 4.823\t avg validation loss: 5.324\t (10)\n",
      "Epoch : 251, avg train loss: 4.561\t avg validation loss: 5.056\t (11)\n",
      "Epoch : 252, avg train loss: 4.524\t avg validation loss: 4.995\t (12)\n",
      "Epoch : 253, avg train loss: 4.601\t avg validation loss: 5.069\t (13)\n",
      "Epoch : 254, avg train loss: 4.553\t avg validation loss: 5.053\t (14)\n",
      "Epoch : 255, avg train loss: 4.920\t avg validation loss: 5.381\t (15)\n",
      "Epoch : 256, avg train loss: 4.477\t avg validation loss: 4.965\t (16)\n",
      "Epoch : 257, avg train loss: 4.842\t avg validation loss: 5.369\t (17)\n",
      "Epoch : 258, avg train loss: 4.603\t avg validation loss: 5.127\t (18)\n",
      "Epoch : 259, avg train loss: 4.472\t avg validation loss: 5.010\t (19)\n",
      "Epoch : 260, avg train loss: 4.513\t avg validation loss: 4.987\t (20)\n",
      "Epoch : 261, avg train loss: 4.475\t avg validation loss: 4.978\t (21)\n",
      "Epoch : 262, avg train loss: 4.535\t avg validation loss: 5.046\t (22)\n",
      "Epoch : 263, avg train loss: 4.441\t avg validation loss: 4.934\t (23)\n",
      "Epoch : 264, avg train loss: 4.365\t avg validation loss: 4.865\t (0)\n",
      "Epoch : 265, avg train loss: 4.540\t avg validation loss: 5.035\t (1)\n",
      "Epoch : 266, avg train loss: 4.412\t avg validation loss: 4.910\t (2)\n",
      "Epoch : 267, avg train loss: 4.429\t avg validation loss: 4.964\t (3)\n",
      "Epoch : 268, avg train loss: 4.437\t avg validation loss: 4.969\t (4)\n",
      "Epoch : 269, avg train loss: 4.580\t avg validation loss: 5.047\t (5)\n",
      "Epoch : 270, avg train loss: 4.384\t avg validation loss: 4.914\t (6)\n",
      "Epoch : 271, avg train loss: 4.561\t avg validation loss: 5.073\t (7)\n",
      "Epoch : 272, avg train loss: 4.508\t avg validation loss: 5.066\t (8)\n",
      "Epoch : 273, avg train loss: 4.401\t avg validation loss: 4.907\t (9)\n",
      "Epoch : 274, avg train loss: 4.426\t avg validation loss: 4.906\t (10)\n",
      "Epoch : 275, avg train loss: 4.436\t avg validation loss: 4.959\t (11)\n",
      "Epoch : 276, avg train loss: 4.559\t avg validation loss: 5.024\t (12)\n",
      "Epoch : 277, avg train loss: 4.377\t avg validation loss: 4.923\t (13)\n",
      "Epoch : 278, avg train loss: 4.554\t avg validation loss: 5.065\t (14)\n",
      "Epoch : 279, avg train loss: 4.409\t avg validation loss: 4.942\t (15)\n",
      "Epoch : 280, avg train loss: 4.516\t avg validation loss: 5.069\t (16)\n",
      "Epoch : 281, avg train loss: 4.514\t avg validation loss: 5.033\t (17)\n",
      "Epoch : 282, avg train loss: 4.530\t avg validation loss: 5.026\t (18)\n",
      "Epoch : 283, avg train loss: 4.339\t avg validation loss: 4.864\t (0)\n",
      "Epoch : 284, avg train loss: 4.531\t avg validation loss: 5.033\t (1)\n",
      "Epoch : 285, avg train loss: 4.390\t avg validation loss: 4.906\t (2)\n",
      "Epoch : 286, avg train loss: 4.724\t avg validation loss: 5.242\t (3)\n",
      "Epoch : 287, avg train loss: 4.522\t avg validation loss: 5.073\t (4)\n",
      "Epoch : 288, avg train loss: 4.496\t avg validation loss: 4.988\t (5)\n",
      "Epoch : 289, avg train loss: 4.770\t avg validation loss: 5.329\t (6)\n",
      "Epoch : 290, avg train loss: 4.428\t avg validation loss: 4.926\t (7)\n",
      "Epoch : 291, avg train loss: 4.365\t avg validation loss: 4.910\t (8)\n",
      "Epoch : 292, avg train loss: 4.370\t avg validation loss: 4.906\t (9)\n",
      "Epoch : 293, avg train loss: 4.432\t avg validation loss: 4.941\t (10)\n",
      "Epoch : 294, avg train loss: 4.456\t avg validation loss: 4.996\t (11)\n",
      "Epoch : 295, avg train loss: 4.447\t avg validation loss: 4.985\t (12)\n",
      "Epoch : 296, avg train loss: 4.462\t avg validation loss: 5.023\t (13)\n",
      "Epoch : 297, avg train loss: 4.425\t avg validation loss: 4.934\t (14)\n",
      "Epoch : 298, avg train loss: 4.383\t avg validation loss: 4.877\t (15)\n",
      "Epoch : 299, avg train loss: 4.362\t avg validation loss: 4.833\t (0)\n",
      "lr 1.000e-03, bsize 100: Best validation loss was 4.833 after 299 epochs\n",
      "Round 1 done training network!, took 2 minutes 10.04 seconds\n",
      "\n"
     ]
    }
   ],
   "source": [
    "for i in range(len(config_dict.learning_rate)):\n",
    "    t1 = time.time()\n",
    "    optimizer = torch.optim.Adam(net.parameters(), lr=config_dict.learning_rate[i])\n",
    "    net.Train(optimizer, train_data, valid_data, True, config_dict.save_dir, i)\n",
    "    t2 = time.time()\n",
    "    print(\"Round {:0.0f} done training network!, took {:0.0f} minutes {:0.2f} seconds\\n\".format(i+1, int((t2 - t1)/60), (t2 - t1)%60))"
   ]
  },
  {
   "cell_type": "markdown",
   "id": "3b7201f3-9faf-4798-bf72-e12a8e4fada3",
   "metadata": {},
   "source": [
    "## Step 5 - Test the network  \n",
    "\n",
    "Our main metric for how our network did is the average loss for the test set. To do this we'll use a helper class called `CovNet` that allows us to output covariance matrices from a trained network more easily. This is the class you would call during an MCMC analysis."
   ]
  },
  {
   "cell_type": "code",
   "execution_count": 11,
   "id": "9e1c29c9-c7e8-4c3a-a913-75b17d4b0a93",
   "metadata": {},
   "outputs": [],
   "source": [
    "cov_emulator = Emulator.CovNet(net.config_dict.save_dir)"
   ]
  },
  {
   "cell_type": "markdown",
   "id": "a0102ab4-a643-46cc-b8f2-102d0eeb8b03",
   "metadata": {},
   "source": [
    "The following cell computes the average test loss, and compares it to the final average loss for the training and validation sets."
   ]
  },
  {
   "cell_type": "code",
   "execution_count": 13,
   "id": "51f993c6-3d5c-4953-8724-43cb254b80f0",
   "metadata": {},
   "outputs": [
    {
     "name": "stdout",
     "output_type": "stream",
     "text": [
      "Average training set loss = 4.3617\n",
      "from net object: 4.3617\n",
      "Average validation set loss = 4.8332\n",
      "Average testing set  loss = 4.7968\n"
     ]
    }
   ],
   "source": [
    "train_loss = cov_emulator.get_avg_loss(train_data)\n",
    "valid_loss = cov_emulator.get_avg_loss(valid_data)\n",
    "test_loss =  cov_emulator.get_avg_loss(test_data)\n",
    "\n",
    "train_loss_2 = Dataset.get_avg_loss(net, train_data)\n",
    "\n",
    "print(\"Average training set loss = {:0.4f}\".format(train_loss))\n",
    "print(\"Average validation set loss = {:0.4f}\".format(valid_loss))\n",
    "print(\"Average testing set  loss = {:0.4f}\".format(test_loss))"
   ]
  },
  {
   "cell_type": "code",
   "execution_count": 14,
   "id": "5f344dd1-ced6-4506-b362-3b6cb333734b",
   "metadata": {},
   "outputs": [
    {
     "name": "stdout",
     "output_type": "stream",
     "text": [
      "final validation loss = 4.833\n"
     ]
    },
    {
     "data": {
      "text/plain": [
       "Text(0, 0.5, 'average loss')"
      ]
     },
     "execution_count": 14,
     "metadata": {},
     "output_type": "execute_result"
    },
    {
     "data": {
      "image/png": "[encoded data removed]",
      "text/plain": [
       "<Figure size 432x288 with 1 Axes>"
      ]
     },
     "metadata": {
      "needs_background": "light"
     },
     "output_type": "display_data"
    }
   ],
   "source": [
    "training_data = torch.load(\"/home/joeadamo/Research/CovNet/emulators/example_net/train_data-MLP.dat\", map_location=Dataset.try_gpu())\n",
    "epochs = training_data[0,:]    \n",
    "round_start = torch.where(epochs == 0)[0]\n",
    "train_loss = training_data[1,:]\n",
    "valid_loss = training_data[2,:]\n",
    "\n",
    "print(\"final validation loss = {:0.3f}\".format(torch.min(valid_loss)))\n",
    "\n",
    "plt.plot(range(len(epochs)), train_loss, color=\"blue\", label=\"training loss\")\n",
    "plt.plot(range(len(epochs)), valid_loss, color=\"red\", ls=\"--\", label=\"validation loss\")\n",
    "plt.ylim(4, 20)\n",
    "for i in range(1, len(round_start)):\n",
    "    plt.axvline(round_start[i], c=\"black\", ls=\"--\")\n",
    "plt.legend()\n",
    "plt.xlabel(\"epoch\")\n",
    "plt.ylabel(\"average loss\")"
   ]
  },
  {
   "cell_type": "markdown",
   "id": "d0380f8f-188c-4c15-b26a-4f8848cf2ad7",
   "metadata": {},
   "source": [
    "Let's dig a little deeper and try visualizing how accurately our network can generate individual matrices."
   ]
  },
  {
   "cell_type": "code",
   "execution_count": 15,
   "id": "ef213350-910b-4501-b8a5-1331ff70b591",
   "metadata": {},
   "outputs": [
    {
     "name": "stdout",
     "output_type": "stream",
     "text": [
      "sample 511, params: [82.760216    0.16121744  2.503405    3.4073157   1.6669979  -0.9714113 ]\n",
      "Loss value = 1.952\n",
      "error per entry: mean = 6.274%, median = 1.575%\n"
     ]
    },
    {
     "name": "stderr",
     "output_type": "stream",
     "text": [
      "/tmp/ipykernel_539439/3209735192.py:15: RuntimeWarning: invalid value encountered in true_divide\n",
      "  error = abs((cov_predict - cov_actual) / cov_actual).flatten()\n"
     ]
    },
    {
     "data": {
      "image/png": "[encoded data removed]",
      "text/plain": [
       "<Figure size 720x360 with 3 Axes>"
      ]
     },
     "metadata": {
      "needs_background": "light"
     },
     "output_type": "display_data"
    }
   ],
   "source": [
    "# first, let's look at the raw emulator output, with pre-processing still applied\n",
    "idx = np.random.randint(0, len(test_data))\n",
    "\n",
    "params = test_data[idx][0].detach().numpy()\n",
    "cov_actual = test_data[idx][1].detach()\n",
    "cov_predict = cov_emulator.get_covariance_matrix(params, raw=True).detach().view(20,20)\n",
    "\n",
    "RLoss = F.l1_loss(cov_predict, cov_actual, reduction=\"sum\")\n",
    "\n",
    "print(\"sample \" + str(idx) + \", params:\", params)\n",
    "print(\"Loss value = {:0.3f}\".format(RLoss))\n",
    "\n",
    "cov_predict = cov_predict.numpy()\n",
    "cov_actual = cov_actual.numpy()\n",
    "error = abs((cov_predict - cov_actual) / cov_actual).flatten()\n",
    "error = error[(np.isnan(error) == False)]\n",
    "print(\"error per entry: mean = {:0.3f}%, median = {:0.3f}%\".format(100*np.mean(error), 100*np.median(error)))\n",
    "\n",
    "fig, axs = plt.subplots(1, 2, figsize=(10, 5))\n",
    "axs[0].set_title(\"from CovaPT\")\n",
    "axs[1].set_title(\"from network\")\n",
    "img = axs[0].imshow(cov_actual, cmap=\"RdBu\")\n",
    "img = axs[1].imshow(cov_predict, cmap=\"RdBu\", vmin=np.amin(cov_actual), vmax=np.amax(cov_actual))\n",
    "\n",
    "cbar_ax = fig.add_axes([0.94, 0.15, 0.039, 0.7])\n",
    "cbar = fig.colorbar(img, cax=cbar_ax)"
   ]
  },
  {
   "cell_type": "code",
   "execution_count": 16,
   "id": "12b219cf-4bfb-4fd3-b81e-0cad31fd7b4b",
   "metadata": {},
   "outputs": [
    {
     "name": "stdout",
     "output_type": "stream",
     "text": [
      "trace(C) = 5.074e+08,\t actual = 1.073e+07,\t error=4627.703%\n",
      "det(C) = 276.82,\t actual = 212.978,\t error=29.974%\n",
      "cond(C) = 1.60e+04,\t actual = 5.82e+03\n"
     ]
    },
    {
     "data": {
      "image/png": "[encoded data removed]",
      "text/plain": [
       "<Figure size 720x360 with 3 Axes>"
      ]
     },
     "metadata": {
      "needs_background": "light"
     },
     "output_type": "display_data"
    }
   ],
   "source": [
    "# Now let's look at the actual covariance matrix without pre-processing\n",
    "cov_actual = test_data.get_full_matrix(i)\n",
    "cov_predict = cov_emulator.get_covariance_matrix(params, raw=False)\n",
    "\n",
    "# compile some statistics of each matrix and compare them\n",
    "trace_pred = np.trace(cov_predict)\n",
    "trace_act = np.trace(cov_actual)\n",
    "trace_err = 100*(trace_pred - trace_act) / trace_act\n",
    "\n",
    "det_pred = np.linalg.slogdet(cov_predict)[1]\n",
    "det_act  = np.linalg.slogdet(cov_actual)[1]\n",
    "det_err = 100*(det_pred - det_act) / det_act\n",
    "\n",
    "cond_pred = np.linalg.cond(cov_predict)\n",
    "cond_act = np.linalg.cond(cov_actual)\n",
    "\n",
    "print(\"trace(C) = {:0.3e},\\t actual = {:0.3e},\\t error={:0.3f}%\".format(trace_pred, trace_act, trace_err))\n",
    "print(\"det(C) = {:0.2f},\\t actual = {:0.3f},\\t error={:0.3f}%\".format(det_pred, det_act, det_err))\n",
    "print(\"cond(C) = {:0.2e},\\t actual = {:0.2e}\".format(cond_pred, cond_act))\n",
    "\n",
    "fig, axs = plt.subplots(1, 2, figsize=(10, 5))\n",
    "axs[0].set_title(\"from CovaPT\")\n",
    "axs[1].set_title(\"from network\")\n",
    "img = axs[0].imshow(cov_actual, norm=colors.SymLogNorm(linthresh=1., vmin=np.amin(cov_actual), vmax=np.amax(cov_actual)))\n",
    "img = axs[1].imshow(cov_predict, norm=colors.SymLogNorm(linthresh=1., vmin=np.amin(cov_actual), vmax=np.amax(cov_actual)))\n",
    "\n",
    "cbar_ax = fig.add_axes([0.94, 0.15, 0.039, 0.7])\n",
    "cbar = fig.colorbar(img, cax=cbar_ax)"
   ]
  },
  {
   "cell_type": "code",
   "execution_count": null,
   "id": "181fbc0c-ff57-4c7f-88cf-25203e121b88",
   "metadata": {},
   "outputs": [],
   "source": []
  }
 ],
 "metadata": {
  "kernelspec": {
   "display_name": "Python 3 (ipykernel)",
   "language": "python",
   "name": "python3"
  },
  "language_info": {
   "codemirror_mode": {
    "name": "ipython",
    "version": 3
   },
   "file_extension": ".py",
   "mimetype": "text/x-python",
   "name": "python",
   "nbconvert_exporter": "python",
   "pygments_lexer": "ipython3",
   "version": "3.10.12"
  }
 },
 "nbformat": 4,
 "nbformat_minor": 5
}
