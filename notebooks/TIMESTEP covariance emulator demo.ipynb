{
 "cells": [
  {
   "cell_type": "markdown",
   "id": "810be3bb-389e-42f7-aea5-eaa972f48868",
   "metadata": {},
   "source": [
    "# Covariance Emulator Demo notebook  \n",
    "\n",
    "The purpose of this notebook is to give you an introduction on how to design, train, and test a neural network emulator that you want to use in a cosmological data analysis.  \n",
    "One of the ingredients to modern cosmological inference is the **covariance matrix**  \n",
    "\n",
    "This notebook is designed to be run on a typical laptop. At the end of this demo, you should be able to:\n",
    "- Gain some familiarity with how neural networks are designed and trained\n",
    "- TODO: fill out this list\n",
    "\n",
    "### Step 1 - Install  \n",
    "\n",
    "This demo uses the `CovNet` package designed by Joe Adamo to emulate covariance matrices. You'll need to download the associated github repository here: https://github.com/jadamo/CovNet. The next few cells will let you install this repo and make sure it works"
   ]
  },
  {
   "cell_type": "code",
   "execution_count": 5,
   "id": "010bdf4b-11b2-4914-919a-735ebcfbbf3b",
   "metadata": {},
   "outputs": [
    {
     "name": "stdout",
     "output_type": "stream",
     "text": [
      "/home/joeadamo/Research/CovNet\n"
     ]
    }
   ],
   "source": [
    "# Change this line to wherever you downloaded the repository\n",
    "%cd /home/joeadamo/Research/CovNet\n",
    "\n",
    "# install CovNet so you can use it anywhere on your computer\n",
    "# This should also install all necesary dependencies\n",
    "#!python -m pip install ."
   ]
  },
  {
   "cell_type": "code",
   "execution_count": 3,
   "id": "e7ae7324-9a0f-4fee-99a9-3789ba6c5b3d",
   "metadata": {},
   "outputs": [
    {
     "name": "stdout",
     "output_type": "stream",
     "text": [
      "/home/joeadamo/Research/CovNet\n",
      "/home/joeadamo/Research/CovNet/data/\n",
      ".\n",
      "----------------------------------------------------------------------\n",
      "Ran 1 test in 0.000s\n",
      "\n",
      "OK\n",
      "...\n",
      "----------------------------------------------------------------------\n",
      "Ran 3 tests in 2.055s\n",
      "\n",
      "OK\n"
     ]
    }
   ],
   "source": [
    "# run CovNet unit tests (if all of these pass, everything \"should\" work\n",
    "!python -m unittest tests/test_enviornment.py\n",
    "!python -m unittest tests/test_CovaPT.py"
   ]
  },
  {
   "cell_type": "code",
   "execution_count": 4,
   "id": "bcd1b29b-0081-4a2e-8338-b93c05609eb7",
   "metadata": {},
   "outputs": [],
   "source": [
    "import CovNet"
   ]
  },
  {
   "cell_type": "code",
   "execution_count": null,
   "id": "e43fe0bb-5ad0-42d3-8624-c10d874e58b7",
   "metadata": {},
   "outputs": [],
   "source": []
  }
 ],
 "metadata": {
  "kernelspec": {
   "display_name": "Python 3 (ipykernel)",
   "language": "python",
   "name": "python3"
  },
  "language_info": {
   "codemirror_mode": {
    "name": "ipython",
    "version": 3
   },
   "file_extension": ".py",
   "mimetype": "text/x-python",
   "name": "python",
   "nbconvert_exporter": "python",
   "pygments_lexer": "ipython3",
   "version": "3.10.12"
  }
 },
 "nbformat": 4,
 "nbformat_minor": 5
}
