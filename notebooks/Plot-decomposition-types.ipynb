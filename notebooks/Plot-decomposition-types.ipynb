{
 "cells": [
  {
   "cell_type": "markdown",
   "id": "a77f3aaa-20a3-4a50-ace2-32c927096859",
   "metadata": {},
   "source": [
    "This notebook is meant to compare the different types of matrix decompositions used for training to see which one works best"
   ]
  },
  {
   "cell_type": "code",
   "execution_count": 15,
   "id": "8f414b17-75c9-4d1c-b047-6c7e8c178dfc",
   "metadata": {},
   "outputs": [],
   "source": [
    "%matplotlib inline\n",
    "import time, sys, math\n",
    "import numpy as np\n",
    "import matplotlib.pyplot as plt\n",
    "import torch\n",
    "import torch.nn as nn\n",
    "from torch.nn import functional as F\n",
    "from multiprocessing.pool import ThreadPool as Pool\n",
    "sys.path.insert(1, '/home/joeadamo/Research/covariance_emulator')\n",
    "import covariance_emulator as ce\n",
    "plt.rcParams['figure.facecolor'] = 'white'\n",
    "\n",
    "sys.path.insert(1, '/home/joeadamo/Research/CovA-NN-Emulator')\n",
    "#sys.path.insert(1, '/home/jadamo/CovA-NN-Emulator')\n",
    "sys.path.append('/home/joeadamo/Research') #<- parent directory of dark emulator code\n",
    "from DarkEmuPowerRSD import pkmu_nn, pkmu_hod\n",
    "from CovNet import CovNet"
   ]
  },
  {
   "cell_type": "code",
   "execution_count": 17,
   "id": "0203068f-2c92-430a-bf3e-c64c08711099",
   "metadata": {},
   "outputs": [],
   "source": [
    "N = 52500\n",
    "N_PROC = 15\n",
    "N_test = int(N*0.1)\n",
    "training_dir = \"/home/joeadamo/Research/CovNet/Data/Training-Set/\"\n",
    "data_dir =  \"/home/joeadamo/Research/CovNet/Data/\"\n",
    "PCA_dir = \"/home/joeadamo/Research/CovNet/Data/PCA-Set/\"\n",
    "BOSS_dir = \"/home/joeadamo/Research/Data/BOSS-DR12/\"\n",
    "CovaPT_dir = \"/home/joeadamo/Research/CovaPT/Example-Data/\""
   ]
  },
  {
   "cell_type": "code",
   "execution_count": 5,
   "id": "2ae54b78-490f-4bcb-9a71-907c067ebaee",
   "metadata": {},
   "outputs": [
    {
     "name": "stdout",
     "output_type": "stream",
     "text": [
      "initialize cosmo_class\n",
      "Initialize pklin emulator\n",
      "initialize propagator emulator\n",
      "Initialize sigma_d emulator\n",
      "initialize cross-correlation emulator\n",
      "initialize auto-correlation emulator\n",
      "Initialize sigmaM emulator\n",
      "initialize xinl emulator\n"
     ]
    }
   ],
   "source": [
    "# data and model vectors for chi squared calculations\n",
    "# TODO: Replace model vector with Yosuke's emulator output\n",
    "P_BOSS = np.loadtxt(BOSS_dir+\"Cl-BOSS-DR12.dat\")\n",
    "pgg = pkmu_hod()\n",
    "\n",
    "xi_hat = np.concatenate((P_BOSS[1], P_BOSS[2]))\n",
    "gparams = {'logMmin': 13.9383, 'sigma_sq': 0.7918725**2, 'logM1': 14.4857, 'alpha': 1.19196,  'kappa': 0.600692, \n",
    "          'poff': 0.0, 'Roff': 2.0, 'alpha_inc': 0., 'logM_inc': 0., 'cM_fac': 1., 'sigv_fac': 1., 'P_shot': 0.}\n",
    "\n",
    "def xi_pi(params, gparams):\n",
    "    \"\"\"\n",
    "    Calculates the model vector using Yosuke's galaxy power spectrum emulator\n",
    "    \"\"\"\n",
    "    h = params[0] / 100\n",
    "    omch2 = params[1]\n",
    "    ombh2 = params[2]\n",
    "    #assert omch2 <= 0.131780\n",
    "    As = params[3] #torch.log(1e10 * params[3])\n",
    "    #assert As >= 2.47520\n",
    "    ns = 0.965\n",
    "    Om0 = (omch2 + ombh2 + 0.00064) / (h**2)\n",
    "    \n",
    "    # rebuild parameters into correct format (ombh2, omch2, 1-Om0, ln As, ns, w)\n",
    "    cparams = np.array([ombh2, omch2, 1-Om0, As, ns, -1])\n",
    "    redshift = 0.5\n",
    "    k = np.linspace(0.005, 0.25, 50)\n",
    "    mu = np.linspace(0.1,0.9,4)\n",
    "    alpha_perp = 1.1\n",
    "    alpha_para = 1\n",
    "\n",
    "    pgg.set_cosmology(cparams, redshift)\n",
    "    pgg.set_galaxy(gparams)\n",
    "    P0_emu = pgg.get_pl_gg_ref(0, k, alpha_perp, alpha_para, name='total')\n",
    "    P2_emu = pgg.get_pl_gg_ref(2, k, alpha_perp, alpha_para, name='total')\n",
    "    return np.concatenate((P0_emu, P2_emu))\n",
    "    \n",
    "def chi_squared(C, params):\n",
    "    P = np.linalg.inv(C)\n",
    "    x = xi_hat - xi_pi(params, gparams)\n",
    "    return np.matmul(x.T, np.matmul(P, x))\n",
    "\n",
    "def signal_to_noise(C):\n",
    "    return 0"
   ]
  },
  {
   "cell_type": "markdown",
   "id": "f048594e-d53f-431d-bf98-9f27291ea606",
   "metadata": {},
   "source": [
    "We have 3 sets of networks to laod in. 1) networks with no extra data decomposition, 2) networks with Cholesky decomposition, and 3) networks with correlation matrix decomposition"
   ]
  },
  {
   "cell_type": "code",
   "execution_count": 18,
   "id": "8d4af7fe-a190-4698-a79b-3f5da6036283",
   "metadata": {},
   "outputs": [
    {
     "data": {
      "text/plain": [
       "<All keys matched successfully>"
      ]
     },
     "execution_count": 18,
     "metadata": {},
     "output_type": "execute_result"
    }
   ],
   "source": [
    "VAE_vanilla     = CovNet.Network_VAE().to(CovNet.try_gpu());      VAE_vanilla.eval()\n",
    "VAE_cholesky    = CovNet.Network_VAE(True).to(CovNet.try_gpu());  VAE_cholesky.eval()\n",
    "VAE_correlation = CovNet.Network_VAE().to(CovNet.try_gpu());      VAE_correlation.eval()\n",
    "decoder_vanilla     = CovNet.Block_Decoder().to(CovNet.try_gpu());     decoder_vanilla.eval()\n",
    "decoder_cholesky    = CovNet.Block_Decoder(True).to(CovNet.try_gpu()); decoder_cholesky.eval()\n",
    "decoder_correlation = CovNet.Block_Decoder().to(CovNet.try_gpu());     decoder_correlation.eval()\n",
    "net_vanilla     = CovNet.Network_Features(6, 10).to(CovNet.try_gpu())\n",
    "net_cholesky    = CovNet.Network_Features(6, 10).to(CovNet.try_gpu())\n",
    "net_correlation = CovNet.Network_Features(6, 10).to(CovNet.try_gpu())\n",
    "\n",
    "VAE_vanilla.load_state_dict(torch.load(data_dir+'No-decomp/network-VAE.params', map_location=CovNet.try_gpu()))\n",
    "VAE_cholesky.load_state_dict(torch.load(data_dir+'Cholesky-decomp/network-VAE.params', map_location=CovNet.try_gpu()))\n",
    "VAE_correlation.load_state_dict(torch.load(data_dir+'Correlation-decomp/network-VAE.params', map_location=CovNet.try_gpu()))\n",
    "decoder_vanilla.load_state_dict(VAE_vanilla.Decoder.state_dict())\n",
    "decoder_cholesky.load_state_dict(VAE_cholesky.Decoder.state_dict())\n",
    "decoder_correlation.load_state_dict(VAE_correlation.Decoder.state_dict())\n",
    "net_vanilla.load_state_dict(torch.load(data_dir+\"No-decomp/network-features.params\", map_location=CovNet.try_gpu()))\n",
    "net_cholesky.load_state_dict(torch.load(data_dir+\"Cholesky-decomp/network-features.params\", map_location=CovNet.try_gpu()))\n",
    "net_correlation.load_state_dict(torch.load(data_dir+\"Correlation-decomp/network-features.params\", map_location=CovNet.try_gpu()))"
   ]
  },
  {
   "cell_type": "code",
   "execution_count": 19,
   "id": "661583e7-f0cd-4300-b1a6-ceac78b5d8f2",
   "metadata": {},
   "outputs": [
    {
     "data": {
      "text/plain": [
       "<All keys matched successfully>"
      ]
     },
     "execution_count": 19,
     "metadata": {},
     "output_type": "execute_result"
    }
   ],
   "source": [
    "# Load in all the quad networks (there are lots so I split this into its own cell)\n",
    "net_q1 = CovNet.Network_VAE_Quad(50, True).to(CovNet.try_gpu()); net_q2 = CovNet.Network_VAE_Quad(50, True).to(CovNet.try_gpu()); net_q3 = CovNet.Network_VAE_Quad(50, False).to(CovNet.try_gpu())\n",
    "decoder_q1 = CovNet.Block_Decoder_Quad(50, True).to(CovNet.try_gpu()); decoder_q2 = CovNet.Block_Decoder_Quad(50, True).to(CovNet.try_gpu()); decoder_q3 = CovNet.Block_Decoder_Quad(50, False).to(CovNet.try_gpu())\n",
    "net_f1 = CovNet.Network_Features(6, 10).to(CovNet.try_gpu()); net_f2 = CovNet.Network_Features(6, 10).to(CovNet.try_gpu()); net_f3 = CovNet.Network_Features(6, 10).to(CovNet.try_gpu())\n",
    "decoder_q1.eval(); decoder_q2.eval(); decoder_q3.eval(); net_f1.eval(); net_f2.eval(); net_f3.eval()\n",
    "\n",
    "net_q1.load_state_dict(torch.load(data_dir+\"Quad-decomp/network-VAE-q1.params\", map_location=CovNet.try_gpu()))\n",
    "net_q2.load_state_dict(torch.load(data_dir+\"Quad-decomp/network-VAE-q2.params\", map_location=CovNet.try_gpu()))\n",
    "net_q3.load_state_dict(torch.load(data_dir+\"Quad-decomp/network-VAE-q3.params\", map_location=CovNet.try_gpu()))          \n",
    "decoder_q1.load_state_dict(net_q1.Decoder.state_dict()); decoder_q2.load_state_dict(net_q2.Decoder.state_dict()); decoder_q3.load_state_dict(net_q3.Decoder.state_dict())\n",
    "net_f1.load_state_dict(torch.load(data_dir+\"Quad-decomp/network-latent-q1.params\", map_location=CovNet.try_gpu()))\n",
    "net_f2.load_state_dict(torch.load(data_dir+\"Quad-decomp/network-latent-q2.params\", map_location=CovNet.try_gpu()))\n",
    "net_f3.load_state_dict(torch.load(data_dir+\"Quad-decomp/network-latent-q3.params\", map_location=CovNet.try_gpu()))   "
   ]
  },
  {
   "cell_type": "code",
   "execution_count": 20,
   "id": "d2129b5c-fe6c-4bde-81bc-478642025611",
   "metadata": {},
   "outputs": [
    {
     "name": "stdout",
     "output_type": "stream",
     "text": [
      "Done loading in data, took 1.98 s\n"
     ]
    }
   ],
   "source": [
    "# load the VALIDATION set\n",
    "# Since this notebook is mostly checking what model works best, we don't want to use the test set to prevent overfitting\n",
    "t1 = time.time()\n",
    "test_data = CovNet.MatrixDataset(training_dir, N_test, int(N*0.8), False, False, False)\n",
    "t2 = time.time()\n",
    "print(\"Done loading in data, took {:0.2f} s\".format(t2 - t1))"
   ]
  },
  {
   "cell_type": "markdown",
   "id": "53c30597-870f-44c5-b080-65f0b92075af",
   "metadata": {},
   "source": [
    "Now let's setup the PCA emulator"
   ]
  },
  {
   "cell_type": "code",
   "execution_count": 21,
   "id": "a00a1257-5933-4ebf-9864-ded6a8862b02",
   "metadata": {},
   "outputs": [
    {
     "name": "stdout",
     "output_type": "stream",
     "text": [
      "matrix 14 has high assymetry!\n",
      "matrix 20 has high assymetry!\n",
      "matrix 52 has high assymetry!\n",
      "matrix 73 has high assymetry!\n",
      "matrix 74 has high assymetry!\n",
      "matrix 83 has high assymetry!\n",
      "matrix 91 has high assymetry!\n"
     ]
    }
   ],
   "source": [
    "N_C = 100\n",
    "C_PCA = np.zeros((N_C, 100, 100))\n",
    "params_PCA = np.zeros((N_C, 6))\n",
    "for i in range(N_C):\n",
    "    temp = np.load(PCA_dir+\"CovA-\"+f'{i:04d}'+\".npz\")\n",
    "    params_PCA[i] = np.delete(temp[\"params\"], 4)\n",
    "    C_PCA[i] = torch.from_numpy(temp[\"C\"])\n",
    "    \n",
    "    # if the matrix doesn't match the transpose close enough, manually flip over the diagonal\n",
    "    try:\n",
    "        np.testing.assert_allclose(C_PCA[i], C_PCA[i].T, err_msg=\"covariance must match transpose\")\n",
    "    except AssertionError:\n",
    "        print(\"matrix\", i, \"has high assymetry!\")\n",
    "        L = np.tril(C_PCA[i])\n",
    "        U = np.tril(C_PCA[i], k=-1).T\n",
    "        C_PCA[i] = L + U"
   ]
  },
  {
   "cell_type": "code",
   "execution_count": 22,
   "id": "ad59db12-c8a8-4642-9022-fd8a5ae26953",
   "metadata": {},
   "outputs": [],
   "source": [
    "Emu = ce.CovEmu(params_PCA, C_PCA, NPC_D=20, NPC_L=20)"
   ]
  },
  {
   "cell_type": "markdown",
   "id": "1d9aed6f-102b-48ba-be58-faa621ac3569",
   "metadata": {},
   "source": [
    "Now let's calculate the $\\chi^2$ errors for each of these networks and the PCA emulator"
   ]
  },
  {
   "cell_type": "code",
   "execution_count": 23,
   "id": "7fd40b2b-7aa7-40e6-9cb3-9c702045d25e",
   "metadata": {
    "scrolled": true,
    "tags": []
   },
   "outputs": [],
   "source": [
    "# error_vanilla, error_cholesky, error_correlation, error_PCA = np.zeros(N_test), np.zeros(N_test), np.zeros(N_test), np.zeros(N_test)\n",
    "# SN_true, SN_diff_vanilla, SN_diff_cholesky, SN_diff_corr, SN_diff_PCA = np.zeros(N_test), np.zeros(N_test), np.zeros(N_test), np.zeros(N_test), np.zeros(N_test)\n",
    "# Loss_vanilla, Loss_cholesky, Loss_corr, Loss_quad, Loss_PCA = np.zeros(N_test), np.zeros(N_test), np.zeros(N_test), np.zeros(N_test), np.zeros(N_test)\n",
    "# def get_net_info(idx):\n",
    "#     C = test_data[idx][1]\n",
    "#     params = test_data[idx][0]\n",
    "\n",
    "#     features = net_vanilla(params);     C_vanilla = decoder_vanilla(features.view(1,10)).view(100, 100)\n",
    "#     C_vanilla = CovNet.symmetric_exp(C_vanilla)\n",
    "#     features = net_cholesky(params);    C_cholesky = decoder_cholesky(features.view(1,10)).view(100, 100)\n",
    "#     C_cholesky = torch.matmul(CovNet.symmetric_exp(C_cholesky), torch.t(CovNet.symmetric_exp(C_cholesky)))\n",
    "#     features = net_correlation(params); C_correlation = decoder_correlation(features.view(1,10)).view(100, 100)\n",
    "#     C_correlation = CovNet.corr_to_cov(C_correlation)\n",
    "#     C_quad = CovNet.predict_quad(decoder_q1, decoder_q2, decoder_q3, net_f1, net_f2, net_f3, params).view(100,100)\n",
    "#     C_quad = CovNet.symmetric_exp(C_quad)\n",
    "#     C_PCA = Emu.predict(params.to(\"cpu\").detach().numpy())\n",
    "\n",
    "#     Loss_vanilla[idx] = F.l1_loss(C_vanilla, C, reduction=\"sum\")\n",
    "#     Loss_cholesky[idx] = F.l1_loss(C_cholesky, C, reduction=\"sum\")\n",
    "#     Loss_corr[idx] = F.l1_loss(C_correlation, C, reduction=\"sum\")\n",
    "#     Loss_quad[idx] = F.l1_loss(C_quad, C, reduction=\"sum\")\n",
    "#     Loss_PCA[idx] = F.l1_loss(torch.from_numpy(C_PCA).to(CovNet.try_gpu()), C, reduction=\"sum\")\n",
    "\n",
    "#     try:\n",
    "#         chisq = chi_squared(C.cpu(), params)\n",
    "#         chisq_vanilla = chi_squared(C_vanilla.to(\"cpu\").detach().numpy(), params)\n",
    "#         chisq_cholesky = chi_squared(C_cholesky.to(\"cpu\").detach().numpy(), params)\n",
    "#         chisq_correlation = chi_squared(C_correlation.to(\"cpu\").detach().numpy(), params)\n",
    "#         chisq_PCA = chi_squared(C_PCA, params)\n",
    "#     except AssertionError:\n",
    "#         return error_vanilla\n",
    "\n",
    "#     SN = signal_to_noise(C.cpu())\n",
    "#     SN_vanilla = signal_to_noise(C_vanilla.to(\"cpu\").detach().numpy())\n",
    "#     SN_cholesky = signal_to_noise(C_cholesky.to(\"cpu\").detach().numpy())\n",
    "#     SN_correlation = signal_to_noise(C_correlation.to(\"cpu\").detach().numpy())\n",
    "#     SN_PCA = signal_to_noise(C_PCA)\n",
    "\n",
    "#     error_vanilla[idx] = abs(chisq - chisq_vanilla)\n",
    "#     error_cholesky[idx] = abs(chisq - chisq_cholesky)\n",
    "#     error_correlation[idx] = abs(chisq - chisq_correlation)\n",
    "#     error_PCA[idx] = abs(chisq - chisq_PCA)\n",
    "#     SN_true[idx] = SN\n",
    "#     SN_diff_vanilla[idx] = SN_vanilla - SN\n",
    "#     SN_diff_cholesky[idx] = SN_cholesky - SN\n",
    "#     SN_diff_corr[idx] = SN_correlation - SN\n",
    "#     SN_diff_PCA[idx] = SN_PCA - SN\n",
    "    \n",
    "    # return error_vanilla"
   ]
  },
  {
   "cell_type": "code",
   "execution_count": 29,
   "id": "7d430bf1-823c-45c5-a66e-87d4169bae44",
   "metadata": {
    "scrolled": true,
    "tags": []
   },
   "outputs": [
    {
     "name": "stdout",
     "output_type": "stream",
     "text": [
      "Done!, took 7 minutes 59.58 seconds\n"
     ]
    }
   ],
   "source": [
    "# WARNING: this cell takes over an hour to run when doing the chi squared\n",
    "t1 = time.time()\n",
    "error_vanilla, error_cholesky, error_correlation, error_PCA = np.zeros(N_test), np.zeros(N_test), np.zeros(N_test), np.zeros(N_test)\n",
    "SN_true, SN_diff_vanilla, SN_diff_cholesky, SN_diff_corr, SN_diff_PCA = np.zeros(N_test), np.zeros(N_test), np.zeros(N_test), np.zeros(N_test), np.zeros(N_test)\n",
    "Loss_vanilla, Loss_cholesky, Loss_corr, Loss_quad, Loss_PCA = np.zeros(N_test), np.zeros(N_test), np.zeros(N_test), np.zeros(N_test), np.zeros(N_test)\n",
    "for idx in range(N_test):\n",
    "    C = test_data[idx][1]\n",
    "    params = test_data[idx][0]\n",
    "\n",
    "    features = net_vanilla(params);     C_vanilla = decoder_vanilla(features.view(1,10)).view(100, 100)\n",
    "    C_vanilla = CovNet.symmetric_exp(C_vanilla)\n",
    "    features = net_cholesky(params);    C_cholesky = decoder_cholesky(features.view(1,10)).view(100, 100)\n",
    "    C_cholesky = torch.matmul(CovNet.symmetric_exp(C_cholesky), torch.t(CovNet.symmetric_exp(C_cholesky)))\n",
    "    features = net_correlation(params); C_correlation = decoder_correlation(features.view(1,10)).view(100, 100)\n",
    "    C_correlation = CovNet.corr_to_cov(C_correlation)\n",
    "    C_quad = CovNet.predict_quad(decoder_q1, decoder_q2, decoder_q3, net_f1, net_f2, net_f3, params).view(100,100)\n",
    "    C_quad = CovNet.symmetric_exp(C_quad)\n",
    "    C_PCA = Emu.predict(params.to(\"cpu\").detach().numpy())\n",
    "\n",
    "    Loss_vanilla[idx] = F.l1_loss(C_vanilla, C, reduction=\"sum\")\n",
    "    Loss_cholesky[idx] = F.l1_loss(C_cholesky, C, reduction=\"sum\")\n",
    "    Loss_corr[idx] = F.l1_loss(C_correlation, C, reduction=\"sum\")\n",
    "    Loss_quad[idx] = F.l1_loss(C_quad, C, reduction=\"sum\")\n",
    "    Loss_PCA[idx] = F.l1_loss(torch.from_numpy(C_PCA).to(CovNet.try_gpu()), C, reduction=\"sum\")\n",
    "\n",
    "#     try:\n",
    "#         chisq = chi_squared(C.cpu(), params)\n",
    "#         chisq_vanilla = chi_squared(C_vanilla.to(\"cpu\").detach().numpy(), params)\n",
    "#         chisq_cholesky = chi_squared(C_cholesky.to(\"cpu\").detach().numpy(), params)\n",
    "#         chisq_correlation = chi_squared(C_correlation.to(\"cpu\").detach().numpy(), params)\n",
    "#         chisq_PCA = chi_squared(C_PCA, params)\n",
    "#     except AssertionError:\n",
    "#         continue\n",
    "\n",
    "#     SN = signal_to_noise(C.cpu())\n",
    "#     SN_vanilla = signal_to_noise(C_vanilla.to(\"cpu\").detach().numpy())\n",
    "#     SN_cholesky = signal_to_noise(C_cholesky.to(\"cpu\").detach().numpy())\n",
    "#     SN_correlation = signal_to_noise(C_correlation.to(\"cpu\").detach().numpy())\n",
    "#     SN_PCA = signal_to_noise(C_PCA)\n",
    "\n",
    "#     error_vanilla[idx] = abs(chisq - chisq_vanilla)\n",
    "#     error_cholesky[idx] = abs(chisq - chisq_cholesky)\n",
    "#     error_correlation[idx] = abs(chisq - chisq_correlation)\n",
    "#     error_PCA[idx] = abs(chisq - chisq_PCA)\n",
    "#     SN_true[idx] = SN\n",
    "#     SN_diff_vanilla[idx] = SN_vanilla - SN\n",
    "#     SN_diff_cholesky[idx] = SN_cholesky - SN\n",
    "#     SN_diff_corr[idx] = SN_correlation - SN\n",
    "#     SN_diff_PCA[idx] = SN_PCA - SN\n",
    "    \n",
    "# idx = range(15)\n",
    "# with Pool(processes=N_PROC) as pool:\n",
    "#     error_vanilla = pool.starmap(get_net_info, zip(idx))\n",
    "\n",
    "# print(error_vanilla[0], error_vanilla.shape)\n",
    "t2 = time.time()\n",
    "print(\"Done!, took {:0.0f} minutes {:0.2f} seconds\".format(math.floor((t2 - t1)/60), (t2 - t1)%60))"
   ]
  },
  {
   "cell_type": "code",
   "execution_count": 30,
   "id": "44f220d5-3909-43bd-a4cf-a4feea1f2d71",
   "metadata": {},
   "outputs": [
    {
     "name": "stderr",
     "output_type": "stream",
     "text": [
      "/home/joeadamo/virtual-enviornments/cov-env/lib/python3.8/site-packages/matplotlib/axes/_axes.py:6607: RuntimeWarning: All-NaN slice encountered\n",
      "  xmin = min(xmin, np.nanmin(xi))\n",
      "/home/joeadamo/virtual-enviornments/cov-env/lib/python3.8/site-packages/matplotlib/axes/_axes.py:6608: RuntimeWarning: All-NaN slice encountered\n",
      "  xmax = max(xmax, np.nanmax(xi))\n"
     ]
    },
    {
     "data": {
      "text/plain": [
       "<matplotlib.legend.Legend at 0x7f9339a62700>"
      ]
     },
     "execution_count": 30,
     "metadata": {},
     "output_type": "execute_result"
    },
    {
     "data": {
      "image/png": "[encoded data removed]",
      "text/plain": [
       "<Figure size 432x288 with 1 Axes>"
      ]
     },
     "metadata": {},
     "output_type": "display_data"
    }
   ],
   "source": [
    "plt.hist(Loss_vanilla, alpha=0.7, bins=np.logspace(np.log10(np.amin(Loss_vanilla)), np.log10(np.amax(Loss_vanilla)), 50), label=\"log C\")\n",
    "plt.hist(Loss_cholesky, alpha=0.7, bins=np.logspace(np.log10(np.amin(Loss_cholesky)), np.log10(np.amax(Loss_cholesky)), 50), label=\"Cholesky decomposition\")\n",
    "plt.hist(Loss_corr, alpha=0.7, bins=np.logspace(np.log10(np.amin(Loss_corr)), np.log10(np.amax(Loss_corr)), 50), label=\"Correlation matrix\")\n",
    "plt.hist(Loss_quad, alpha=0.7, bins=np.logspace(np.log10(np.amin(Loss_quad)), np.log10(np.amax(Loss_quad)), 50), label=\"Seperate quadrants\")\n",
    "plt.hist(Loss_PCA, alpha=0.7, bins=np.logspace(np.log10(np.amin(Loss_PCA)), np.log10(np.amax(Loss_PCA)), 50), label=\"PCA emulator\")\n",
    "plt.xlabel(r\"L1 hhLoss   $\\sum_{i,j} |\\hat{C}_{i,j} - C_{i,j}|$\")\n",
    "plt.ylabel(\"N\")\n",
    "plt.xscale(\"log\")\n",
    "plt.legend()"
   ]
  },
  {
   "cell_type": "code",
   "execution_count": null,
   "id": "535b39f9-11d0-4c44-b10d-58487b3eb8d7",
   "metadata": {},
   "outputs": [],
   "source": [
    "#error_vanilla = error_vanilla[(error_vanilla > 0)]\n",
    "#error_cholesky = error_cholesky[(error_cholesky > 0)]\n",
    "#error_correlation = error_correlation[(error_correlation > 0)]\n",
    "#error_PCA = error_PCA[(error_PCA > 0)]\n",
    "print(len(error_vanilla), np.amin(error_vanilla), np.amax(error_vanilla))\n",
    "plt.hist(error_vanilla, bins=np.logspace(np.log10(np.amin(error_vanilla)), np.log10(np.amax(error_vanilla)), 50), alpha=0.5, label=\"log C\")\n",
    "plt.hist(error_cholesky, bins=np.logspace(np.log10(np.amin(error_cholesky)), np.log10(np.amax(error_cholesky)), 50), alpha=0.5, label=\"Cholesky Decomposition\")\n",
    "plt.hist(error_correlation, bins=np.logspace(np.log10(np.amin(error_correlation)), np.log10(np.amax(error_correlation)), 50), alpha=0.5, label=\"Correlation Matrix\")\n",
    "plt.hist(error_PCA, bins=np.logspace(np.log10(np.amin(error_PCA)), np.log10(np.amax(error_PCA)), 50), alpha=0.5, label=\"PCA Emulator\")\n",
    "plt.xlabel(r\"$|\\chi_{predict}^2 - \\chi_{actual}^2|$\")\n",
    "plt.ylabel(\"N\")\n",
    "plt.xscale(\"log\")\n",
    "plt.legend()\n",
    "# TODO: find metrics to measure how well we're doing\n",
    "# S/N = x C^-1 x.T <- take sqrt = signal to noise - can find difference in S?N from using different C\n",
    "# create maps of S/N with a few of the parameters\n",
    "# try emulating quadrants seperately"
   ]
  },
  {
   "cell_type": "markdown",
   "id": "e01669b8-3a4b-4178-9bb8-f01521ac3758",
   "metadata": {},
   "source": [
    "Let's look at each network on an individual matrix level to see how they're doing"
   ]
  },
  {
   "cell_type": "code",
   "execution_count": null,
   "id": "db383205-fa95-4441-b0cb-35ca4e1f0fb1",
   "metadata": {},
   "outputs": [],
   "source": [
    "# Check that matrices with 2 different cosmologies are different\n",
    "idx1 = np.random.randint(0, N_test)\n",
    "idx2 = np.random.randint(0, N_test)\n",
    "params1 = test_data[idx1][0]; params2 = test_data[idx2][0]\n",
    "C_1 = test_data[idx1][1]; C_2 = test_data[idx2][1]\n",
    "\n",
    "features = net_vanilla(params1);     C_vanilla1 = decoder_vanilla(features.view(1,10)).view(100, 100)\n",
    "features = net_vanilla(params2);     C_vanilla2 = decoder_vanilla(features.view(1,10)).view(100, 100)\n",
    "C_vanilla1 = CovNet.symmetric_exp(C_vanilla1);  C_vanilla2 = CovNet.symmetric_exp(C_vanilla2)\n",
    "features = net_cholesky(params1);    C_cholesky1 = decoder_cholesky(features.view(1,10)).view(100, 100)\n",
    "features = net_cholesky(params2);    C_cholesky2 = decoder_cholesky(features.view(1,10)).view(100, 100)\n",
    "C_cholesky1 = torch.matmul(CovNet.symmetric_exp(C_cholesky1), torch.t(CovNet.symmetric_exp(C_cholesky1)))\n",
    "C_cholesky2 = torch.matmul(CovNet.symmetric_exp(C_cholesky2), torch.t(CovNet.symmetric_exp(C_cholesky2)))\n",
    "features = net_correlation(params1); C_correlation1 = decoder_correlation(features.view(1,10)).view(100, 100)\n",
    "features = net_correlation(params2); C_correlation2 = decoder_correlation(features.view(1,10)).view(100, 100)\n",
    "C_correlation1 = CovNet.corr_to_cov(C_correlation1); C_correlation2 = CovNet.corr_to_cov(C_correlation2)\n",
    "C_PCA1 = Emu.predict(params1.to(\"cpu\").detach().numpy())\n",
    "C_PCA2 = Emu.predict(params2.to(\"cpu\").detach().numpy())\n",
    "C_quad1 = CovNet.predict_quad(decoder_q1, decoder_q2, decoder_q3, net_f1, net_f2, net_f3, params1).view(100,100)\n",
    "C_quad2 = CovNet.predict_quad(decoder_q1, decoder_q2, decoder_q3, net_f1, net_f2, net_f3, params2).view(100,100)\n",
    "\n",
    "# If this plot has mostly 0's everywhere than the network isn't distiguishing between cosmologies!\n",
    "print(\"Indexes:\"+ str(idx1) +\",\", idx2)\n",
    "fig, axs = plt.subplots(3, 2, figsize=(9,12))\n",
    "fig.suptitle(\"Differences between cosmologies\")\n",
    "axs[0,0].set_title(\"CovaPT\")\n",
    "axs[0,1].set_title(\"log C\")\n",
    "axs[1,0].set_title(\"Cholesky decomp\")\n",
    "axs[1,1].set_title(\"Correlation matrix\")\n",
    "axs[2,0].set_title(\"PCA Emulator\")\n",
    "axs[2,1].set_title(\"Seperate Quadrants\")\n",
    "m = axs[0,0].imshow(abs(C_1 - C_2).cpu().detach().numpy())\n",
    "fig.colorbar(m, ax=axs[0,0])\n",
    "m = axs[0,1].imshow(abs(C_vanilla1 - C_vanilla2).cpu().detach().numpy(), vmin=torch.amin(abs(C_1 - C_2)), vmax=torch.amax(abs(C_1 - C_2)))\n",
    "fig.colorbar(m, ax=axs[0,1])\n",
    "m = axs[1,0].imshow(abs(C_cholesky1 - C_cholesky2).cpu().detach().numpy())\n",
    "fig.colorbar(m, ax=axs[1,0])\n",
    "m = axs[1,1].imshow(abs(C_correlation1 - C_correlation2).cpu().detach().numpy())\n",
    "fig.colorbar(m, ax=axs[1,1])\n",
    "m = axs[2,0].imshow(abs(C_PCA1 - C_PCA2))\n",
    "fig.colorbar(m, ax=axs[2,0])\n",
    "m = axs[2,1].imshow(abs(C_quad1 - C_quad2).cpu().detach().numpy())\n",
    "fig.colorbar(m, ax=axs[2,1])\n",
    "\n",
    "#axs[-1, -1].axis('off')\n",
    "fig.tight_layout()\n",
    "fig.subplots_adjust(top=0.94)\n",
    "\n",
    "print(F.l1_loss(C_vanilla1, C_1, reduction=\"sum\"))\n",
    "print(VAE_loss(C_vanilla1, C_1, torch.tensor([0]), torch.tensor([1]), 0))"
   ]
  },
  {
   "cell_type": "markdown",
   "id": "0e8f9cfb-8fec-40d1-b009-c963e3789efb",
   "metadata": {},
   "source": [
    "Let's also look at the training + validation loss graphs to make sure nothing fishy is going on"
   ]
  },
  {
   "cell_type": "code",
   "execution_count": null,
   "id": "2278e98c-caea-4672-98d8-e7c17d2d57b4",
   "metadata": {},
   "outputs": [],
   "source": [
    "train_loss_vanilla = torch.load(data_dir+\"No-decomp/train_loss.dat\")\n",
    "valid_loss_vanilla = torch.load(data_dir+\"No-decomp/valid_loss.dat\")\n",
    "train_loss_cholesky = torch.load(data_dir+\"Cholesky-decomp/train_loss.dat\")\n",
    "valid_loss_cholesky = torch.load(data_dir+\"Cholesky-decomp/valid_loss.dat\")\n",
    "train_loss_correlation = torch.load(data_dir+\"Correlation-decomp/train_loss.dat\")\n",
    "valid_loss_correlation = torch.load(data_dir+\"Correlation-decomp/valid_loss.dat\")\n",
    "train_loss_f_vanilla = torch.load(data_dir+\"No-decomp/train_loss-features.dat\")\n",
    "valid_loss_f_vanilla = torch.load(data_dir+\"No-decomp/valid_loss-features.dat\")\n",
    "train_loss_f_cholesky = torch.load(data_dir+\"Cholesky-decomp/train_loss-features.dat\")\n",
    "valid_loss_f_cholesky = torch.load(data_dir+\"Cholesky-decomp/valid_loss-features.dat\")\n",
    "train_loss_f_correlation = torch.load(data_dir+\"Correlation-decomp/train_loss-features.dat\")\n",
    "valid_loss_f_correlation = torch.load(data_dir+\"Correlation-decomp/valid_loss-features.dat\")\n",
    "loss_data_quad = torch.load(data_dir+\"Quad-decomp/loss_data.dat\")\n",
    "loss_data_f_quad = torch.load(data_dir+\"Quad-decomp/loss_data-features.dat\")\n",
    "\n",
    "fig, axs = plt.subplots(1,2,figsize=(12,4))\n",
    "fig.suptitle(\"Log C\")\n",
    "axs[0].set_title(\"VAE Network\")\n",
    "axs[1].set_title(\"features Network\")\n",
    "axs[0].plot(range(60), train_loss_vanilla, color=\"blue\", label=\"training loss\")\n",
    "axs[0].plot(range(60), valid_loss_vanilla, color=\"red\", ls=\"--\", label=\"validation loss\")\n",
    "axs[1].plot(range(130), train_loss_f_vanilla, color=\"blue\", label=\"training loss\")\n",
    "axs[1].plot(range(130), valid_loss_f_vanilla, color=\"red\", ls=\"--\", label=\"validation loss\")\n",
    "axs[0].set_xlabel(\"epoch\")\n",
    "axs[1].set_xlabel(\"epoch\")\n",
    "axs[0].legend()\n",
    "\n",
    "fig, axs = plt.subplots(1,2,figsize=(12,4))\n",
    "fig.suptitle(\"Cholesky Decomposition\")\n",
    "axs[0].set_title(\"VAE Network\")\n",
    "axs[1].set_title(\"features Network\")\n",
    "axs[0].plot(range(60), train_loss_cholesky, color=\"blue\", label=\"training loss\")\n",
    "axs[0].plot(range(60), valid_loss_cholesky, color=\"red\", ls=\"--\", label=\"validation loss\")\n",
    "axs[1].plot(range(130), train_loss_f_cholesky, color=\"blue\", label=\"training loss\")\n",
    "axs[1].plot(range(130), valid_loss_f_cholesky, color=\"red\", ls=\"--\", label=\"validation loss\")\n",
    "axs[0].set_xlabel(\"epoch\")\n",
    "axs[1].set_xlabel(\"epoch\")\n",
    "axs[0].legend()\n",
    "\n",
    "fig, axs = plt.subplots(1,2,figsize=(12,4))\n",
    "fig.suptitle(\"Correlation Matrix\")\n",
    "axs[0].set_title(\"VAE Network\")\n",
    "axs[1].set_title(\"features Network\")\n",
    "axs[0].plot(range(60), train_loss_correlation, color=\"blue\", label=\"training loss\")\n",
    "axs[0].plot(range(60), valid_loss_correlation, color=\"red\", ls=\"--\", label=\"validation loss\")\n",
    "axs[1].plot(range(130), train_loss_f_correlation, color=\"blue\", label=\"training loss\")\n",
    "axs[1].plot(range(130), valid_loss_f_correlation, color=\"red\", ls=\"--\", label=\"validation loss\")\n",
    "axs[0].set_xlabel(\"epoch\")\n",
    "axs[0].set_ylim(10, 100)\n",
    "axs[1].set_xlabel(\"epoch\")\n",
    "axs[0].legend()\n",
    "\n",
    "fig, axs = plt.subplots(1,2,figsize=(12,4))\n",
    "fig.suptitle(\"Correlation Matrix\")\n",
    "axs[0].set_title(\"VAE Network\")\n",
    "axs[1].set_title(\"features Network\")\n",
    "axs[0].plot(range(75), loss_data_quad[0,:], color=\"blue\", label=r\"$C_{0,0}$ quadrant\")\n",
    "axs[0].plot(range(75), loss_data_quad[1,:], color=\"red\", label=r\"$C_{2,2}$ quadrant\")\n",
    "axs[0].plot(range(75), loss_data_quad[2,:], color=\"green\", label=r\"$C_{0,2}$ quadrant\")\n",
    "axs[0].plot(range(75), loss_data_quad[3,:], color=\"blue\", ls=\"--\", label=\"validation loss\")\n",
    "axs[0].plot(range(75), loss_data_quad[4,:], color=\"red\", ls=\"--\")\n",
    "axs[0].plot(range(75), loss_data_quad[5,:], color=\"green\", ls=\"--\")\n",
    "axs[1].plot(range(130), loss_data_f_quad[0,:], color=\"blue\", label=\"training loss\")\n",
    "axs[1].plot(range(130), loss_data_f_quad[1,:], color=\"red\", label=\"training loss\")\n",
    "axs[1].plot(range(130), loss_data_f_quad[2,:], color=\"green\", label=\"training loss\")\n",
    "axs[1].plot(range(130), loss_data_f_quad[3,:], color=\"blue\", ls=\"--\", label=\"validation loss\")\n",
    "axs[1].plot(range(130), loss_data_f_quad[4,:], color=\"red\", ls=\"--\", label=\"validation loss\")\n",
    "axs[1].plot(range(130), loss_data_f_quad[5,:], color=\"green\", ls=\"--\", label=\"validation loss\")\n",
    "axs[0].set_xlabel(\"epoch\")\n",
    "#axs[0].set_ylim(10, 100)\n",
    "axs[1].set_xlabel(\"epoch\")\n",
    "axs[0].legend()"
   ]
  },
  {
   "cell_type": "markdown",
   "id": "92a55e14-a286-43dd-bff6-a2d6d57ad103",
   "metadata": {},
   "source": [
    "Let's look at how similar the training matrices are for each decomposition type, as matrices that are almost identical are going to be difficult for any neural network to distinguish between"
   ]
  },
  {
   "cell_type": "code",
   "execution_count": null,
   "id": "0f3a3e68-9999-4122-a543-d29178f154d6",
   "metadata": {},
   "outputs": [],
   "source": [
    "from CovNet import rearange_to_half\n",
    "M = 200\n",
    "\n",
    "def cov_to_corr(C):\n",
    "    D = torch.diag_embed(torch.sqrt(torch.diag(C)))\n",
    "    Corr = torch.matmul(torch.linalg.inv(D), torch.matmul(C, torch.linalg.inv(D)))\n",
    "    return Corr + (symmetric_log(D) - torch.eye(100))\n",
    "\n",
    "t1 = time.time()\n",
    "L_vanilla, L_cholesky, L_corr = np.zeros((M,M)), np.zeros((M,M)), np.zeros((M,M))\n",
    "for i in range(M):\n",
    "    C_1 = test_data[i][1].view(1,100,100)\n",
    "    L_1 = torch.linalg.cholesky(C_1)\n",
    "    Corr_1 = cov_to_corr(C_1.view(100,100)).view(1,100,100)\n",
    "    \n",
    "    #C_1 = rearange_to_half(C_1)\n",
    "    #L_1 = rearange_to_half(L_1)\n",
    "    #Corr_1 = rearange_to_half(Corr_1)\n",
    "    \n",
    "    for j in range(M):\n",
    "        C_2 = test_data[j][1].view(1,100,100)\n",
    "        L_2 = torch.linalg.cholesky(C_2)\n",
    "        Corr_2 = cov_to_corr(C_2.view(100,100)).view(1,100,100)\n",
    "\n",
    "        #C_2 = rearange_to_half(C_2)\n",
    "        #L_2 = rearange_to_half(L_2)\n",
    "        #Corr_2 = rearange_to_half(Corr_2)\n",
    "    \n",
    "        # Since the network uses the L1 loss function to determine distance, let's use it to measure that here as well\n",
    "        L_vanilla[i,j] = F.l1_loss(C_1, C_2, reduction=\"sum\")\n",
    "        L_cholesky[i,j] = F.l1_loss(L_1, L_2, reduction=\"sum\")\n",
    "        L_corr[i,j] = F.l1_loss(Corr_1, Corr_2, reduction=\"sum\")\n",
    "    \n",
    "t2 = time.time()\n",
    "print(\"Done!, took {:0.0f} minutes {:0.2f} seconds\".format(math.floor((t2 - t1)/60), (t2 - t1)%60))"
   ]
  },
  {
   "cell_type": "code",
   "execution_count": null,
   "id": "b83fb086-ff64-4557-b1f1-4788a661707b",
   "metadata": {},
   "outputs": [],
   "source": [
    "plt.imshow(L_vanilla)\n",
    "plt.title(\"'defaul' matrix type\")\n",
    "cbar = plt.colorbar()\n",
    "\n",
    "plt.figure()\n",
    "plt.title(\"cholesky decomposition\")\n",
    "plt.imshow(L_cholesky)\n",
    "cbar = plt.colorbar()\n",
    "\n",
    "plt.figure()\n",
    "plt.title(\"correlation decomposition\")\n",
    "plt.imshow(L_corr)\n",
    "cbar = plt.colorbar()"
   ]
  },
  {
   "cell_type": "code",
   "execution_count": null,
   "id": "36ff64bc-66aa-4037-843b-fa0d147bbb85",
   "metadata": {},
   "outputs": [],
   "source": [
    "mu_v, med_v = np.mean(L_vanilla), np.median(L_vanilla)\n",
    "mu_l, med_l = np.mean(L_cholesky), np.median(L_cholesky)\n",
    "mu_c, med_c = np.mean(L_corr), np.median(L_corr)\n",
    "print(\"mean + var (log C)    = {:0.3f},  {:0.3f}\".format(mu_v, med_v))\n",
    "print(\"mean + var (cholesky) = {:0.3f},  {:0.3f}\".format(mu_l, med_l))\n",
    "print(\"mean + var (corr)     = {:0.3f},  {:0.3f}\".format(mu_c, med_c))"
   ]
  },
  {
   "cell_type": "code",
   "execution_count": null,
   "id": "72f82536-223b-4505-9489-4cbc8714eab5",
   "metadata": {},
   "outputs": [],
   "source": [
    "# Signal to noise is calculated using equation 8 in Wadeckar et al 2020\n",
    "def make_heatmap(x, y, z, bins):\n",
    "    x_new = np.linspace(np.amin(x), np.amax(x), bins+1)\n",
    "    y_new = np.linspace(np.amin(y), np.amax(y), bins+1)\n",
    "    z_new = np.zeros((bins,bins))\n",
    "    for i in range(bins):\n",
    "        for j in range(bins):\n",
    "            z_new[j,i] = np.mean(z[(x >= x_new[i]) & (x < x_new[i+1]) & (y >= y_new[j]) & (y < y_new[j+1])])\n",
    "    \n",
    "    return x_new, y_new, z_new"
   ]
  },
  {
   "cell_type": "code",
   "execution_count": null,
   "id": "489e465e-5f27-4e41-b0ad-07760b0b8c91",
   "metadata": {},
   "outputs": [],
   "source": [
    "params = test_data[:][0].cpu().detach().numpy()\n",
    "H0 = params[:,0]; Omega_m = params[:,1]; As = params[:,2]\n",
    "\n",
    "fig, axs = plt.subplots(2,2, figsize=(9,8))\n",
    "fig.suptitle(r\"$\\hat{\\xi}^T C_{CovaPT}^{-1} \\hat{\\xi}$\")\n",
    "X, Y, Z = make_heatmap(H0, Omega_m, SN_true, 40)\n",
    "m = axs[0,0].imshow(Z, aspect=\"auto\", extent=(X[0], X[-1], Y[0], Y[-1]))\n",
    "fig.colorbar(m, ax=axs[0,0], label=\"S/N\")\n",
    "\n",
    "X, Y, Z = make_heatmap(H0, As, SN_true, 40)\n",
    "m = axs[1,0].imshow(Z, aspect=\"auto\", extent=(X[0], X[-1], Y[0], Y[-1]))\n",
    "fig.colorbar(m, ax=axs[1,0], label=\"S/N\")\n",
    "\n",
    "X, Y, Z = make_heatmap(Omega_m, As, SN_true, 40)\n",
    "m = axs[1,1].imshow(Z, aspect=\"auto\", extent=(X[0], X[-1], Y[0], Y[-1]))\n",
    "fig.colorbar(m, ax=axs[1,1], label=\"S/N\")\n",
    "axs[0,0].set_ylabel(r\"$\\Omega_m$\")\n",
    "axs[1,0].set_xlabel(r\"$H_0$\")\n",
    "axs[1,0].set_ylabel(r\"$A_0$\")\n",
    "axs[1,1].set_xlabel(r\"$\\Omega_m$\")\n",
    "fig.tight_layout()\n",
    "axs[0, 1].axis('off')\n",
    "\n",
    "fig, axs = plt.subplots(2,2, figsize=(9,8))\n",
    "fig.suptitle(r\"$S/N_{net} - S/N_{CovaPT}$\")\n",
    "X, Y, Z = make_heatmap(H0, Omega_m, SN_diff_vanilla, 40)\n",
    "m = axs[0,0].imshow(Z, aspect=\"auto\", cmap=\"RdBu\", extent=(X[0], X[-1], Y[0], Y[-1]))\n",
    "fig.colorbar(m, ax=axs[0,0], label=\"S/N\")\n",
    "\n",
    "X, Y, Z = make_heatmap(H0, As, SN_diff_vanilla, 40)\n",
    "m = axs[1,0].imshow(Z, aspect=\"auto\", cmap=\"RdBu\", extent=(X[0], X[-1], Y[0], Y[-1]))\n",
    "fig.colorbar(m, ax=axs[1,0], label=\"S/N\")\n",
    "\n",
    "X, Y, Z = make_heatmap(Omega_m, As, SN_diff_vanilla, 40)\n",
    "m = axs[1,1].imshow(Z, aspect=\"auto\", cmap=\"RdBu\", extent=(X[0], X[-1], Y[0], Y[-1]))\n",
    "fig.colorbar(m, ax=axs[1,1], label=\"S/N\")\n",
    "axs[0,0].set_ylabel(r\"$\\Omega_m$\")\n",
    "axs[1,0].set_xlabel(r\"$H_0$\")\n",
    "axs[1,0].set_ylabel(r\"$A_0$\")\n",
    "axs[1,1].set_xlabel(r\"$\\Omega_m$\")\n",
    "fig.tight_layout()\n",
    "axs[0, 1].axis('off')\n",
    "\n",
    "fig, axs = plt.subplots(2,2, figsize=(9,8))\n",
    "fig.suptitle(r\"$S/N_{PCA} - S/N_{CovaPT}$\")\n",
    "X, Y, Z = make_heatmap(H0, Omega_m, SN_diff_PCA, 40)\n",
    "m = axs[0,0].imshow(Z, aspect=\"auto\", cmap=\"RdBu\", extent=(X[0], X[-1], Y[0], Y[-1]))\n",
    "fig.colorbar(m, ax=axs[0,0], label=\"S/N\")\n",
    "\n",
    "X, Y, Z = make_heatmap(H0, As, SN_diff_PCA, 40)\n",
    "m = axs[1,0].imshow(Z, aspect=\"auto\", cmap=\"RdBu\", extent=(X[0], X[-1], Y[0], Y[-1]))\n",
    "fig.colorbar(m, ax=axs[1,0], label=\"S/N\")\n",
    "\n",
    "X, Y, Z = make_heatmap(Omega_m, As, SN_diff_PCA, 40)\n",
    "m = axs[1,1].imshow(Z, aspect=\"auto\", cmap=\"RdBu\", extent=(X[0], X[-1], Y[0], Y[-1]))\n",
    "fig.colorbar(m, ax=axs[1,1], label=\"S/N\")\n",
    "axs[0,0].set_ylabel(r\"$\\Omega_m$\")\n",
    "axs[1,0].set_xlabel(r\"$H_0$\")\n",
    "axs[1,0].set_ylabel(r\"$A_0$\")\n",
    "axs[1,1].set_xlabel(r\"$\\Omega_m$\")\n",
    "fig.tight_layout()\n",
    "axs[0, 1].axis('off')"
   ]
  },
  {
   "cell_type": "code",
   "execution_count": null,
   "id": "04047623-263e-4cb6-99ff-6e3202747a7c",
   "metadata": {},
   "outputs": [],
   "source": [
    "idx = np.random.randint(0, N_test)\n",
    "params = test_data[idx][0]\n",
    "features = net_cholesky(params);    C_cholesky = decoder_cholesky(features.view(1,10)).view(100, 100)\n",
    "#C_cholesky = symmetric_log(torch.matmul(CovNet.symmetric_exp(C_cholesky), torch.t(CovNet.symmetric_exp(C_cholesky)))).cpu().detach().numpy()\n",
    "C_cholesky = C_cholesky.cpu().detach().numpy()\n",
    "plt.imshow(C_cholesky, cmap=\"RdBu\")"
   ]
  },
  {
   "cell_type": "code",
   "execution_count": null,
   "id": "76b5e415-a681-4347-a3a1-87e12eb2f767",
   "metadata": {},
   "outputs": [],
   "source": []
  }
 ],
 "metadata": {
  "kernelspec": {
   "display_name": "Python 3 (ipykernel)",
   "language": "python",
   "name": "python3"
  },
  "language_info": {
   "codemirror_mode": {
    "name": "ipython",
    "version": 3
   },
   "file_extension": ".py",
   "mimetype": "text/x-python",
   "name": "python",
   "nbconvert_exporter": "python",
   "pygments_lexer": "ipython3",
   "version": "3.8.10"
  }
 },
 "nbformat": 4,
 "nbformat_minor": 5
}
