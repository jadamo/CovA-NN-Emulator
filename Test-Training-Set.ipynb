{
 "cells": [
  {
   "cell_type": "markdown",
   "metadata": {},
   "source": [
    "This jupyter notebook is here to test properties of the training set (positive-defineteness, symmetry, etc)"
   ]
  },
  {
   "cell_type": "code",
   "execution_count": 1,
   "metadata": {},
   "outputs": [],
   "source": [
    "%matplotlib inline\n",
    "import torch\n",
    "import torch.nn as nn\n",
    "from torch.nn import functional as F\n",
    "from os.path import exists\n",
    "import numpy as np\n",
    "import time, math, sys\n",
    "import matplotlib.pyplot as plt\n",
    "import matplotlib.colors as colors\n",
    "plt.rcParams['figure.facecolor'] = 'white'\n",
    "\n",
    "from CovNet import Network_Full, Network_ReverseVGG, MatrixDataset, symmetric_log, symmetric_exp, matrix_loss"
   ]
  },
  {
   "cell_type": "code",
   "execution_count": 2,
   "metadata": {},
   "outputs": [],
   "source": [
    "train_log = False\n",
    "train_inverse = False\n",
    "N = 52500\n",
    "training_dir = \"/home/joeadamo/Research/Data/Training-Set/\"\n",
    "save_dir = \"/home/joeadamo/Research/CovA-NN-Emulator/Plots/\"\n",
    "BOSS_dir = \"/home/joeadamo/Research/Data/BOSS-DR12/\"\n",
    "CovaPT_dir = \"/home/joeadamo/Research/CovaPT/Example-Data/\""
   ]
  },
  {
   "cell_type": "code",
   "execution_count": 3,
   "metadata": {},
   "outputs": [
    {
     "name": "stdout",
     "output_type": "stream",
     "text": [
      "Done loading in data, took 231.63 s\n"
     ]
    }
   ],
   "source": [
    "t1 = time.time()\n",
    "data = MatrixDataset(training_dir, N, 0, train_log, train_inverse)\n",
    "t2 = time.time()\n",
    "print(\"Done loading in data, took {:0.2f} s\".format(t2 - t1))"
   ]
  },
  {
   "cell_type": "code",
   "execution_count": 5,
   "metadata": {},
   "outputs": [
    {
     "name": "stdout",
     "output_type": "stream",
     "text": [
      "Done! took 4 minutes 33.79 seconds\n",
      "0 Matrices have non-positive diagonals\n",
      "11200 (21.33%) Matrices are assymetric\n",
      "min / max symmetric val: [1.000e-14, 5.899e-13] (avg = 5.135e-14\n",
      "0 Matrices don't have all positive eigenvalues\n"
     ]
    }
   ],
   "source": [
    "non_positive_diag = []\n",
    "non_symmetric = []\n",
    "non_definete = []\n",
    "t1 = time.time()\n",
    "\n",
    "min_asym = 10000; max_asym = 0; avg_asym = 0.\n",
    "# first test the base matrix\n",
    "for i in range(N):\n",
    "    C = data[i][1].detach().numpy()\n",
    "    \n",
    "    # test diagonal is all positives\n",
    "    for i in range(C.shape[0]):\n",
    "        if C[i,i] <= 0:\n",
    "            non_positive_diag.append(i)\n",
    "            break\n",
    "    \n",
    "    # test assymetry\n",
    "    C_sym = 0.5*(C + C.T)\n",
    "    C_asym = 0.5*(C - C.T)\n",
    "    symmetric_val = np.linalg.norm(C_asym, 2) / np.linalg.norm(C_sym, 2)\n",
    "    if abs(symmetric_val) > 1e-14: # this number should be 0 if the matrix is symmetric\n",
    "        non_symmetric.append(i)\n",
    "        min_asym = min(symmetric_val, min_asym); max_asym = max(symmetric_val, max_asym)\n",
    "        avg_asym += symmetric_val\n",
    "    \n",
    "    # test eigenvalues are all positive\n",
    "    eigen, v = np.linalg.eig(C)\n",
    "    if np.all(eigen > 0.) == False:\n",
    "        non_definete.append(i)\n",
    "        \n",
    "t2 = time.time()\n",
    "print(\"Done! took {:0.0f} minutes {:0.2f} seconds\".format(math.floor((t2 - t1)/60), (t2 - t1)%60))\n",
    "print(len(non_positive_diag), \"Matrices have non-positive diagonals\")\n",
    "print(len(non_symmetric), \"({:0.2f}%) Matrices are assymetric\".format(100.*len(non_symmetric)/N))\n",
    "print(\"min / max symmetric val: [{:0.3e}, {:0.3e}] (avg = {:0.3e}\".format(min_asym, max_asym, avg_asym / len(non_symmetric)))\n",
    "print(len(non_definete), \"Matrices don't have all positive eigenvalues\")"
   ]
  },
  {
   "cell_type": "code",
   "execution_count": 6,
   "metadata": {},
   "outputs": [
    {
     "name": "stdout",
     "output_type": "stream",
     "text": [
      "Done! took 5 minutes 32.72 seconds\n",
      "0 Matrices have non-positive diagonals\n",
      "17681 (33.68%) Matrices are assymetric\n",
      "min / max symmetric val: [1.001e-14, 5.529e-09] (avg = 1.152e-12\n",
      "0 Matrices don't have all positive eigenvalues\n"
     ]
    }
   ],
   "source": [
    "# now test the inverse matrix\n",
    "\n",
    "non_positive_diag_inv = []\n",
    "non_symmetric_inv = []\n",
    "non_definete_inv = []\n",
    "min_asym = 10000; max_asym = 0; avg_asym = 0.\n",
    "t1 = time.time()\n",
    "for i in range(N):\n",
    "    C = data[i][1].detach().numpy()\n",
    "    P = np.linalg.inv(C)\n",
    "    \n",
    "    # test diagonal is all positives\n",
    "    for i in range(C.shape[0]):\n",
    "        if P[i,i] <= 0:\n",
    "            non_positive_diag_inv.append(i)\n",
    "            break\n",
    "    \n",
    "    # test assymetry\n",
    "    P_sym = 0.5*(P + P.T)\n",
    "    P_asym = 0.5*(P - P.T)\n",
    "    symmetric_val = np.linalg.norm(P_asym, 2) / np.linalg.norm(P_sym, 2)\n",
    "    if abs(symmetric_val) > 1e-14: # this number should be 0 if the matrix is symmetric\n",
    "        non_symmetric_inv.append(i)\n",
    "        min_asym = min(symmetric_val, min_asym); max_asym = max(symmetric_val, max_asym)\n",
    "        avg_asym += symmetric_val\n",
    "    \n",
    "    # test eigenvalues are all positive\n",
    "    eigen, v = np.linalg.eig(P)\n",
    "    if np.all(eigen > 0.) == False:\n",
    "        non_definete_inv.append(i)\n",
    "        \n",
    "t2 = time.time()\n",
    "print(\"Done! took {:0.0f} minutes {:0.2f} seconds\".format(math.floor((t2 - t1)/60), (t2 - t1)%60))\n",
    "print(len(non_positive_diag_inv), \"Matrices have non-positive diagonals\")\n",
    "print(len(non_symmetric_inv), \"({:0.2f}%) Matrices are assymetric\".format(100.*len(non_symmetric_inv)/N))\n",
    "print(\"min / max symmetric val: [{:0.3e}, {:0.3e}] (avg = {:0.3e}\".format(min_asym, max_asym, avg_asym / len(non_symmetric)))\n",
    "print(len(non_definete_inv), \"Matrices don't have all positive eigenvalues\")"
   ]
  },
  {
   "cell_type": "code",
   "execution_count": null,
   "metadata": {},
   "outputs": [],
   "source": []
  }
 ],
 "metadata": {
  "kernelspec": {
   "display_name": "Python 3",
   "language": "python",
   "name": "python3"
  },
  "language_info": {
   "codemirror_mode": {
    "name": "ipython",
    "version": 3
   },
   "file_extension": ".py",
   "mimetype": "text/x-python",
   "name": "python",
   "nbconvert_exporter": "python",
   "pygments_lexer": "ipython3",
   "version": "3.8.10"
  }
 },
 "nbformat": 4,
 "nbformat_minor": 4
}
